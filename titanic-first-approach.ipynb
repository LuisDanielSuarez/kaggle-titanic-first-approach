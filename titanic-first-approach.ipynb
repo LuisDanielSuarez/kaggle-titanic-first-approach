{
 "cells": [
  {
   "cell_type": "code",
   "execution_count": 1,
   "id": "e18fc934",
   "metadata": {
    "_cell_guid": "b1076dfc-b9ad-4769-8c92-a6c4dae69d19",
    "_uuid": "8f2839f25d086af736a60e9eeb907d3b93b6e0e5",
    "execution": {
     "iopub.execute_input": "2023-04-29T01:06:25.366233Z",
     "iopub.status.busy": "2023-04-29T01:06:25.365728Z",
     "iopub.status.idle": "2023-04-29T01:06:26.649015Z",
     "shell.execute_reply": "2023-04-29T01:06:26.647707Z"
    },
    "papermill": {
     "duration": 1.314561,
     "end_time": "2023-04-29T01:06:26.652003",
     "exception": false,
     "start_time": "2023-04-29T01:06:25.337442",
     "status": "completed"
    },
    "tags": []
   },
   "outputs": [
    {
     "name": "stdout",
     "output_type": "stream",
     "text": [
      "Python version: 3.7.12 | packaged by conda-forge | (default, Oct 26 2021, 06:08:53) \n",
      "[GCC 9.4.0]\n",
      "numpy version: 1.21.6\n",
      "pandas version: 1.3.5\n",
      "scipy version: 1.7.3\n",
      "matplotlib version: 3.5.3\n",
      "seaborn version: 0.11.2\n",
      "scikit-learn version: 1.0.2\n",
      "/kaggle/input/titanic/train.csv\n",
      "/kaggle/input/titanic/test.csv\n",
      "/kaggle/input/titanic/gender_submission.csv\n"
     ]
    }
   ],
   "source": [
    "# This Python 3 environment comes with many helpful analytics libraries installed\n",
    "# It is defined by the kaggle/python Docker image: https://github.com/kaggle/docker-python\n",
    "# For example, here's several helpful packages to load\n",
    "\n",
    "# import packages and check versions\n",
    "import sys\n",
    "print(\"Python version: {}\". format(sys.version))\n",
    "import numpy as np # linear algebra\n",
    "print(\"numpy version: {}\". format(np.__version__))\n",
    "import pandas as pd # data processing, CSV file I/O\n",
    "print(\"pandas version: {}\". format(pd.__version__))\n",
    "import scipy as sp\n",
    "print(\"scipy version: {}\". format(sp.__version__))\n",
    "import matplotlib\n",
    "print(\"matplotlib version: {}\". format(matplotlib.__version__))\n",
    "import matplotlib.pyplot as plt\n",
    "import seaborn as sns\n",
    "print(\"seaborn version: {}\". format(sns.__version__))\n",
    "import sklearn\n",
    "print(\"scikit-learn version: {}\". format(sklearn.__version__))\n",
    "from IPython.display import display, display_markdown # displays dataframe in pretty format\n",
    "\n",
    "\n",
    "# Input data files are available in the read-only \"../input/\" directory\n",
    "# list all files under the input directory\n",
    "\n",
    "import os\n",
    "for dirname, _, filenames in os.walk('/kaggle/input'):\n",
    "    for filename in filenames:\n",
    "        print(os.path.join(dirname, filename))\n",
    "\n",
    "# You can write up to 20GB to the current directory (/kaggle/working/) that gets preserved as output when you create a version using \"Save & Run All\" \n",
    "# You can also write temporary files to /kaggle/temp/, but they won't be saved outside of the current session"
   ]
  },
  {
   "cell_type": "markdown",
   "id": "fd2a2f80",
   "metadata": {
    "papermill": {
     "duration": 0.024841,
     "end_time": "2023-04-29T01:06:26.701805",
     "exception": false,
     "start_time": "2023-04-29T01:06:26.676964",
     "status": "completed"
    },
    "tags": []
   },
   "source": [
    "[\\\\]: # \"I'm a comment, I need an empty line before me and quotes (can use perentheses instead of quotes)\n",
    "And can be in multiple lines\"\n",
    "\n",
    "# Index\n",
    "\n",
    "## [The Data Set - Overview](#dataset_overview)\n",
    "+ ### [Kaggle's Data Set documentation](#dataset_documentation)\n",
    "+ ### [Data Set description](#dataset_description)\n",
    "\n",
    "## [The Data Set - Features](#features_description)\n",
    "+ ### [Sex](#features_sex)\n",
    "+ ### [Age](#features_age)\n",
    "+ ### [Family relations](#features_SibSp_Parch)\n",
    "+ ### [Cabin](#features_cabin)\n",
    "+ ### [Fare](#features_fare)\n",
    "+ ### [Embarked](#features_embarked)\n",
    "+ ### [Ticket](#features_ticket)\n",
    "+ ### [Association between features and target](#features_correlation)\n",
    "\n",
    "## [Feature Engineering](#feature_engineering)\n",
    "+ ### [Name - Honorifics](#featureEng_honor)\n",
    "+ ### [Tickets shared between passengers](#featureEng_Share_ticket)\n",
    "+ ### [Cabin - OHE](#featureEng_Cabin)\n",
    "+ ### [Family - Amount of relatives on board](#featureEng_Family)\n",
    "+ ### [Age - Imputting missing values](#featureEng_Age)\n",
    "+ ### [Embarked](#featureEng_Embarked)\n",
    "\n",
    "## [Modeling](#models)\n",
    "+ ### [Baselines with Logistic Regression and KNN](#LogReg_KNN)\n",
    "+ ### [Feature selection - Sex](#model_featureSelection_sex)\n",
    "+ ### [Feature selection - Embarked](#model_featureSelection_embarked)\n",
    "+ ### [Ensembles - Random Forest and XGBoost](#model_RForest)"
   ]
  },
  {
   "cell_type": "markdown",
   "id": "1d77d0e3",
   "metadata": {
    "papermill": {
     "duration": 0.024341,
     "end_time": "2023-04-29T01:06:26.751008",
     "exception": false,
     "start_time": "2023-04-29T01:06:26.726667",
     "status": "completed"
    },
    "tags": []
   },
   "source": [
    "# Loading the training database and overview <a id='dataset_overview'></a>"
   ]
  },
  {
   "cell_type": "markdown",
   "id": "52cda16f",
   "metadata": {
    "papermill": {
     "duration": 0.023907,
     "end_time": "2023-04-29T01:06:26.799312",
     "exception": false,
     "start_time": "2023-04-29T01:06:26.775405",
     "status": "completed"
    },
    "tags": []
   },
   "source": [
    "## Dataset Description<a id='dataset_documentation'>\n",
    "### Overview\n",
    "\n",
    "The data has been split into two groups:\n",
    "\n",
    "+ training set (train.csv)\n",
    "+ test set (test.csv)\n",
    "\n",
    "The training set should be used to build your machine learning models. For the training set, we provide the outcome (also known as the “ground truth”) for each passenger. Your model will be based on “features” like passengers’ gender and class. You can also use feature engineering to create new features.\n",
    "\n",
    "The test set should be used to see how well your model performs on unseen data. For the test set, we do not provide the ground truth for each passenger. It is your job to predict these outcomes. For each passenger in the test set, use the model you trained to predict whether or not they survived the sinking of the Titanic.\n",
    "\n",
    "### Data Dictionary\n",
    "\n",
    "<table style=\"margin:0\">\n",
    "    <tr><th>Variable</th><th>Definition</th><th>Key</th></tr>\n",
    "    <tr><td>survival</td><td>Survival</td><td>0 = No, 1 = Yes</td></tr>\n",
    "    <tr><td>pclass</td><td>Ticket class</td><td>1 = 1st, 2 = 2nd, 3 = 3rd</td></tr>\n",
    "    <tr><td>sex</td><td>Sex</td><td></td></tr>\n",
    "    <tr><td>Age</td><td>Age in years</td><td></td></tr>\n",
    "    <tr><td>sibsp</td><td># of siblings / spouses aboard the Titanic</td><td></td></tr>\n",
    "    <tr><td>parch</td><td># of parents / children aboard the Titanic</td><td></td></tr>\n",
    "    <tr><td>ticket</td><td>Ticket number</td><td></td></tr>\n",
    "    <tr><td>fare</td><td>Passenger fare</td><td></td></tr>\n",
    "    <tr><td>cabin</td><td>Cabin number</td><td></td></tr>\n",
    "    <tr><td>embarked</td><td>Port of Embarkation</td><td>C = Cherbourg, Q = Queenstown, S = Southampton</td></tr>\n",
    "</table>\n",
    "<br>\n",
    "\n",
    "### Variable Notes\n",
    "\n",
    "**pclass:** A proxy for socio-economic status (SES)\n",
    "1st = Upper\n",
    "2nd = Middle\n",
    "3rd = Lower\n",
    "\n",
    "**age**: Age is fractional if less than 1. If the age is estimated, is it in the form of xx.5\n",
    "\n",
    "**sibsp**: The dataset defines family relations in this way...\n",
    "+ Sibling = brother, sister, stepbrother, stepsister\n",
    "+ Spouse = husband, wife (mistresses and fiancés were ignored)\n",
    "\n",
    "**parch**: The dataset defines family relations in this way...\n",
    "+ Parent = mother, father\n",
    "+ Child = daughter, son, stepdaughter, stepson\n",
    "+ Some children travelled only with a nanny, therefore parch=0 for them.\n",
    "\n",
    "### Metric\n",
    "\n",
    "The score for the Kaggle competition will be the _accuracy_ of the predictions in the unlabeled test set.\n",
    "\n",
    "[The historical ceiling](https://www.kaggle.com/code/carlmcbrideellis/titanic-leaderboard-a-score-0-8-is-great) for this competition is about 82% accuracy.\n",
    "    \n",
    "<a id='dataset_description'>"
   ]
  },
  {
   "cell_type": "code",
   "execution_count": 2,
   "id": "881f107f",
   "metadata": {
    "execution": {
     "iopub.execute_input": "2023-04-29T01:06:26.851369Z",
     "iopub.status.busy": "2023-04-29T01:06:26.850944Z",
     "iopub.status.idle": "2023-04-29T01:06:26.906291Z",
     "shell.execute_reply": "2023-04-29T01:06:26.904794Z"
    },
    "papermill": {
     "duration": 0.084572,
     "end_time": "2023-04-29T01:06:26.908938",
     "exception": false,
     "start_time": "2023-04-29T01:06:26.824366",
     "status": "completed"
    },
    "tags": []
   },
   "outputs": [
    {
     "data": {
      "text/html": [
       "<div>\n",
       "<style scoped>\n",
       "    .dataframe tbody tr th:only-of-type {\n",
       "        vertical-align: middle;\n",
       "    }\n",
       "\n",
       "    .dataframe tbody tr th {\n",
       "        vertical-align: top;\n",
       "    }\n",
       "\n",
       "    .dataframe thead th {\n",
       "        text-align: right;\n",
       "    }\n",
       "</style>\n",
       "<table border=\"1\" class=\"dataframe\">\n",
       "  <thead>\n",
       "    <tr style=\"text-align: right;\">\n",
       "      <th></th>\n",
       "      <th>PassengerId</th>\n",
       "      <th>Survived</th>\n",
       "      <th>Pclass</th>\n",
       "      <th>Name</th>\n",
       "      <th>Sex</th>\n",
       "      <th>Age</th>\n",
       "      <th>SibSp</th>\n",
       "      <th>Parch</th>\n",
       "      <th>Ticket</th>\n",
       "      <th>Fare</th>\n",
       "      <th>Cabin</th>\n",
       "      <th>Embarked</th>\n",
       "    </tr>\n",
       "  </thead>\n",
       "  <tbody>\n",
       "    <tr>\n",
       "      <th>0</th>\n",
       "      <td>1</td>\n",
       "      <td>0</td>\n",
       "      <td>3</td>\n",
       "      <td>Braund, Mr. Owen Harris</td>\n",
       "      <td>male</td>\n",
       "      <td>22.0</td>\n",
       "      <td>1</td>\n",
       "      <td>0</td>\n",
       "      <td>A/5 21171</td>\n",
       "      <td>7.2500</td>\n",
       "      <td>NaN</td>\n",
       "      <td>S</td>\n",
       "    </tr>\n",
       "    <tr>\n",
       "      <th>1</th>\n",
       "      <td>2</td>\n",
       "      <td>1</td>\n",
       "      <td>1</td>\n",
       "      <td>Cumings, Mrs. John Bradley (Florence Briggs Th...</td>\n",
       "      <td>female</td>\n",
       "      <td>38.0</td>\n",
       "      <td>1</td>\n",
       "      <td>0</td>\n",
       "      <td>PC 17599</td>\n",
       "      <td>71.2833</td>\n",
       "      <td>C85</td>\n",
       "      <td>C</td>\n",
       "    </tr>\n",
       "    <tr>\n",
       "      <th>2</th>\n",
       "      <td>3</td>\n",
       "      <td>1</td>\n",
       "      <td>3</td>\n",
       "      <td>Heikkinen, Miss. Laina</td>\n",
       "      <td>female</td>\n",
       "      <td>26.0</td>\n",
       "      <td>0</td>\n",
       "      <td>0</td>\n",
       "      <td>STON/O2. 3101282</td>\n",
       "      <td>7.9250</td>\n",
       "      <td>NaN</td>\n",
       "      <td>S</td>\n",
       "    </tr>\n",
       "    <tr>\n",
       "      <th>3</th>\n",
       "      <td>4</td>\n",
       "      <td>1</td>\n",
       "      <td>1</td>\n",
       "      <td>Futrelle, Mrs. Jacques Heath (Lily May Peel)</td>\n",
       "      <td>female</td>\n",
       "      <td>35.0</td>\n",
       "      <td>1</td>\n",
       "      <td>0</td>\n",
       "      <td>113803</td>\n",
       "      <td>53.1000</td>\n",
       "      <td>C123</td>\n",
       "      <td>S</td>\n",
       "    </tr>\n",
       "    <tr>\n",
       "      <th>4</th>\n",
       "      <td>5</td>\n",
       "      <td>0</td>\n",
       "      <td>3</td>\n",
       "      <td>Allen, Mr. William Henry</td>\n",
       "      <td>male</td>\n",
       "      <td>35.0</td>\n",
       "      <td>0</td>\n",
       "      <td>0</td>\n",
       "      <td>373450</td>\n",
       "      <td>8.0500</td>\n",
       "      <td>NaN</td>\n",
       "      <td>S</td>\n",
       "    </tr>\n",
       "  </tbody>\n",
       "</table>\n",
       "</div>"
      ],
      "text/plain": [
       "   PassengerId  Survived  Pclass  \\\n",
       "0            1         0       3   \n",
       "1            2         1       1   \n",
       "2            3         1       3   \n",
       "3            4         1       1   \n",
       "4            5         0       3   \n",
       "\n",
       "                                                Name     Sex   Age  SibSp  \\\n",
       "0                            Braund, Mr. Owen Harris    male  22.0      1   \n",
       "1  Cumings, Mrs. John Bradley (Florence Briggs Th...  female  38.0      1   \n",
       "2                             Heikkinen, Miss. Laina  female  26.0      0   \n",
       "3       Futrelle, Mrs. Jacques Heath (Lily May Peel)  female  35.0      1   \n",
       "4                           Allen, Mr. William Henry    male  35.0      0   \n",
       "\n",
       "   Parch            Ticket     Fare Cabin Embarked  \n",
       "0      0         A/5 21171   7.2500   NaN        S  \n",
       "1      0          PC 17599  71.2833   C85        C  \n",
       "2      0  STON/O2. 3101282   7.9250   NaN        S  \n",
       "3      0            113803  53.1000  C123        S  \n",
       "4      0            373450   8.0500   NaN        S  "
      ]
     },
     "execution_count": 2,
     "metadata": {},
     "output_type": "execute_result"
    }
   ],
   "source": [
    "training_data = pd.read_csv('/kaggle/input/titanic/train.csv')\n",
    "test_data = pd.read_csv('/kaggle/input/titanic/test.csv')\n",
    "X = training_data.copy()\n",
    "y = X.pop('Survived')\n",
    "\n",
    "training_data.head()"
   ]
  },
  {
   "cell_type": "code",
   "execution_count": 3,
   "id": "319838f6",
   "metadata": {
    "execution": {
     "iopub.execute_input": "2023-04-29T01:06:26.962097Z",
     "iopub.status.busy": "2023-04-29T01:06:26.961362Z",
     "iopub.status.idle": "2023-04-29T01:06:27.013646Z",
     "shell.execute_reply": "2023-04-29T01:06:27.011535Z"
    },
    "papermill": {
     "duration": 0.081918,
     "end_time": "2023-04-29T01:06:27.016402",
     "exception": false,
     "start_time": "2023-04-29T01:06:26.934484",
     "status": "completed"
    },
    "tags": []
   },
   "outputs": [
    {
     "name": "stdout",
     "output_type": "stream",
     "text": [
      "<class 'pandas.core.frame.DataFrame'>\n",
      "RangeIndex: 891 entries, 0 to 890\n",
      "Data columns (total 12 columns):\n",
      " #   Column       Non-Null Count  Dtype  \n",
      "---  ------       --------------  -----  \n",
      " 0   PassengerId  891 non-null    int64  \n",
      " 1   Survived     891 non-null    int64  \n",
      " 2   Pclass       891 non-null    int64  \n",
      " 3   Name         891 non-null    object \n",
      " 4   Sex          891 non-null    object \n",
      " 5   Age          714 non-null    float64\n",
      " 6   SibSp        891 non-null    int64  \n",
      " 7   Parch        891 non-null    int64  \n",
      " 8   Ticket       891 non-null    object \n",
      " 9   Fare         891 non-null    float64\n",
      " 10  Cabin        204 non-null    object \n",
      " 11  Embarked     889 non-null    object \n",
      "dtypes: float64(2), int64(5), object(5)\n",
      "memory usage: 83.7+ KB\n",
      "\n",
      "\n",
      "<class 'pandas.core.frame.DataFrame'>\n",
      "RangeIndex: 418 entries, 0 to 417\n",
      "Data columns (total 11 columns):\n",
      " #   Column       Non-Null Count  Dtype  \n",
      "---  ------       --------------  -----  \n",
      " 0   PassengerId  418 non-null    int64  \n",
      " 1   Pclass       418 non-null    int64  \n",
      " 2   Name         418 non-null    object \n",
      " 3   Sex          418 non-null    object \n",
      " 4   Age          332 non-null    float64\n",
      " 5   SibSp        418 non-null    int64  \n",
      " 6   Parch        418 non-null    int64  \n",
      " 7   Ticket       418 non-null    object \n",
      " 8   Fare         417 non-null    float64\n",
      " 9   Cabin        91 non-null     object \n",
      " 10  Embarked     418 non-null    object \n",
      "dtypes: float64(2), int64(4), object(5)\n",
      "memory usage: 36.0+ KB\n",
      "\n",
      "\n",
      "\n",
      "PassengerId      int64\n",
      "Survived         int64\n",
      "Pclass           int64\n",
      "Name            object\n",
      "Sex             object\n",
      "Age            float64\n",
      "SibSp            int64\n",
      "Parch            int64\n",
      "Ticket          object\n",
      "Fare           float64\n",
      "Cabin           object\n",
      "Embarked        object\n",
      "dtype: object\n",
      "\n",
      "\n",
      "Total number of passengers:  1309\n"
     ]
    }
   ],
   "source": [
    "training_data.info()\n",
    "print('\\n')\n",
    "test_data.info()\n",
    "print('\\n\\n\\n', training_data.dtypes, '\\n\\n', sep='')\n",
    "training_data.describe()\n",
    "print('Total number of passengers: ', len(training_data)+len(test_data))"
   ]
  },
  {
   "cell_type": "markdown",
   "id": "cfc7ff42",
   "metadata": {
    "papermill": {
     "duration": 0.024715,
     "end_time": "2023-04-29T01:06:27.066401",
     "exception": false,
     "start_time": "2023-04-29T01:06:27.041686",
     "status": "completed"
    },
    "tags": []
   },
   "source": [
    "There are 891 passengers (ticket holders, staff is not included) in the training DB, 1309 in total (training plus test). Actual number of passengers was 1316, which means the Competition's database is nearly the complete population.\n",
    "\n",
    "Survival rate is .38\n",
    "\n",
    "Data is mostly complete, exept:\n",
    "\n",
    "+ for `Cabin`, data for less than a quarter of the passengers is available. Most of the data was likely [collected after the accident](#data_leakage).\n",
    "\n",
    "+ for `Age` more than 3/4 of the data is available.\n",
    "\n",
    "+ `Embarked` is missing in two rows from the training set\n",
    "\n",
    "+ `Fare` is missing in one row from the test set\n",
    "\n",
    "There are 5 numeric features (not including the target) and 5 cathegorical features from which two (`Sex` and `Embarked`) can be easily encoded into numerical ones.\n",
    "\n",
    "The order of `Embarked` was: Southampton (`S`) --> Cherbourg (`C`) --> Queenstown (`Q`)"
   ]
  },
  {
   "cell_type": "code",
   "execution_count": 4,
   "id": "2ab61c1a",
   "metadata": {
    "execution": {
     "iopub.execute_input": "2023-04-29T01:06:27.118192Z",
     "iopub.status.busy": "2023-04-29T01:06:27.117798Z",
     "iopub.status.idle": "2023-04-29T01:06:27.123572Z",
     "shell.execute_reply": "2023-04-29T01:06:27.122318Z"
    },
    "papermill": {
     "duration": 0.034461,
     "end_time": "2023-04-29T01:06:27.125943",
     "exception": false,
     "start_time": "2023-04-29T01:06:27.091482",
     "status": "completed"
    },
    "tags": []
   },
   "outputs": [],
   "source": [
    "numeric_features = ['Survived', 'Pclass', 'Age', 'SibSp', 'Parch', 'Fare']\n",
    "categorical_features = ['Name', 'Sex', 'Ticket', 'Cabin', 'Embarked']\n",
    "# print(categorical_features)\n",
    "# del(categorical_features[categorical_features.index('Cabin')])\n",
    "# categorical_features"
   ]
  },
  {
   "cell_type": "code",
   "execution_count": 5,
   "id": "2325fc4c",
   "metadata": {
    "execution": {
     "iopub.execute_input": "2023-04-29T01:06:27.179447Z",
     "iopub.status.busy": "2023-04-29T01:06:27.178597Z",
     "iopub.status.idle": "2023-04-29T01:06:27.974135Z",
     "shell.execute_reply": "2023-04-29T01:06:27.972947Z"
    },
    "papermill": {
     "duration": 0.825334,
     "end_time": "2023-04-29T01:06:27.976814",
     "exception": false,
     "start_time": "2023-04-29T01:06:27.151480",
     "status": "completed"
    },
    "tags": []
   },
   "outputs": [
    {
     "data": {
      "image/png": "[encoded data removed]",
      "text/plain": [
       "<Figure size 1080x504 with 6 Axes>"
      ]
     },
     "metadata": {
      "needs_background": "light"
     },
     "output_type": "display_data"
    }
   ],
   "source": [
    "plt.figure(figsize=(15,7))\n",
    "plt.subplots_adjust(hspace=0.5)\n",
    "\n",
    "for i, feature in enumerate(numeric_features):\n",
    "    ax = plt.subplot(2, 3, i + 1)  # 2 rows, 3 cols, index=i+1\n",
    "    plt.hist(training_data[feature])\n",
    "    plt.title(feature)\n",
    "\n",
    "plt.show()"
   ]
  },
  {
   "cell_type": "markdown",
   "id": "6a821261",
   "metadata": {
    "papermill": {
     "duration": 0.024707,
     "end_time": "2023-04-29T01:06:28.026719",
     "exception": false,
     "start_time": "2023-04-29T01:06:28.002012",
     "status": "completed"
    },
    "tags": []
   },
   "source": [
    "# Features<a id='features_description'></a>"
   ]
  },
  {
   "cell_type": "markdown",
   "id": "30eb4087",
   "metadata": {
    "papermill": {
     "duration": 0.02459,
     "end_time": "2023-04-29T01:06:28.076519",
     "exception": false,
     "start_time": "2023-04-29T01:06:28.051929",
     "status": "completed"
    },
    "tags": []
   },
   "source": [
    "## Sex<a id=\"features_sex\">"
   ]
  },
  {
   "cell_type": "code",
   "execution_count": 6,
   "id": "f00f0f27",
   "metadata": {
    "execution": {
     "iopub.execute_input": "2023-04-29T01:06:28.128734Z",
     "iopub.status.busy": "2023-04-29T01:06:28.128293Z",
     "iopub.status.idle": "2023-04-29T01:06:28.279735Z",
     "shell.execute_reply": "2023-04-29T01:06:28.278534Z"
    },
    "papermill": {
     "duration": 0.180594,
     "end_time": "2023-04-29T01:06:28.282353",
     "exception": false,
     "start_time": "2023-04-29T01:06:28.101759",
     "status": "completed"
    },
    "tags": []
   },
   "outputs": [
    {
     "data": {
      "text/plain": [
       "<AxesSubplot:xlabel='Sex', ylabel='Count'>"
      ]
     },
     "execution_count": 6,
     "metadata": {},
     "output_type": "execute_result"
    },
    {
     "data": {
      "image/png": "[encoded data removed]",
      "text/plain": [
       "<Figure size 432x288 with 1 Axes>"
      ]
     },
     "metadata": {
      "needs_background": "light"
     },
     "output_type": "display_data"
    }
   ],
   "source": [
    "sns.histplot(training_data['Sex'])"
   ]
  },
  {
   "cell_type": "code",
   "execution_count": 7,
   "id": "229bda81",
   "metadata": {
    "execution": {
     "iopub.execute_input": "2023-04-29T01:06:28.336029Z",
     "iopub.status.busy": "2023-04-29T01:06:28.335230Z",
     "iopub.status.idle": "2023-04-29T01:06:28.519770Z",
     "shell.execute_reply": "2023-04-29T01:06:28.518596Z"
    },
    "papermill": {
     "duration": 0.214314,
     "end_time": "2023-04-29T01:06:28.522481",
     "exception": false,
     "start_time": "2023-04-29T01:06:28.308167",
     "status": "completed"
    },
    "tags": []
   },
   "outputs": [
    {
     "data": {
      "text/plain": [
       "<AxesSubplot:xlabel='Sex'>"
      ]
     },
     "execution_count": 7,
     "metadata": {},
     "output_type": "execute_result"
    },
    {
     "data": {
      "image/png": "[encoded data removed]",
      "text/plain": [
       "<Figure size 432x288 with 1 Axes>"
      ]
     },
     "metadata": {
      "needs_background": "light"
     },
     "output_type": "display_data"
    }
   ],
   "source": [
    "training_data.groupby(['Sex', 'Survived']).size().unstack().plot(kind='bar', stacked=True)"
   ]
  },
  {
   "cell_type": "markdown",
   "id": "0de70fe3",
   "metadata": {
    "papermill": {
     "duration": 0.025227,
     "end_time": "2023-04-29T01:06:28.573595",
     "exception": false,
     "start_time": "2023-04-29T01:06:28.548368",
     "status": "completed"
    },
    "tags": []
   },
   "source": [
    "## Age<a id=\"features_age\">"
   ]
  },
  {
   "cell_type": "markdown",
   "id": "c808e628",
   "metadata": {
    "papermill": {
     "duration": 0.025392,
     "end_time": "2023-04-29T01:06:28.625146",
     "exception": false,
     "start_time": "2023-04-29T01:06:28.599754",
     "status": "completed"
    },
    "tags": []
   },
   "source": [
    "#### Distribution of ages:"
   ]
  },
  {
   "cell_type": "code",
   "execution_count": 8,
   "id": "3bb9b1ed",
   "metadata": {
    "execution": {
     "iopub.execute_input": "2023-04-29T01:06:28.678316Z",
     "iopub.status.busy": "2023-04-29T01:06:28.677903Z",
     "iopub.status.idle": "2023-04-29T01:06:29.163761Z",
     "shell.execute_reply": "2023-04-29T01:06:29.162825Z"
    },
    "papermill": {
     "duration": 0.515332,
     "end_time": "2023-04-29T01:06:29.166253",
     "exception": false,
     "start_time": "2023-04-29T01:06:28.650921",
     "status": "completed"
    },
    "tags": []
   },
   "outputs": [
    {
     "name": "stdout",
     "output_type": "stream",
     "text": [
      "Age mode:  24.0\n",
      "Age mean:  29.69911764705882\n",
      "Age median:  28.0 \n",
      "\n",
      "\n"
     ]
    },
    {
     "data": {
      "image/png": "[encoded data removed]",
      "text/plain": [
       "<Figure size 1512x360 with 3 Axes>"
      ]
     },
     "metadata": {
      "needs_background": "light"
     },
     "output_type": "display_data"
    }
   ],
   "source": [
    "age_mode = training_data['Age'].mode()[0]\n",
    "age_mean = training_data['Age'].mean() \n",
    "age_median = training_data['Age'].median()\n",
    "\n",
    "print('Age mode: ', age_mode)\n",
    "print('Age mean: ', age_mean)\n",
    "print('Age median: ', age_median, '\\n\\n')\n",
    "\n",
    "\n",
    "def plot_histograms(data, bins=[10, 20, 30], title=''):\n",
    "    fig, axs = plt.subplots(nrows=1, ncols=len(bins), figsize=(21, 5))\n",
    "\n",
    "    for i in range(len(bins)):\n",
    "        ax = plt.subplot(1,len(bins),i+1)\n",
    "        plt.hist(data, bins=bins[i])\n",
    "        plt.title(title + f' ({bins[i]} bins)')\n",
    "\n",
    "plot_histograms(training_data['Age'], title='Age')\n",
    "plt.show()"
   ]
  },
  {
   "cell_type": "code",
   "execution_count": 9,
   "id": "9d00a9c6",
   "metadata": {
    "execution": {
     "iopub.execute_input": "2023-04-29T01:06:29.220357Z",
     "iopub.status.busy": "2023-04-29T01:06:29.219969Z",
     "iopub.status.idle": "2023-04-29T01:06:29.232547Z",
     "shell.execute_reply": "2023-04-29T01:06:29.231420Z"
    },
    "papermill": {
     "duration": 0.042586,
     "end_time": "2023-04-29T01:06:29.234982",
     "exception": false,
     "start_time": "2023-04-29T01:06:29.192396",
     "status": "completed"
    },
    "tags": []
   },
   "outputs": [
    {
     "data": {
      "text/plain": [
       "NormaltestResult(statistic=18.10503295208976, pvalue=0.00011709599657350744)"
      ]
     },
     "execution_count": 9,
     "metadata": {},
     "output_type": "execute_result"
    }
   ],
   "source": [
    "sp.stats.normaltest(training_data['Age'], nan_policy='omit')"
   ]
  },
  {
   "cell_type": "markdown",
   "id": "62b72e8f",
   "metadata": {
    "papermill": {
     "duration": 0.025972,
     "end_time": "2023-04-29T01:06:29.287403",
     "exception": false,
     "start_time": "2023-04-29T01:06:29.261431",
     "status": "completed"
    },
    "tags": []
   },
   "source": [
    "Age is not normally distributed.\n",
    "\n",
    "But it can be normalized:"
   ]
  },
  {
   "cell_type": "code",
   "execution_count": 10,
   "id": "a82be057",
   "metadata": {
    "execution": {
     "iopub.execute_input": "2023-04-29T01:06:29.342151Z",
     "iopub.status.busy": "2023-04-29T01:06:29.341770Z",
     "iopub.status.idle": "2023-04-29T01:06:30.202981Z",
     "shell.execute_reply": "2023-04-29T01:06:30.201947Z"
    },
    "papermill": {
     "duration": 0.892058,
     "end_time": "2023-04-29T01:06:30.206054",
     "exception": false,
     "start_time": "2023-04-29T01:06:29.313996",
     "status": "completed"
    },
    "tags": []
   },
   "outputs": [
    {
     "name": "stdout",
     "output_type": "stream",
     "text": [
      "NormaltestResult(statistic=0.09033920687640976, pvalue=0.9558353551222782) \n",
      "\n",
      "\n"
     ]
    },
    {
     "data": {
      "image/png": "[encoded data removed]",
      "text/plain": [
       "<Figure size 1512x360 with 3 Axes>"
      ]
     },
     "metadata": {
      "needs_background": "light"
     },
     "output_type": "display_data"
    }
   ],
   "source": [
    "sqrtAge = np.sqrt(training_data['Age'] + age_median)\n",
    "print(sp.stats.normaltest(sqrtAge, nan_policy='omit'), '\\n\\n')\n",
    "\n",
    "plot_histograms(sqrtAge, title=r'$\\sqrt{Age + median}$')\n",
    "plt.show()"
   ]
  },
  {
   "cell_type": "markdown",
   "id": "a549a9e0",
   "metadata": {
    "papermill": {
     "duration": 0.026859,
     "end_time": "2023-04-29T01:06:30.259839",
     "exception": false,
     "start_time": "2023-04-29T01:06:30.232980",
     "status": "completed"
    },
    "tags": []
   },
   "source": [
    "#### Survival by age"
   ]
  },
  {
   "cell_type": "code",
   "execution_count": 11,
   "id": "c184f6b7",
   "metadata": {
    "execution": {
     "iopub.execute_input": "2023-04-29T01:06:30.317712Z",
     "iopub.status.busy": "2023-04-29T01:06:30.317057Z",
     "iopub.status.idle": "2023-04-29T01:06:30.583424Z",
     "shell.execute_reply": "2023-04-29T01:06:30.582307Z"
    },
    "papermill": {
     "duration": 0.298167,
     "end_time": "2023-04-29T01:06:30.586039",
     "exception": false,
     "start_time": "2023-04-29T01:06:30.287872",
     "status": "completed"
    },
    "tags": []
   },
   "outputs": [
    {
     "data": {
      "image/png": "[encoded data removed]",
      "text/plain": [
       "<Figure size 432x288 with 1 Axes>"
      ]
     },
     "metadata": {
      "needs_background": "light"
     },
     "output_type": "display_data"
    }
   ],
   "source": [
    "plt.hist([training_data['Age'][training_data['Survived']==0],\n",
    "         training_data['Age'][training_data['Survived']==1]],\n",
    "         bins=15, alpha=0.5, label = ['Survided = 0', 'Survided = 1'])\n",
    "plt.title('Age')\n",
    "plt.legend(loc='upper right')\n",
    "plt.show()"
   ]
  },
  {
   "cell_type": "code",
   "execution_count": 12,
   "id": "1ab61c66",
   "metadata": {
    "execution": {
     "iopub.execute_input": "2023-04-29T01:06:30.645735Z",
     "iopub.status.busy": "2023-04-29T01:06:30.644866Z",
     "iopub.status.idle": "2023-04-29T01:06:30.878270Z",
     "shell.execute_reply": "2023-04-29T01:06:30.877332Z"
    },
    "papermill": {
     "duration": 0.267522,
     "end_time": "2023-04-29T01:06:30.880684",
     "exception": false,
     "start_time": "2023-04-29T01:06:30.613162",
     "status": "completed"
    },
    "tags": []
   },
   "outputs": [
    {
     "data": {
      "text/plain": [
       "<AxesSubplot:title={'center':'Age'}, xlabel='Survived'>"
      ]
     },
     "execution_count": 12,
     "metadata": {},
     "output_type": "execute_result"
    },
    {
     "data": {
      "image/png": "[encoded data removed]",
      "text/plain": [
       "<Figure size 504x504 with 1 Axes>"
      ]
     },
     "metadata": {
      "needs_background": "light"
     },
     "output_type": "display_data"
    }
   ],
   "source": [
    "training_data.boxplot(column='Age',by='Survived',figsize=(7,7))"
   ]
  },
  {
   "cell_type": "code",
   "execution_count": 13,
   "id": "59f21c51",
   "metadata": {
    "execution": {
     "iopub.execute_input": "2023-04-29T01:06:30.938825Z",
     "iopub.status.busy": "2023-04-29T01:06:30.938357Z",
     "iopub.status.idle": "2023-04-29T01:06:31.397785Z",
     "shell.execute_reply": "2023-04-29T01:06:31.396396Z"
    },
    "papermill": {
     "duration": 0.490948,
     "end_time": "2023-04-29T01:06:31.400370",
     "exception": false,
     "start_time": "2023-04-29T01:06:30.909422",
     "status": "completed"
    },
    "tags": []
   },
   "outputs": [
    {
     "data": {
      "image/png": "[encoded data removed]",
      "text/plain": [
       "<Figure size 1080x360 with 2 Axes>"
      ]
     },
     "metadata": {
      "needs_background": "light"
     },
     "output_type": "display_data"
    }
   ],
   "source": [
    "plt.figure(figsize=(15,5))\n",
    "plt.subplots_adjust(hspace=0.5)\n",
    "\n",
    "plt.subplot(1, 2, 1)\n",
    "plt.hist([training_data['Age'][(training_data['Sex']=='male') & (training_data['Survived']==0)],\n",
    "         training_data['Age'][(training_data['Sex']=='male') & (training_data['Survived']==1)]],\n",
    "         bins=15, alpha=0.5, range=[0, 80], label = ['Survided = 0', 'Survided = 1'])\n",
    "plt.title('Survival by age for males')\n",
    "plt.legend(loc='upper right')\n",
    "\n",
    "plt.subplot(1, 2, 2)\n",
    "plt.hist([training_data['Age'][(training_data['Sex']=='female') & (training_data['Survived']==0)],\n",
    "         training_data['Age'][(training_data['Sex']=='female') & (training_data['Survived']==1)]],\n",
    "         bins=15, alpha=0.5, range=[0, 80], label = ['Survided = 0', 'Survided = 1'])\n",
    "plt.title('Survival by age for females')\n",
    "plt.legend(loc='upper right')\n",
    "\n",
    "plt.show()"
   ]
  },
  {
   "cell_type": "markdown",
   "id": "0374774a",
   "metadata": {
    "papermill": {
     "duration": 0.027653,
     "end_time": "2023-04-29T01:06:31.456849",
     "exception": false,
     "start_time": "2023-04-29T01:06:31.429196",
     "status": "completed"
    },
    "tags": []
   },
   "source": [
    "#### How many babies on board?"
   ]
  },
  {
   "cell_type": "code",
   "execution_count": 14,
   "id": "f0c7461f",
   "metadata": {
    "execution": {
     "iopub.execute_input": "2023-04-29T01:06:31.515229Z",
     "iopub.status.busy": "2023-04-29T01:06:31.514792Z",
     "iopub.status.idle": "2023-04-29T01:06:31.526578Z",
     "shell.execute_reply": "2023-04-29T01:06:31.525283Z"
    },
    "papermill": {
     "duration": 0.043837,
     "end_time": "2023-04-29T01:06:31.529007",
     "exception": false,
     "start_time": "2023-04-29T01:06:31.485170",
     "status": "completed"
    },
    "tags": []
   },
   "outputs": [
    {
     "data": {
      "text/plain": [
       "PassengerId    7\n",
       "Survived       7\n",
       "Pclass         7\n",
       "Name           7\n",
       "Sex            7\n",
       "Age            7\n",
       "SibSp          7\n",
       "Parch          7\n",
       "Ticket         7\n",
       "Fare           7\n",
       "Cabin          1\n",
       "Embarked       7\n",
       "dtype: int64"
      ]
     },
     "execution_count": 14,
     "metadata": {},
     "output_type": "execute_result"
    }
   ],
   "source": [
    "training_data[training_data['Age']<1].count()"
   ]
  },
  {
   "cell_type": "markdown",
   "id": "34d9b246",
   "metadata": {
    "papermill": {
     "duration": 0.027687,
     "end_time": "2023-04-29T01:06:31.585910",
     "exception": false,
     "start_time": "2023-04-29T01:06:31.558223",
     "status": "completed"
    },
    "tags": []
   },
   "source": [
    "#### Are there many \"estimated\" ages?\n",
    "\n",
    "Estimated ages are expresed as xx.5. Only 18 passenger had their age estimated:"
   ]
  },
  {
   "cell_type": "code",
   "execution_count": 15,
   "id": "3a6c1dcd",
   "metadata": {
    "execution": {
     "iopub.execute_input": "2023-04-29T01:06:31.644749Z",
     "iopub.status.busy": "2023-04-29T01:06:31.643497Z",
     "iopub.status.idle": "2023-04-29T01:06:31.652559Z",
     "shell.execute_reply": "2023-04-29T01:06:31.651754Z"
    },
    "papermill": {
     "duration": 0.040481,
     "end_time": "2023-04-29T01:06:31.654727",
     "exception": false,
     "start_time": "2023-04-29T01:06:31.614246",
     "status": "completed"
    },
    "tags": []
   },
   "outputs": [
    {
     "data": {
      "text/plain": [
       "18"
      ]
     },
     "execution_count": 15,
     "metadata": {},
     "output_type": "execute_result"
    }
   ],
   "source": [
    "(training_data[training_data['Age'].map(float.is_integer)==False]['Age'].dropna()>1).sum()"
   ]
  },
  {
   "cell_type": "markdown",
   "id": "19a3c29e",
   "metadata": {
    "papermill": {
     "duration": 0.031808,
     "end_time": "2023-04-29T01:06:31.715347",
     "exception": false,
     "start_time": "2023-04-29T01:06:31.683539",
     "status": "completed"
    },
    "tags": []
   },
   "source": [
    "## Family<a id=\"features_SibSp_Parch\">"
   ]
  },
  {
   "cell_type": "code",
   "execution_count": 16,
   "id": "000494c8",
   "metadata": {
    "execution": {
     "iopub.execute_input": "2023-04-29T01:06:31.773268Z",
     "iopub.status.busy": "2023-04-29T01:06:31.772553Z",
     "iopub.status.idle": "2023-04-29T01:06:32.298154Z",
     "shell.execute_reply": "2023-04-29T01:06:32.296891Z"
    },
    "papermill": {
     "duration": 0.557355,
     "end_time": "2023-04-29T01:06:32.300685",
     "exception": false,
     "start_time": "2023-04-29T01:06:31.743330",
     "status": "completed"
    },
    "tags": []
   },
   "outputs": [
    {
     "name": "stdout",
     "output_type": "stream",
     "text": [
      "Siblings + Spouses:\n",
      "0    608\n",
      "1    209\n",
      "2     28\n",
      "4     18\n",
      "3     16\n",
      "8      7\n",
      "5      5\n",
      "Name: SibSp, dtype: int64\n",
      "\n",
      "\n",
      "Parents + Children:\n",
      "0    678\n",
      "1    118\n",
      "2     80\n",
      "5      5\n",
      "3      5\n",
      "4      4\n",
      "6      1\n",
      "Name: Parch, dtype: int64\n",
      "\n",
      "\n",
      "Passengeers with family on board: 354\n",
      "\n",
      "\n"
     ]
    },
    {
     "data": {
      "image/png": "[encoded data removed]",
      "text/plain": [
       "<Figure size 1512x360 with 3 Axes>"
      ]
     },
     "metadata": {
      "needs_background": "light"
     },
     "output_type": "display_data"
    }
   ],
   "source": [
    "print('Siblings + Spouses:\\n', training_data['SibSp'].value_counts(), '\\n\\n', sep='')\n",
    "print('Parents + Children:\\n', training_data['Parch'].value_counts(), sep='')\n",
    "\n",
    "print('\\n\\nPassengeers with family on board: ', training_data[(training_data['SibSp'] > 0) | (training_data['Parch'] > 0)].shape[0], '\\n\\n', sep='')\n",
    "\n",
    "plot_histograms(training_data[(training_data['SibSp'] > 0) | (training_data['Parch'] > 0)]['Age'], title='Age of passengers with family on board')\n",
    "plt.show()"
   ]
  },
  {
   "cell_type": "markdown",
   "id": "2259abf3",
   "metadata": {
    "papermill": {
     "duration": 0.028151,
     "end_time": "2023-04-29T01:06:32.357271",
     "exception": false,
     "start_time": "2023-04-29T01:06:32.329120",
     "status": "completed"
    },
    "tags": []
   },
   "source": [
    "## Cabin<a id=\"features_cabin\">"
   ]
  },
  {
   "cell_type": "code",
   "execution_count": 17,
   "id": "5e6a2e7e",
   "metadata": {
    "execution": {
     "iopub.execute_input": "2023-04-29T01:06:32.416767Z",
     "iopub.status.busy": "2023-04-29T01:06:32.416333Z",
     "iopub.status.idle": "2023-04-29T01:06:32.429345Z",
     "shell.execute_reply": "2023-04-29T01:06:32.427665Z"
    },
    "papermill": {
     "duration": 0.046942,
     "end_time": "2023-04-29T01:06:32.432944",
     "exception": false,
     "start_time": "2023-04-29T01:06:32.386002",
     "status": "completed"
    },
    "tags": []
   },
   "outputs": [
    {
     "name": "stdout",
     "output_type": "stream",
     "text": [
      "[nan 'C85' 'C123' 'E46' 'G6' 'C103' 'D56' 'A6' 'C23 C25 C27' 'B78' 'D33'\n",
      " 'B30' 'C52' 'B28' 'C83' 'F33' 'F G73' 'E31' 'A5' 'D10 D12' 'D26' 'C110'\n",
      " 'B58 B60' 'E101' 'F E69' 'D47' 'B86' 'F2' 'C2' 'E33' 'B19' 'A7' 'C49'\n",
      " 'F4' 'A32' 'B4' 'B80' 'A31' 'D36' 'D15' 'C93' 'C78' 'D35' 'C87' 'B77'\n",
      " 'E67' 'B94' 'C125' 'C99' 'C118' 'D7' 'A19' 'B49' 'D' 'C22 C26' 'C106'\n",
      " 'C65' 'E36' 'C54' 'B57 B59 B63 B66' 'C7' 'E34' 'C32' 'B18' 'C124' 'C91'\n",
      " 'E40' 'T' 'C128' 'D37' 'B35' 'E50' 'C82' 'B96 B98' 'E10' 'E44' 'A34'\n",
      " 'C104' 'C111' 'C92' 'E38' 'D21' 'E12' 'E63' 'A14' 'B37' 'C30' 'D20' 'B79'\n",
      " 'E25' 'D46' 'B73' 'C95' 'B38' 'B39' 'B22' 'C86' 'C70' 'A16' 'C101' 'C68'\n",
      " 'A10' 'E68' 'B41' 'A20' 'D19' 'D50' 'D9' 'A23' 'B50' 'A26' 'D48' 'E58'\n",
      " 'C126' 'B71' 'B51 B53 B55' 'D49' 'B5' 'B20' 'F G63' 'C62 C64' 'E24' 'C90'\n",
      " 'C45' 'E8' 'B101' 'D45' 'C46' 'D30' 'E121' 'D11' 'E77' 'F38' 'B3' 'D6'\n",
      " 'B82 B84' 'D17' 'A36' 'B102' 'B69' 'E49' 'C47' 'D28' 'E17' 'A24' 'C50'\n",
      " 'B42' 'C148'] \n",
      "\n",
      "number of unique values:  148 \n",
      "\n",
      "max number of counts per unique value:  4 \n",
      "\n",
      "\n",
      "Counts per deck:\n",
      "C    59\n",
      "B    47\n",
      "D    33\n",
      "E    32\n",
      "A    15\n",
      "F    13\n",
      "G     4\n",
      "T     1\n",
      "Name: Cabin, dtype: int64\n"
     ]
    }
   ],
   "source": [
    "print(training_data['Cabin'].unique(),'\\n')\n",
    "print('number of unique values: ', np.size(training_data['Cabin'].unique()),'\\n')\n",
    "print('max number of counts per unique value: ', training_data['Cabin'].value_counts().max(), '\\n\\n')\n",
    "\n",
    "deck = training_data['Cabin'].str[0]\n",
    "print('Counts per deck:\\n', deck.value_counts(), sep='')"
   ]
  },
  {
   "cell_type": "markdown",
   "id": "bc1226ea",
   "metadata": {
    "papermill": {
     "duration": 0.028212,
     "end_time": "2023-04-29T01:06:32.490491",
     "exception": false,
     "start_time": "2023-04-29T01:06:32.462279",
     "status": "completed"
    },
    "tags": []
   },
   "source": [
    "204 non-null/891 total, of which 147 are unique values with no obvious order.  \n",
    "\n",
    "\"Cabin\" has many null values and is unreliable:  \n",
    "Cabin info wasn't properly recorded, and passengers frecuently changed cabins once on board to be close to friends and relatives.  \n",
    "In many cases info about cabins comes from survivors' memories.  \n",
    "\n",
    "Seems like I could drop this variable.  \n",
    "\n",
    "_Distribution of ticket classes:_ (based on https://www.encyclopedia-titanica.org/titanic-deckplans/) \n",
    "&nbsp;  \n",
    "\n",
    "<u>Cabins:</u>\n",
    "+ Deck A: 1st class, cabins in the middle front of the ship.\n",
    "+ Deck B: 1st class, cabins in the front and laterals.\n",
    "+ Deck C: 1st class, cabins in the front and laterals.\n",
    "+ Deck D: 1st class in the front, 2nd class in the rear.\n",
    "+ Deck E: 3rd class in front and rear, 2nd class in the middle rear, 1st in the laterals.\n",
    "+ Deck F: 3rd class in front and rear, 2nd class in the middle rear, 1st in the laterals.\n",
    "+ Deck G: 3rd class front and rear.\n",
    "&nbsp;\n",
    "\n",
    "[//]: # \"![Titanic.png](attachment:db886a27-53d0-4f9e-a2f7-16685de55f0b.png)\" \n",
    "&nbsp;  \n",
    "Amenities are a bit all over the place, specially in the middle and rear part of the ship.  \n",
    "&nbsp;  \n",
    "Cabin deck could be extracted from \"Cabin\" feature, but appart from being incomplete, it seems to be unreliable."
   ]
  },
  {
   "cell_type": "code",
   "execution_count": 18,
   "id": "cf66be6c",
   "metadata": {
    "execution": {
     "iopub.execute_input": "2023-04-29T01:06:32.549851Z",
     "iopub.status.busy": "2023-04-29T01:06:32.549421Z",
     "iopub.status.idle": "2023-04-29T01:06:32.818221Z",
     "shell.execute_reply": "2023-04-29T01:06:32.816896Z"
    },
    "papermill": {
     "duration": 0.30173,
     "end_time": "2023-04-29T01:06:32.821155",
     "exception": false,
     "start_time": "2023-04-29T01:06:32.519425",
     "status": "completed"
    },
    "tags": []
   },
   "outputs": [
    {
     "data": {
      "text/html": [
       "<div>\n",
       "<style scoped>\n",
       "    .dataframe tbody tr th:only-of-type {\n",
       "        vertical-align: middle;\n",
       "    }\n",
       "\n",
       "    .dataframe tbody tr th {\n",
       "        vertical-align: top;\n",
       "    }\n",
       "\n",
       "    .dataframe thead th {\n",
       "        text-align: right;\n",
       "    }\n",
       "</style>\n",
       "<table border=\"1\" class=\"dataframe\">\n",
       "  <thead>\n",
       "    <tr style=\"text-align: right;\">\n",
       "      <th></th>\n",
       "      <th>PassengerId</th>\n",
       "      <th>Survived</th>\n",
       "      <th>Pclass</th>\n",
       "      <th>Name</th>\n",
       "      <th>Sex</th>\n",
       "      <th>Age</th>\n",
       "      <th>SibSp</th>\n",
       "      <th>Parch</th>\n",
       "      <th>Ticket</th>\n",
       "      <th>Fare</th>\n",
       "      <th>Cabin</th>\n",
       "      <th>Embarked</th>\n",
       "      <th>Deck</th>\n",
       "    </tr>\n",
       "  </thead>\n",
       "  <tbody>\n",
       "    <tr>\n",
       "      <th>0</th>\n",
       "      <td>1</td>\n",
       "      <td>0</td>\n",
       "      <td>3</td>\n",
       "      <td>Braund, Mr. Owen Harris</td>\n",
       "      <td>male</td>\n",
       "      <td>22.0</td>\n",
       "      <td>1</td>\n",
       "      <td>0</td>\n",
       "      <td>A/5 21171</td>\n",
       "      <td>7.2500</td>\n",
       "      <td>NaN</td>\n",
       "      <td>S</td>\n",
       "      <td>NaN</td>\n",
       "    </tr>\n",
       "    <tr>\n",
       "      <th>1</th>\n",
       "      <td>2</td>\n",
       "      <td>1</td>\n",
       "      <td>1</td>\n",
       "      <td>Cumings, Mrs. John Bradley (Florence Briggs Th...</td>\n",
       "      <td>female</td>\n",
       "      <td>38.0</td>\n",
       "      <td>1</td>\n",
       "      <td>0</td>\n",
       "      <td>PC 17599</td>\n",
       "      <td>71.2833</td>\n",
       "      <td>C85</td>\n",
       "      <td>C</td>\n",
       "      <td>C</td>\n",
       "    </tr>\n",
       "    <tr>\n",
       "      <th>2</th>\n",
       "      <td>3</td>\n",
       "      <td>1</td>\n",
       "      <td>3</td>\n",
       "      <td>Heikkinen, Miss. Laina</td>\n",
       "      <td>female</td>\n",
       "      <td>26.0</td>\n",
       "      <td>0</td>\n",
       "      <td>0</td>\n",
       "      <td>STON/O2. 3101282</td>\n",
       "      <td>7.9250</td>\n",
       "      <td>NaN</td>\n",
       "      <td>S</td>\n",
       "      <td>NaN</td>\n",
       "    </tr>\n",
       "    <tr>\n",
       "      <th>3</th>\n",
       "      <td>4</td>\n",
       "      <td>1</td>\n",
       "      <td>1</td>\n",
       "      <td>Futrelle, Mrs. Jacques Heath (Lily May Peel)</td>\n",
       "      <td>female</td>\n",
       "      <td>35.0</td>\n",
       "      <td>1</td>\n",
       "      <td>0</td>\n",
       "      <td>113803</td>\n",
       "      <td>53.1000</td>\n",
       "      <td>C123</td>\n",
       "      <td>S</td>\n",
       "      <td>C</td>\n",
       "    </tr>\n",
       "    <tr>\n",
       "      <th>4</th>\n",
       "      <td>5</td>\n",
       "      <td>0</td>\n",
       "      <td>3</td>\n",
       "      <td>Allen, Mr. William Henry</td>\n",
       "      <td>male</td>\n",
       "      <td>35.0</td>\n",
       "      <td>0</td>\n",
       "      <td>0</td>\n",
       "      <td>373450</td>\n",
       "      <td>8.0500</td>\n",
       "      <td>NaN</td>\n",
       "      <td>S</td>\n",
       "      <td>NaN</td>\n",
       "    </tr>\n",
       "  </tbody>\n",
       "</table>\n",
       "</div>"
      ],
      "text/plain": [
       "   PassengerId  Survived  Pclass  \\\n",
       "0            1         0       3   \n",
       "1            2         1       1   \n",
       "2            3         1       3   \n",
       "3            4         1       1   \n",
       "4            5         0       3   \n",
       "\n",
       "                                                Name     Sex   Age  SibSp  \\\n",
       "0                            Braund, Mr. Owen Harris    male  22.0      1   \n",
       "1  Cumings, Mrs. John Bradley (Florence Briggs Th...  female  38.0      1   \n",
       "2                             Heikkinen, Miss. Laina  female  26.0      0   \n",
       "3       Futrelle, Mrs. Jacques Heath (Lily May Peel)  female  35.0      1   \n",
       "4                           Allen, Mr. William Henry    male  35.0      0   \n",
       "\n",
       "   Parch            Ticket     Fare Cabin Embarked Deck  \n",
       "0      0         A/5 21171   7.2500   NaN        S  NaN  \n",
       "1      0          PC 17599  71.2833   C85        C    C  \n",
       "2      0  STON/O2. 3101282   7.9250   NaN        S  NaN  \n",
       "3      0            113803  53.1000  C123        S    C  \n",
       "4      0            373450   8.0500   NaN        S  NaN  "
      ]
     },
     "metadata": {},
     "output_type": "display_data"
    },
    {
     "data": {
      "text/plain": [
       "<function matplotlib.pyplot.show(close=None, block=None)>"
      ]
     },
     "execution_count": 18,
     "metadata": {},
     "output_type": "execute_result"
    },
    {
     "data": {
      "image/png": "[encoded data removed]",
      "text/plain": [
       "<Figure size 432x288 with 1 Axes>"
      ]
     },
     "metadata": {
      "needs_background": "light"
     },
     "output_type": "display_data"
    }
   ],
   "source": [
    "data_decks = training_data.copy()\n",
    "data_decks['Deck'] = data_decks['Cabin'].str[0]\n",
    "# print(data_decks.head(),'\\n\\n\\n')\n",
    "display(data_decks.head())\n",
    "\n",
    "x = np.arange(data_decks['Deck'].value_counts().shape[0])\n",
    "decks = data_decks['Deck'].unique()[1:]\n",
    "decks.sort()\n",
    "\n",
    "survived = np.array(data_decks[data_decks['Survived'] == 1].groupby('Deck').count()['PassengerId'])\n",
    "deceased = np.array(data_decks[data_decks['Survived'] == 0].groupby('Deck').count()['PassengerId'])\n",
    "x = x[:6]\n",
    "survived = survived[:6]\n",
    "deceased = deceased[:6]\n",
    "decks = decks[:6]\n",
    "\n",
    "plt.bar(x, width=0.2, height=deceased, label='Deceased')\n",
    "plt.bar(x+0.2, width=0.2, height=survived, label='Survived')\n",
    "plt.legend(loc='upper right')\n",
    "plt.xticks(x, decks)\n",
    "plt.show"
   ]
  },
  {
   "cell_type": "markdown",
   "id": "cbe8e5be",
   "metadata": {
    "papermill": {
     "duration": 0.028556,
     "end_time": "2023-04-29T01:06:32.879275",
     "exception": false,
     "start_time": "2023-04-29T01:06:32.850719",
     "status": "completed"
    },
    "tags": []
   },
   "source": [
    "Two groups of decks: A and F with similar survival/decease, vs. B-C-D-E where Survival > Decease.  \n",
    "However A and F have low number of data points each, and really low togheher (<30) in comparisson with the full database.  \n",
    "\n",
    "So, taking into account:\n",
    "+ Low number of items (many null values)\n",
    "+ Unreliability of data\n",
    "+ Lack of obvious way of imputing lost values  \n",
    "\n",
    "It seems better to drop the 'Cabin' feature."
   ]
  },
  {
   "cell_type": "markdown",
   "id": "b7f36a60",
   "metadata": {
    "papermill": {
     "duration": 0.028569,
     "end_time": "2023-04-29T01:06:32.936792",
     "exception": false,
     "start_time": "2023-04-29T01:06:32.908223",
     "status": "completed"
    },
    "tags": []
   },
   "source": [
    "#### Data Leakage?<a id='data_leakage'></a>\n",
    "\n",
    "Cabin data comes mainly from two sources:  \n",
    "The *Cave List*, with mainly (but not only) first class passengers,  \n",
    "and accounts by survivors (https://www.encyclopedia-titanica.org/cabins.html).  \n",
    "\n",
    "This database likely includes survivors' accounts and that would ammount to data collected after the fact.\n",
    "\n",
    "&nbsp;\n",
    "\n",
    "For example (see next code cell):\n",
    "\n",
    "Mr Andrews' name does appear on the Cave List, but no cabin allocation is given. However, his bedroom steward Etches survived to confirm Andrews' stateroom number.  \n",
    "\n",
    "Miss Crosby is not mentioned on the Cave List. Mrs Crosby\\'s affidavit incliudes the following: \"she and her husband occupied stateroom No. 22 and her daughter occupied stateroom No. 26, they being first-class passengers on said steamer\"\n",
    "\n",
    "<a href=\"https://www.encyclopedia-titanica.org/cabins.html\">(from https://www.encyclopedia-titanica.org/cabins.html)</a>"
   ]
  },
  {
   "cell_type": "code",
   "execution_count": 19,
   "id": "be18cee4",
   "metadata": {
    "execution": {
     "iopub.execute_input": "2023-04-29T01:06:32.996713Z",
     "iopub.status.busy": "2023-04-29T01:06:32.996015Z",
     "iopub.status.idle": "2023-04-29T01:06:33.028357Z",
     "shell.execute_reply": "2023-04-29T01:06:33.027085Z"
    },
    "papermill": {
     "duration": 0.065054,
     "end_time": "2023-04-29T01:06:33.030806",
     "exception": false,
     "start_time": "2023-04-29T01:06:32.965752",
     "status": "completed"
    },
    "tags": []
   },
   "outputs": [
    {
     "data": {
      "text/html": [
       "<div>\n",
       "<style scoped>\n",
       "    .dataframe tbody tr th:only-of-type {\n",
       "        vertical-align: middle;\n",
       "    }\n",
       "\n",
       "    .dataframe tbody tr th {\n",
       "        vertical-align: top;\n",
       "    }\n",
       "\n",
       "    .dataframe thead th {\n",
       "        text-align: right;\n",
       "    }\n",
       "</style>\n",
       "<table border=\"1\" class=\"dataframe\">\n",
       "  <thead>\n",
       "    <tr style=\"text-align: right;\">\n",
       "      <th></th>\n",
       "      <th>PassengerId</th>\n",
       "      <th>Survived</th>\n",
       "      <th>Pclass</th>\n",
       "      <th>Name</th>\n",
       "      <th>Sex</th>\n",
       "      <th>Age</th>\n",
       "      <th>SibSp</th>\n",
       "      <th>Parch</th>\n",
       "      <th>Ticket</th>\n",
       "      <th>Fare</th>\n",
       "      <th>Cabin</th>\n",
       "      <th>Embarked</th>\n",
       "    </tr>\n",
       "  </thead>\n",
       "  <tbody>\n",
       "    <tr>\n",
       "      <th>275</th>\n",
       "      <td>276</td>\n",
       "      <td>1</td>\n",
       "      <td>1</td>\n",
       "      <td>Andrews, Miss. Kornelia Theodosia</td>\n",
       "      <td>female</td>\n",
       "      <td>63.0</td>\n",
       "      <td>1</td>\n",
       "      <td>0</td>\n",
       "      <td>13502</td>\n",
       "      <td>77.9583</td>\n",
       "      <td>D7</td>\n",
       "      <td>S</td>\n",
       "    </tr>\n",
       "    <tr>\n",
       "      <th>765</th>\n",
       "      <td>766</td>\n",
       "      <td>1</td>\n",
       "      <td>1</td>\n",
       "      <td>Hogeboom, Mrs. John C (Anna Andrews)</td>\n",
       "      <td>female</td>\n",
       "      <td>51.0</td>\n",
       "      <td>1</td>\n",
       "      <td>0</td>\n",
       "      <td>13502</td>\n",
       "      <td>77.9583</td>\n",
       "      <td>D11</td>\n",
       "      <td>S</td>\n",
       "    </tr>\n",
       "    <tr>\n",
       "      <th>806</th>\n",
       "      <td>807</td>\n",
       "      <td>0</td>\n",
       "      <td>1</td>\n",
       "      <td>Andrews, Mr. Thomas Jr</td>\n",
       "      <td>male</td>\n",
       "      <td>39.0</td>\n",
       "      <td>0</td>\n",
       "      <td>0</td>\n",
       "      <td>112050</td>\n",
       "      <td>0.0000</td>\n",
       "      <td>A36</td>\n",
       "      <td>S</td>\n",
       "    </tr>\n",
       "  </tbody>\n",
       "</table>\n",
       "</div>"
      ],
      "text/plain": [
       "     PassengerId  Survived  Pclass                                  Name  \\\n",
       "275          276         1       1     Andrews, Miss. Kornelia Theodosia   \n",
       "765          766         1       1  Hogeboom, Mrs. John C (Anna Andrews)   \n",
       "806          807         0       1                Andrews, Mr. Thomas Jr   \n",
       "\n",
       "        Sex   Age  SibSp  Parch  Ticket     Fare Cabin Embarked  \n",
       "275  female  63.0      1      0   13502  77.9583    D7        S  \n",
       "765  female  51.0      1      0   13502  77.9583   D11        S  \n",
       "806    male  39.0      0      0  112050   0.0000   A36        S  "
      ]
     },
     "metadata": {},
     "output_type": "display_data"
    },
    {
     "name": "stdout",
     "output_type": "stream",
     "text": [
      "\n",
      "\n",
      "\n"
     ]
    },
    {
     "data": {
      "text/html": [
       "<div>\n",
       "<style scoped>\n",
       "    .dataframe tbody tr th:only-of-type {\n",
       "        vertical-align: middle;\n",
       "    }\n",
       "\n",
       "    .dataframe tbody tr th {\n",
       "        vertical-align: top;\n",
       "    }\n",
       "\n",
       "    .dataframe thead th {\n",
       "        text-align: right;\n",
       "    }\n",
       "</style>\n",
       "<table border=\"1\" class=\"dataframe\">\n",
       "  <thead>\n",
       "    <tr style=\"text-align: right;\">\n",
       "      <th></th>\n",
       "      <th>PassengerId</th>\n",
       "      <th>Survived</th>\n",
       "      <th>Pclass</th>\n",
       "      <th>Name</th>\n",
       "      <th>Sex</th>\n",
       "      <th>Age</th>\n",
       "      <th>SibSp</th>\n",
       "      <th>Parch</th>\n",
       "      <th>Ticket</th>\n",
       "      <th>Fare</th>\n",
       "      <th>Cabin</th>\n",
       "      <th>Embarked</th>\n",
       "    </tr>\n",
       "  </thead>\n",
       "  <tbody>\n",
       "    <tr>\n",
       "      <th>540</th>\n",
       "      <td>541</td>\n",
       "      <td>1</td>\n",
       "      <td>1</td>\n",
       "      <td>Crosby, Miss. Harriet R</td>\n",
       "      <td>female</td>\n",
       "      <td>36.0</td>\n",
       "      <td>0</td>\n",
       "      <td>2</td>\n",
       "      <td>WE/P 5735</td>\n",
       "      <td>71.0</td>\n",
       "      <td>B22</td>\n",
       "      <td>S</td>\n",
       "    </tr>\n",
       "    <tr>\n",
       "      <th>745</th>\n",
       "      <td>746</td>\n",
       "      <td>0</td>\n",
       "      <td>1</td>\n",
       "      <td>Crosby, Capt. Edward Gifford</td>\n",
       "      <td>male</td>\n",
       "      <td>70.0</td>\n",
       "      <td>1</td>\n",
       "      <td>1</td>\n",
       "      <td>WE/P 5735</td>\n",
       "      <td>71.0</td>\n",
       "      <td>B22</td>\n",
       "      <td>S</td>\n",
       "    </tr>\n",
       "  </tbody>\n",
       "</table>\n",
       "</div>"
      ],
      "text/plain": [
       "     PassengerId  Survived  Pclass                          Name     Sex  \\\n",
       "540          541         1       1       Crosby, Miss. Harriet R  female   \n",
       "745          746         0       1  Crosby, Capt. Edward Gifford    male   \n",
       "\n",
       "      Age  SibSp  Parch     Ticket  Fare Cabin Embarked  \n",
       "540  36.0      0      2  WE/P 5735  71.0   B22        S  \n",
       "745  70.0      1      1  WE/P 5735  71.0   B22        S  "
      ]
     },
     "metadata": {},
     "output_type": "display_data"
    }
   ],
   "source": [
    "display(training_data[training_data['Name'].str.contains('Andrews')])\n",
    "print('\\n\\n')\n",
    "display(training_data[training_data['Name'].str.contains('Crosby')])"
   ]
  },
  {
   "cell_type": "markdown",
   "id": "df4cd461",
   "metadata": {
    "papermill": {
     "duration": 0.029644,
     "end_time": "2023-04-29T01:06:33.090650",
     "exception": false,
     "start_time": "2023-04-29T01:06:33.061006",
     "status": "completed"
    },
    "tags": []
   },
   "source": [
    "Survival rate changes drastically when Cabin data is available:"
   ]
  },
  {
   "cell_type": "code",
   "execution_count": 20,
   "id": "7fbefc8d",
   "metadata": {
    "execution": {
     "iopub.execute_input": "2023-04-29T01:06:33.152075Z",
     "iopub.status.busy": "2023-04-29T01:06:33.151645Z",
     "iopub.status.idle": "2023-04-29T01:06:33.179215Z",
     "shell.execute_reply": "2023-04-29T01:06:33.177804Z"
    },
    "papermill": {
     "duration": 0.061544,
     "end_time": "2023-04-29T01:06:33.182019",
     "exception": false,
     "start_time": "2023-04-29T01:06:33.120475",
     "status": "completed"
    },
    "tags": []
   },
   "outputs": [
    {
     "name": "stdout",
     "output_type": "stream",
     "text": [
      "Mean survival:  0.3838383838383838\n",
      "\n",
      "Mean survival based on Cabin info: \n"
     ]
    },
    {
     "data": {
      "text/html": [
       "<div>\n",
       "<style scoped>\n",
       "    .dataframe tbody tr th:only-of-type {\n",
       "        vertical-align: middle;\n",
       "    }\n",
       "\n",
       "    .dataframe tbody tr th {\n",
       "        vertical-align: top;\n",
       "    }\n",
       "\n",
       "    .dataframe thead th {\n",
       "        text-align: right;\n",
       "    }\n",
       "</style>\n",
       "<table border=\"1\" class=\"dataframe\">\n",
       "  <thead>\n",
       "    <tr style=\"text-align: right;\">\n",
       "      <th>HasCabin</th>\n",
       "      <th>False</th>\n",
       "      <th>True</th>\n",
       "    </tr>\n",
       "  </thead>\n",
       "  <tbody>\n",
       "    <tr>\n",
       "      <th>Survived</th>\n",
       "      <td>0.299854</td>\n",
       "      <td>0.666667</td>\n",
       "    </tr>\n",
       "  </tbody>\n",
       "</table>\n",
       "</div>"
      ],
      "text/plain": [
       "HasCabin     False      True\n",
       "Survived  0.299854  0.666667"
      ]
     },
     "metadata": {},
     "output_type": "display_data"
    }
   ],
   "source": [
    "x_ = training_data[['Survived','Cabin']].copy()\n",
    "\n",
    "x_['HasCabin'] = x_['Cabin'].notnull()\n",
    "\n",
    "print('Mean survival: ', np.mean(x_['Survived']))\n",
    "print('\\nMean survival based on Cabin info: ',)\n",
    "display(x_.pivot_table(values='Survived', columns='HasCabin', aggfunc=np.mean))\n",
    "\n",
    "del(x_)"
   ]
  },
  {
   "cell_type": "markdown",
   "id": "024a4d06",
   "metadata": {
    "papermill": {
     "duration": 0.029466,
     "end_time": "2023-04-29T01:06:33.241924",
     "exception": false,
     "start_time": "2023-04-29T01:06:33.212458",
     "status": "completed"
    },
    "tags": []
   },
   "source": [
    "## Fare<a id=\"features_fare\">"
   ]
  },
  {
   "cell_type": "code",
   "execution_count": 21,
   "id": "85830098",
   "metadata": {
    "execution": {
     "iopub.execute_input": "2023-04-29T01:06:33.303317Z",
     "iopub.status.busy": "2023-04-29T01:06:33.302916Z",
     "iopub.status.idle": "2023-04-29T01:06:33.827582Z",
     "shell.execute_reply": "2023-04-29T01:06:33.826509Z"
    },
    "papermill": {
     "duration": 0.558359,
     "end_time": "2023-04-29T01:06:33.830094",
     "exception": false,
     "start_time": "2023-04-29T01:06:33.271735",
     "status": "completed"
    },
    "tags": []
   },
   "outputs": [
    {
     "data": {
      "image/png": "[encoded data removed]",
      "text/plain": [
       "<Figure size 1512x360 with 3 Axes>"
      ]
     },
     "metadata": {
      "needs_background": "light"
     },
     "output_type": "display_data"
    },
    {
     "name": "stdout",
     "output_type": "stream",
     "text": [
      "# of Tickets with fare >200$:  20\n"
     ]
    }
   ],
   "source": [
    "plot_histograms(training_data['Fare'][training_data['Fare'] <= 200], title='Fare (up to $200)') # up to 200 to increase detail in that range\n",
    "plt.show()\n",
    "\n",
    "print('# of Tickets with fare >200$: ', len(training_data[training_data['Fare'] > 200]))"
   ]
  },
  {
   "cell_type": "code",
   "execution_count": 22,
   "id": "cf131dd0",
   "metadata": {
    "execution": {
     "iopub.execute_input": "2023-04-29T01:06:33.894383Z",
     "iopub.status.busy": "2023-04-29T01:06:33.893977Z",
     "iopub.status.idle": "2023-04-29T01:06:34.116428Z",
     "shell.execute_reply": "2023-04-29T01:06:34.114881Z"
    },
    "papermill": {
     "duration": 0.257299,
     "end_time": "2023-04-29T01:06:34.119461",
     "exception": false,
     "start_time": "2023-04-29T01:06:33.862162",
     "status": "completed"
    },
    "tags": []
   },
   "outputs": [
    {
     "data": {
      "text/plain": [
       "<AxesSubplot:title={'center':'Fare'}, xlabel='Survived'>"
      ]
     },
     "execution_count": 22,
     "metadata": {},
     "output_type": "execute_result"
    },
    {
     "data": {
      "image/png": "[encoded data removed]",
      "text/plain": [
       "<Figure size 504x360 with 1 Axes>"
      ]
     },
     "metadata": {
      "needs_background": "light"
     },
     "output_type": "display_data"
    }
   ],
   "source": [
    "training_data.boxplot(column='Fare',by='Survived',figsize=(7,5))"
   ]
  },
  {
   "cell_type": "code",
   "execution_count": 23,
   "id": "6ed57737",
   "metadata": {
    "execution": {
     "iopub.execute_input": "2023-04-29T01:06:34.183810Z",
     "iopub.status.busy": "2023-04-29T01:06:34.183323Z",
     "iopub.status.idle": "2023-04-29T01:06:34.471292Z",
     "shell.execute_reply": "2023-04-29T01:06:34.470060Z"
    },
    "papermill": {
     "duration": 0.323756,
     "end_time": "2023-04-29T01:06:34.474161",
     "exception": false,
     "start_time": "2023-04-29T01:06:34.150405",
     "status": "completed"
    },
    "tags": []
   },
   "outputs": [
    {
     "data": {
      "image/png": "[encoded data removed]",
      "text/plain": [
       "<Figure size 432x288 with 1 Axes>"
      ]
     },
     "metadata": {
      "needs_background": "light"
     },
     "output_type": "display_data"
    }
   ],
   "source": [
    "plt.hist([training_data['Fare'][training_data['Pclass']==1],\n",
    "          training_data['Fare'][training_data['Pclass']==2],\n",
    "          training_data['Fare'][training_data['Pclass']==3]],\n",
    "          bins=15, alpha=0.5, label = ['1st class', '2nd class', '3rd class'])\n",
    "plt.title('Fare')\n",
    "plt.legend(loc='upper right')\n",
    "plt.show()"
   ]
  },
  {
   "cell_type": "code",
   "execution_count": 24,
   "id": "f119ba3c",
   "metadata": {
    "execution": {
     "iopub.execute_input": "2023-04-29T01:06:34.538790Z",
     "iopub.status.busy": "2023-04-29T01:06:34.538091Z",
     "iopub.status.idle": "2023-04-29T01:06:34.542284Z",
     "shell.execute_reply": "2023-04-29T01:06:34.541524Z"
    },
    "papermill": {
     "duration": 0.039124,
     "end_time": "2023-04-29T01:06:34.544504",
     "exception": false,
     "start_time": "2023-04-29T01:06:34.505380",
     "status": "completed"
    },
    "tags": []
   },
   "outputs": [],
   "source": [
    "# Playground for normalizing the Fare feature\n",
    "\n",
    "# None of these normalizes the fare (but there's no need...)\n",
    "\n",
    "# logFare = np.log(training_data['Fare']+1)\n",
    "# print(sp.stats.normaltest(logFare, nan_policy='omit'))\n",
    "# plt.hist(logFare, bins=15)\n",
    "# plt.title('logFare')\n",
    "# plt.show()\n",
    "\n",
    "\n",
    "# logFare = np.log(training_data['Fare'][training_data['Fare']>10]-10)\n",
    "# print(sp.stats.normaltest(logFare, nan_policy='omit'))\n",
    "# plt.hist(logFare, bins=15)\n",
    "# plt.title('logFare (omitting fare < 10)')\n",
    "# plt.show()"
   ]
  },
  {
   "cell_type": "code",
   "execution_count": 25,
   "id": "2a2e4ea4",
   "metadata": {
    "execution": {
     "iopub.execute_input": "2023-04-29T01:06:34.609527Z",
     "iopub.status.busy": "2023-04-29T01:06:34.609079Z",
     "iopub.status.idle": "2023-04-29T01:06:34.906798Z",
     "shell.execute_reply": "2023-04-29T01:06:34.905676Z"
    },
    "papermill": {
     "duration": 0.333045,
     "end_time": "2023-04-29T01:06:34.909250",
     "exception": false,
     "start_time": "2023-04-29T01:06:34.576205",
     "status": "completed"
    },
    "tags": []
   },
   "outputs": [
    {
     "data": {
      "image/png": "[encoded data removed]",
      "text/plain": [
       "<Figure size 432x288 with 1 Axes>"
      ]
     },
     "metadata": {
      "needs_background": "light"
     },
     "output_type": "display_data"
    }
   ],
   "source": [
    "plt.hist(training_data['Fare'][training_data['Embarked'] == 'S'], bins=15, alpha=0.5, label='Southampton')\n",
    "plt.hist(training_data['Fare'][training_data['Embarked'] == 'C'], bins=15, alpha=0.5, label='Cherbourg')\n",
    "plt.hist(training_data['Fare'][training_data['Embarked'] == 'Q'], bins=15, alpha=0.5, label='Queenstown')\n",
    "plt.title('Fare')\n",
    "plt.legend(loc='upper right')\n",
    "plt.show()"
   ]
  },
  {
   "cell_type": "code",
   "execution_count": 26,
   "id": "b3f4cff9",
   "metadata": {
    "execution": {
     "iopub.execute_input": "2023-04-29T01:06:34.973510Z",
     "iopub.status.busy": "2023-04-29T01:06:34.973065Z",
     "iopub.status.idle": "2023-04-29T01:06:35.249068Z",
     "shell.execute_reply": "2023-04-29T01:06:35.247904Z"
    },
    "papermill": {
     "duration": 0.311273,
     "end_time": "2023-04-29T01:06:35.251699",
     "exception": false,
     "start_time": "2023-04-29T01:06:34.940426",
     "status": "completed"
    },
    "tags": []
   },
   "outputs": [
    {
     "data": {
      "image/png": "[encoded data removed]",
      "text/plain": [
       "<Figure size 432x288 with 1 Axes>"
      ]
     },
     "metadata": {
      "needs_background": "light"
     },
     "output_type": "display_data"
    }
   ],
   "source": [
    "plt.hist([training_data['Fare'][training_data['Survived']==0],\n",
    "         training_data['Fare'][training_data['Survived']==1]],\n",
    "         bins=20,  alpha=0.5, label = ['Survided = 0', 'Survided = 1'])\n",
    "plt.title('Fare')\n",
    "plt.legend(loc='upper right')\n",
    "plt.show()"
   ]
  },
  {
   "cell_type": "markdown",
   "id": "e72ab87d",
   "metadata": {
    "papermill": {
     "duration": 0.031378,
     "end_time": "2023-04-29T01:06:35.314711",
     "exception": false,
     "start_time": "2023-04-29T01:06:35.283333",
     "status": "completed"
    },
    "tags": []
   },
   "source": [
    "As expected(?) passengers who paid more had better chances of survival.\n",
    "\n",
    "Most passengers with expensive tickets boraded in Cherbourg."
   ]
  },
  {
   "cell_type": "markdown",
   "id": "4d95477f",
   "metadata": {
    "papermill": {
     "duration": 0.031729,
     "end_time": "2023-04-29T01:06:35.378129",
     "exception": false,
     "start_time": "2023-04-29T01:06:35.346400",
     "status": "completed"
    },
    "tags": []
   },
   "source": [
    "## Embarked<a id=\"features_embarked\">"
   ]
  },
  {
   "cell_type": "code",
   "execution_count": 27,
   "id": "a0cf4f63",
   "metadata": {
    "execution": {
     "iopub.execute_input": "2023-04-29T01:06:35.447599Z",
     "iopub.status.busy": "2023-04-29T01:06:35.446567Z",
     "iopub.status.idle": "2023-04-29T01:06:35.723400Z",
     "shell.execute_reply": "2023-04-29T01:06:35.721866Z"
    },
    "papermill": {
     "duration": 0.316683,
     "end_time": "2023-04-29T01:06:35.726497",
     "exception": false,
     "start_time": "2023-04-29T01:06:35.409814",
     "status": "completed"
    },
    "tags": []
   },
   "outputs": [
    {
     "data": {
      "text/plain": [
       "<AxesSubplot:xlabel='Embarked', ylabel='count'>"
      ]
     },
     "execution_count": 27,
     "metadata": {},
     "output_type": "execute_result"
    },
    {
     "data": {
      "image/png": "[encoded data removed]",
      "text/plain": [
       "<Figure size 432x288 with 1 Axes>"
      ]
     },
     "metadata": {
      "needs_background": "light"
     },
     "output_type": "display_data"
    }
   ],
   "source": [
    "sns.countplot(data=X, x='Embarked', hue='Pclass')"
   ]
  },
  {
   "cell_type": "markdown",
   "id": "9d165000",
   "metadata": {
    "papermill": {
     "duration": 0.03633,
     "end_time": "2023-04-29T01:06:35.794937",
     "exception": false,
     "start_time": "2023-04-29T01:06:35.758607",
     "status": "completed"
    },
    "tags": []
   },
   "source": [
    "## Ticket<a id=\"features_ticket\">"
   ]
  },
  {
   "cell_type": "code",
   "execution_count": 28,
   "id": "14eec965",
   "metadata": {
    "execution": {
     "iopub.execute_input": "2023-04-29T01:06:35.861184Z",
     "iopub.status.busy": "2023-04-29T01:06:35.860758Z",
     "iopub.status.idle": "2023-04-29T01:06:35.872194Z",
     "shell.execute_reply": "2023-04-29T01:06:35.870471Z"
    },
    "papermill": {
     "duration": 0.047977,
     "end_time": "2023-04-29T01:06:35.874654",
     "exception": false,
     "start_time": "2023-04-29T01:06:35.826677",
     "status": "completed"
    },
    "tags": []
   },
   "outputs": [
    {
     "name": "stdout",
     "output_type": "stream",
     "text": [
      "(681,)\n",
      "['110152', '110413', '110465', '110564', '110813', '111240', '111320', '111361', '111369', '111426', '111427', '111428', '112050', '112052', '112053', '112058', '112059', '112277', '112379', '113028', '113043', '113050', '113051', '113055', '113056', '113059', '113501', '113503', '113505', '113509', '113510', '113514', '113572', '113760', '113767', '113773', '113776', '113781', '113783', '113784', '113786', '113787', '113788', '113789', '113792', '113794', '113796', '113798', '113800', '113803', '113804', '113806', '113807', '11668', '11751', '11752', '11753', '11755', '11765', '11767', '11769', '11771', '11774', '11813', '11967', '12233', '12460', '12749', '13049', '13213', '13214', '13502', '13507', '13509', '13567', '13568', '14311', '14312', '14313', '14973', '1601', '16966', '16988', '17421', '17453', '17463', '17464', '17465', '17466', '17474', '17764', '19877', '19928', '19943', '19947', '19950', '19952', '19972', '19988', '19996', '2003', '211536', '21440', '218629', '219533', '220367', '220845', '2223', '223596', '226593', '226875', '228414', '229236', '230080', '230136', '230433', '230434', '231919', '231945', '233639', '233866', '234360', '234604', '234686', '234818', '236171', '236852', '236853', '237442', '237565', '237668', '237671', '237736', '237789', '237798', '239853', '239854', '239855', '239856', '239865', '240929', '24160', '243847', '243880', '244252', '244270', '244278', '244310', '244358', '244361', '244367', '244373', '248698', '248706', '248723', '248727', '248731', '248733', '248738', '248740', '248747', '250643', '250644', '250646', '250647', '250648', '250649', '250651', '250652', '250653', '250655', '2620', '2623', '2624', '2625', '2626', '2627', '2628', '2629', '2631', '26360', '2641', '2647', '2648', '2649', '2650', '2651', '2653', '2659', '2661', '2662', '2663', '2664', '2665', '2666', '2667', '2668', '2669', '26707', '2671', '2672', '2674', '2677', '2678', '2680', '2683', '2685', '2686', '2687', '2689', '2690', '2691', '2693', '2694', '2695', '2697', '2699', '2700', '27042', '27267', '27849', '28134', '28206', '28213', '28220', '28228', '28403', '28424', '28425', '28551', '28664', '28665', '29011', '2908', '29103', '29104', '29105', '29106', '29108', '2926', '29750', '29751', '3101264', '3101265', '3101267', '3101276', '3101277', '3101278', '3101281', '3101295', '3101296', '3101298', '31027', '31028', '312991', '312992', '312993', '31418', '315037', '315082', '315084', '315086', '315088', '315089', '315090', '315093', '315094', '315096', '315097', '315098', '315151', '315153', '323592', '323951', '324669', '330877', '330909', '330919', '330923', '330931', '330932', '330935', '330958', '330959', '330979', '330980', '334912', '335097', '335677', '33638', '336439', '3411', '341826', '34218', '342826', '343095', '343120', '343275', '343276', '345364', '345572', '345763', '345764', '345765', '345767', '345769', '345770', '345773', '345774', '345777', '345778', '345779', '345780', '345781', '345783', '3460', '347054', '347060', '347061', '347062', '347063', '347064', '347067', '347068', '347069', '347071', '347073', '347074', '347076', '347077', '347078', '347080', '347081', '347082', '347083', '347085', '347087', '347088', '347089', '3474', '347464', '347466', '347468', '347470', '347742', '347743', '348121', '348123', '348124', '349201', '349203', '349204', '349205', '349206', '349207', '349208', '349209', '349210', '349212', '349213', '349214', '349215', '349216', '349217', '349218', '349219', '349221', '349222', '349223', '349224', '349225', '349227', '349228', '349231', '349233', '349234', '349236', '349237', '349239', '349240', '349241', '349242', '349243', '349244', '349245', '349246', '349247', '349248', '349249', '349251', '349252', '349253', '349254', '349256', '349257', '349909', '349910', '349912', '350025', '350026', '350029', '350034', '350035', '350036', '350042', '350043', '350046', '350047', '350048', '350050', '350052', '350060', '350404', '350406', '350407', '350417', '35273', '35281', '35851', '35852', '358585', '36209', '362316', '363291', '363294', '363592', '364498', '364499', '364500', '364506', '364511', '364512', '364516', '364846', '364848', '364849', '364850', '364851', '365222', '365226', '36568', '367226', '367228', '367229', '367230', '367231', '367232', '367655', '368323', '36864', '36865', '36866', '368703', '36928', '36947', '36963', '36967', '36973', '370129', '370365', '370369', '370370', '370371', '370372', '370373', '370375', '370376', '370377', '371060', '371110', '371362', '372622', '373450', '374746', '374887', '374910', '376564', '376566', '382649', '382651', '382652', '383121', '384461', '386525', '392091', '392092', '392096', '394140', '4133', '4134', '4135', '4136', '4137', '4138', '4579', '54636', '5727', '65303', '65304', '65306', '6563', '693', '695', '7267', '7534', '7540', '7545', '7546', '7552', '7553', '7598', '8471', '8475', '9234', 'A./5. 2152', 'A./5. 3235', 'A.5. 11206', 'A.5. 18509', 'A/4 45380', 'A/4 48871', 'A/4. 20589', 'A/4. 34244', 'A/4. 39886', 'A/5 21171', 'A/5 21172', 'A/5 21173', 'A/5 21174', 'A/5 2466', 'A/5 2817', 'A/5 3536', 'A/5 3540', 'A/5 3594', 'A/5 3902', 'A/5. 10482', 'A/5. 13032', 'A/5. 2151', 'A/5. 3336', 'A/5. 3337', 'A/5. 851', 'A/S 2816', 'A4. 54510', 'C 17369', 'C 4001', 'C 7075', 'C 7076', 'C 7077', 'C.A. 17248', 'C.A. 18723', 'C.A. 2315', 'C.A. 24579', 'C.A. 24580', 'C.A. 2673', 'C.A. 29178', 'C.A. 29395', 'C.A. 29566', 'C.A. 31026', 'C.A. 31921', 'C.A. 33111', 'C.A. 33112', 'C.A. 33595', 'C.A. 34260', 'C.A. 34651', 'C.A. 37671', 'C.A. 5547', 'C.A. 6212', 'C.A./SOTON 34068', 'CA 2144', 'CA. 2314', 'CA. 2343', 'F.C. 12750', 'F.C.C. 13528', 'F.C.C. 13529', 'F.C.C. 13531', 'Fa 265302', 'LINE', 'P/PP 3381', 'PC 17318', 'PC 17473', 'PC 17474', 'PC 17475', 'PC 17476', 'PC 17477', 'PC 17482', 'PC 17483', 'PC 17485', 'PC 17558', 'PC 17569', 'PC 17572', 'PC 17582', 'PC 17585', 'PC 17590', 'PC 17592', 'PC 17593', 'PC 17595', 'PC 17596', 'PC 17597', 'PC 17599', 'PC 17600', 'PC 17601', 'PC 17603', 'PC 17604', 'PC 17605', 'PC 17608', 'PC 17609', 'PC 17610', 'PC 17611', 'PC 17612', 'PC 17754', 'PC 17755', 'PC 17756', 'PC 17757', 'PC 17758', 'PC 17759', 'PC 17760', 'PC 17761', 'PP 4348', 'PP 9549', 'S.C./A.4. 23567', 'S.C./PARIS 2079', 'S.O./P.P. 3', 'S.O./P.P. 751', 'S.O.C. 14879', 'S.O.P. 1166', 'S.P. 3464', 'S.W./PP 752', 'SC 1748', 'SC/AH 29037', 'SC/AH 3085', 'SC/AH Basle 541', 'SC/PARIS 2131', 'SC/PARIS 2133', 'SC/PARIS 2146', 'SC/PARIS 2149', 'SC/PARIS 2167', 'SC/Paris 2123', 'SC/Paris 2163', 'SCO/W 1585', 'SO/C 14885', 'SOTON/O.Q. 3101305', 'SOTON/O.Q. 3101306', 'SOTON/O.Q. 3101307', 'SOTON/O.Q. 3101310', 'SOTON/O.Q. 3101311', 'SOTON/O.Q. 3101312', 'SOTON/O.Q. 392078', 'SOTON/O.Q. 392087', 'SOTON/O2 3101272', 'SOTON/O2 3101287', 'SOTON/OQ 3101316', 'SOTON/OQ 3101317', 'SOTON/OQ 392076', 'SOTON/OQ 392082', 'SOTON/OQ 392086', 'SOTON/OQ 392089', 'SOTON/OQ 392090', 'STON/O 2. 3101269', 'STON/O 2. 3101273', 'STON/O 2. 3101274', 'STON/O 2. 3101275', 'STON/O 2. 3101280', 'STON/O 2. 3101285', 'STON/O 2. 3101286', 'STON/O 2. 3101288', 'STON/O 2. 3101289', 'STON/O 2. 3101292', 'STON/O 2. 3101293', 'STON/O 2. 3101294', 'STON/O2. 3101271', 'STON/O2. 3101279', 'STON/O2. 3101282', 'STON/O2. 3101283', 'STON/O2. 3101290', 'SW/PP 751', 'W./C. 14258', 'W./C. 14263', 'W./C. 6607', 'W./C. 6608', 'W./C. 6609', 'W.E.P. 5734', 'W/C 14208', 'WE/P 5735']\n",
      "134\n"
     ]
    }
   ],
   "source": [
    "print(np.shape(training_data['Ticket'].unique()))\n",
    "print(sorted(training_data['Ticket'].unique()))\n",
    "print(training_data['Ticket'].value_counts()[training_data['Ticket'].value_counts() > 1].count())"
   ]
  },
  {
   "cell_type": "markdown",
   "id": "2de46665",
   "metadata": {
    "papermill": {
     "duration": 0.031752,
     "end_time": "2023-04-29T01:06:35.938852",
     "exception": false,
     "start_time": "2023-04-29T01:06:35.907100",
     "status": "completed"
    },
    "tags": []
   },
   "source": [
    "Doesn't look like there's anything interesting here.  \n",
    "Good candidate for dropping.  \n",
    "  \n",
    "However, looking at which tickets are being shared by many passengers may give info about family/friends,  \n",
    "under the assumption that people with same tickets bought the passage toghether."
   ]
  },
  {
   "cell_type": "markdown",
   "id": "6f8e80ec",
   "metadata": {
    "papermill": {
     "duration": 0.031765,
     "end_time": "2023-04-29T01:06:36.002846",
     "exception": false,
     "start_time": "2023-04-29T01:06:35.971081",
     "status": "completed"
    },
    "tags": []
   },
   "source": [
    "## Association between features"
   ]
  },
  {
   "cell_type": "markdown",
   "id": "af7efe61",
   "metadata": {
    "papermill": {
     "duration": 0.031625,
     "end_time": "2023-04-29T01:06:36.066676",
     "exception": false,
     "start_time": "2023-04-29T01:06:36.035051",
     "status": "completed"
    },
    "tags": []
   },
   "source": [
    "### Correlation<a id=\"features_correlation\">"
   ]
  },
  {
   "cell_type": "code",
   "execution_count": 29,
   "id": "c02b0f01",
   "metadata": {
    "execution": {
     "iopub.execute_input": "2023-04-29T01:06:36.133217Z",
     "iopub.status.busy": "2023-04-29T01:06:36.132058Z",
     "iopub.status.idle": "2023-04-29T01:06:36.926818Z",
     "shell.execute_reply": "2023-04-29T01:06:36.925681Z"
    },
    "papermill": {
     "duration": 0.830992,
     "end_time": "2023-04-29T01:06:36.929728",
     "exception": false,
     "start_time": "2023-04-29T01:06:36.098736",
     "status": "completed"
    },
    "tags": []
   },
   "outputs": [
    {
     "data": {
      "text/html": [
       "<div>\n",
       "<style scoped>\n",
       "    .dataframe tbody tr th:only-of-type {\n",
       "        vertical-align: middle;\n",
       "    }\n",
       "\n",
       "    .dataframe tbody tr th {\n",
       "        vertical-align: top;\n",
       "    }\n",
       "\n",
       "    .dataframe thead th {\n",
       "        text-align: right;\n",
       "    }\n",
       "</style>\n",
       "<table border=\"1\" class=\"dataframe\">\n",
       "  <thead>\n",
       "    <tr style=\"text-align: right;\">\n",
       "      <th></th>\n",
       "      <th>PassengerId</th>\n",
       "      <th>Survived</th>\n",
       "      <th>Pclass</th>\n",
       "      <th>Age</th>\n",
       "      <th>SibSp</th>\n",
       "      <th>Parch</th>\n",
       "      <th>Fare</th>\n",
       "    </tr>\n",
       "  </thead>\n",
       "  <tbody>\n",
       "    <tr>\n",
       "      <th>PassengerId</th>\n",
       "      <td>1.000000</td>\n",
       "      <td>-0.005007</td>\n",
       "      <td>-0.034091</td>\n",
       "      <td>0.041010</td>\n",
       "      <td>-0.061161</td>\n",
       "      <td>0.001235</td>\n",
       "      <td>-0.013975</td>\n",
       "    </tr>\n",
       "    <tr>\n",
       "      <th>Survived</th>\n",
       "      <td>-0.005007</td>\n",
       "      <td>1.000000</td>\n",
       "      <td>-0.339668</td>\n",
       "      <td>-0.052565</td>\n",
       "      <td>0.088879</td>\n",
       "      <td>0.138266</td>\n",
       "      <td>0.323736</td>\n",
       "    </tr>\n",
       "    <tr>\n",
       "      <th>Pclass</th>\n",
       "      <td>-0.034091</td>\n",
       "      <td>-0.339668</td>\n",
       "      <td>1.000000</td>\n",
       "      <td>-0.361666</td>\n",
       "      <td>-0.043019</td>\n",
       "      <td>-0.022801</td>\n",
       "      <td>-0.688032</td>\n",
       "    </tr>\n",
       "    <tr>\n",
       "      <th>Age</th>\n",
       "      <td>0.041010</td>\n",
       "      <td>-0.052565</td>\n",
       "      <td>-0.361666</td>\n",
       "      <td>1.000000</td>\n",
       "      <td>-0.182061</td>\n",
       "      <td>-0.254212</td>\n",
       "      <td>0.135051</td>\n",
       "    </tr>\n",
       "    <tr>\n",
       "      <th>SibSp</th>\n",
       "      <td>-0.061161</td>\n",
       "      <td>0.088879</td>\n",
       "      <td>-0.043019</td>\n",
       "      <td>-0.182061</td>\n",
       "      <td>1.000000</td>\n",
       "      <td>0.450014</td>\n",
       "      <td>0.447113</td>\n",
       "    </tr>\n",
       "    <tr>\n",
       "      <th>Parch</th>\n",
       "      <td>0.001235</td>\n",
       "      <td>0.138266</td>\n",
       "      <td>-0.022801</td>\n",
       "      <td>-0.254212</td>\n",
       "      <td>0.450014</td>\n",
       "      <td>1.000000</td>\n",
       "      <td>0.410074</td>\n",
       "    </tr>\n",
       "    <tr>\n",
       "      <th>Fare</th>\n",
       "      <td>-0.013975</td>\n",
       "      <td>0.323736</td>\n",
       "      <td>-0.688032</td>\n",
       "      <td>0.135051</td>\n",
       "      <td>0.447113</td>\n",
       "      <td>0.410074</td>\n",
       "      <td>1.000000</td>\n",
       "    </tr>\n",
       "  </tbody>\n",
       "</table>\n",
       "</div>"
      ],
      "text/plain": [
       "             PassengerId  Survived    Pclass       Age     SibSp     Parch  \\\n",
       "PassengerId     1.000000 -0.005007 -0.034091  0.041010 -0.061161  0.001235   \n",
       "Survived       -0.005007  1.000000 -0.339668 -0.052565  0.088879  0.138266   \n",
       "Pclass         -0.034091 -0.339668  1.000000 -0.361666 -0.043019 -0.022801   \n",
       "Age             0.041010 -0.052565 -0.361666  1.000000 -0.182061 -0.254212   \n",
       "SibSp          -0.061161  0.088879 -0.043019 -0.182061  1.000000  0.450014   \n",
       "Parch           0.001235  0.138266 -0.022801 -0.254212  0.450014  1.000000   \n",
       "Fare           -0.013975  0.323736 -0.688032  0.135051  0.447113  0.410074   \n",
       "\n",
       "                 Fare  \n",
       "PassengerId -0.013975  \n",
       "Survived     0.323736  \n",
       "Pclass      -0.688032  \n",
       "Age          0.135051  \n",
       "SibSp        0.447113  \n",
       "Parch        0.410074  \n",
       "Fare         1.000000  "
      ]
     },
     "metadata": {},
     "output_type": "display_data"
    },
    {
     "data": {
      "text/plain": [
       "<AxesSubplot:>"
      ]
     },
     "execution_count": 29,
     "metadata": {},
     "output_type": "execute_result"
    },
    {
     "data": {
      "image/png": "[encoded data removed]",
      "text/plain": [
       "<Figure size 432x288 with 2 Axes>"
      ]
     },
     "metadata": {
      "needs_background": "light"
     },
     "output_type": "display_data"
    }
   ],
   "source": [
    "correlations = training_data.corr(method='spearman')\n",
    "display(correlations)\n",
    "sns.heatmap(correlations, annot=True)"
   ]
  },
  {
   "cell_type": "markdown",
   "id": "84a960d4",
   "metadata": {
    "papermill": {
     "duration": 0.032434,
     "end_time": "2023-04-29T01:06:36.995161",
     "exception": false,
     "start_time": "2023-04-29T01:06:36.962727",
     "status": "completed"
    },
    "tags": []
   },
   "source": [
    "### Mutual Information"
   ]
  },
  {
   "cell_type": "code",
   "execution_count": 30,
   "id": "8aa9cf6f",
   "metadata": {
    "execution": {
     "iopub.execute_input": "2023-04-29T01:06:37.063609Z",
     "iopub.status.busy": "2023-04-29T01:06:37.062392Z",
     "iopub.status.idle": "2023-04-29T01:06:37.322120Z",
     "shell.execute_reply": "2023-04-29T01:06:37.320346Z"
    },
    "papermill": {
     "duration": 0.296755,
     "end_time": "2023-04-29T01:06:37.324932",
     "exception": false,
     "start_time": "2023-04-29T01:06:37.028177",
     "status": "completed"
    },
    "tags": []
   },
   "outputs": [
    {
     "name": "stdout",
     "output_type": "stream",
     "text": [
      "PassengerId     True\n",
      "Pclass          True\n",
      "Sex             True\n",
      "Age            False\n",
      "SibSp           True\n",
      "Parch           True\n",
      "Ticket          True\n",
      "Fare           False\n",
      "Embarked        True\n",
      "dtype: bool\n"
     ]
    }
   ],
   "source": [
    "from sklearn.feature_selection import mutual_info_classif\n",
    "\n",
    "x_ = X.copy()\n",
    "x_ = x_.drop('Cabin', axis=1)\n",
    "x_ = x_.drop('Name', axis=1)\n",
    "x_['Age'] = x_['Age'].fillna(x_['Age'].median())\n",
    "\n",
    "# Label encoding for categoricals\n",
    "for colname in x_.select_dtypes(\"object\"):\n",
    "    x_[colname], _ = x_[colname].factorize()\n",
    "\n",
    "# Check all discrete features have integer dtypes\n",
    "discrete_features = x_.dtypes == int\n",
    "print(discrete_features)"
   ]
  },
  {
   "cell_type": "code",
   "execution_count": 31,
   "id": "ef4c3def",
   "metadata": {
    "execution": {
     "iopub.execute_input": "2023-04-29T01:06:37.392826Z",
     "iopub.status.busy": "2023-04-29T01:06:37.392386Z",
     "iopub.status.idle": "2023-04-29T01:06:37.654494Z",
     "shell.execute_reply": "2023-04-29T01:06:37.653687Z"
    },
    "papermill": {
     "duration": 0.29907,
     "end_time": "2023-04-29T01:06:37.657120",
     "exception": false,
     "start_time": "2023-04-29T01:06:37.358050",
     "status": "completed"
    },
    "tags": []
   },
   "outputs": [
    {
     "name": "stdout",
     "output_type": "stream",
     "text": [
      "PassengerId    0.665912\n",
      "Ticket         0.572496\n",
      "Fare           0.157460\n",
      "Sex            0.150870\n",
      "Pclass         0.058107\n",
      "SibSp          0.023197\n",
      "Age            0.023035\n",
      "Embarked       0.016668\n",
      "Parch          0.016366\n",
      "Name: MutualInfo, dtype: float64\n"
     ]
    },
    {
     "data": {
      "image/png": "[encoded data removed]",
      "text/plain": [
       "<Figure size 432x288 with 1 Axes>"
      ]
     },
     "metadata": {
      "needs_background": "light"
     },
     "output_type": "display_data"
    }
   ],
   "source": [
    "def get_mutual_info(x, y, discrete_features):\n",
    "    mutual_info = mutual_info_classif(x, y, discrete_features=discrete_features)\n",
    "    return pd.Series(mutual_info, name=\"MutualInfo\", index=x.columns).sort_values(ascending=False)\n",
    "\n",
    "def plot_mi_scores(mutual_inf):\n",
    "    mutual_inf = mutual_inf.sort_values(ascending=True)\n",
    "    scale = np.arange(len(mutual_inf))\n",
    "    plt.barh(y=scale, width=mutual_inf)\n",
    "    plt.yticks(scale, labels=list(mutual_inf.index))\n",
    "    plt.title(\"Mutual Information\")\n",
    "\n",
    "mut_info = get_mutual_info(x_, y, discrete_features)\n",
    "print(mut_info)\n",
    "\n",
    "plt.figure()\n",
    "plot_mi_scores(mut_info)"
   ]
  },
  {
   "cell_type": "markdown",
   "id": "3d9d68fc",
   "metadata": {
    "papermill": {
     "duration": 0.033666,
     "end_time": "2023-04-29T01:06:37.724072",
     "exception": false,
     "start_time": "2023-04-29T01:06:37.690406",
     "status": "completed"
    },
    "tags": []
   },
   "source": [
    "Mutual information is high for `PassengerID` and `Ticket`. `Ticket`, because is factorized and few passengers share the same Ticket, should be practically working as an index, the same as `PassengerID`.\n",
    "\n",
    "I wonder if this could be an artifact of having discrete values that unequivocally identify the target, or whether data has some intrinsic order that could leak the target."
   ]
  },
  {
   "cell_type": "code",
   "execution_count": 32,
   "id": "c2a09ff8",
   "metadata": {
    "execution": {
     "iopub.execute_input": "2023-04-29T01:06:37.792954Z",
     "iopub.status.busy": "2023-04-29T01:06:37.792217Z",
     "iopub.status.idle": "2023-04-29T01:06:38.007233Z",
     "shell.execute_reply": "2023-04-29T01:06:38.006048Z"
    },
    "papermill": {
     "duration": 0.252127,
     "end_time": "2023-04-29T01:06:38.009908",
     "exception": false,
     "start_time": "2023-04-29T01:06:37.757781",
     "status": "completed"
    },
    "tags": []
   },
   "outputs": [
    {
     "data": {
      "image/png": "[encoded data removed]",
      "text/plain": [
       "<Figure size 2376x216 with 1 Axes>"
      ]
     },
     "metadata": {
      "needs_background": "light"
     },
     "output_type": "display_data"
    }
   ],
   "source": [
    "plt.figure(figsize=(33,3))\n",
    "plt.scatter(data=training_data, x='PassengerId', y='Survived', marker='.')\n",
    "plt.show()"
   ]
  },
  {
   "cell_type": "code",
   "execution_count": 33,
   "id": "9d1543dc",
   "metadata": {
    "execution": {
     "iopub.execute_input": "2023-04-29T01:06:38.081542Z",
     "iopub.status.busy": "2023-04-29T01:06:38.081100Z",
     "iopub.status.idle": "2023-04-29T01:06:38.347166Z",
     "shell.execute_reply": "2023-04-29T01:06:38.345904Z"
    },
    "papermill": {
     "duration": 0.304856,
     "end_time": "2023-04-29T01:06:38.349748",
     "exception": false,
     "start_time": "2023-04-29T01:06:38.044892",
     "status": "completed"
    },
    "tags": []
   },
   "outputs": [
    {
     "name": "stdout",
     "output_type": "stream",
     "text": [
      "PassengerId     True\n",
      "Pclass          True\n",
      "Sex             True\n",
      "Age            False\n",
      "SibSp           True\n",
      "Parch           True\n",
      "Ticket          True\n",
      "Fare           False\n",
      "Embarked        True\n",
      "randoms_int     True\n",
      "dtype: bool\n",
      "PassengerId    0.665912\n",
      "randoms_int    0.665912\n",
      "Ticket         0.572496\n",
      "Sex            0.150870\n",
      "Fare           0.124840\n",
      "Pclass         0.058107\n",
      "Age            0.028412\n",
      "SibSp          0.023197\n",
      "Embarked       0.016668\n",
      "Parch          0.016366\n",
      "Name: MutualInfo, dtype: float64\n"
     ]
    },
    {
     "data": {
      "image/png": "[encoded data removed]",
      "text/plain": [
       "<Figure size 432x288 with 1 Axes>"
      ]
     },
     "metadata": {
      "needs_background": "light"
     },
     "output_type": "display_data"
    }
   ],
   "source": [
    "x_['randoms_int'] = np.random.permutation(len(x_))\n",
    "\n",
    "discrete_features = x_.dtypes == int\n",
    "print(discrete_features)\n",
    "\n",
    "mut_info = get_mutual_info(x_, y, discrete_features)\n",
    "print(mut_info)\n",
    "\n",
    "plt.figure()\n",
    "plot_mi_scores(mut_info)"
   ]
  },
  {
   "cell_type": "markdown",
   "id": "d8347c23",
   "metadata": {
    "papermill": {
     "duration": 0.034407,
     "end_time": "2023-04-29T01:06:38.419474",
     "exception": false,
     "start_time": "2023-04-29T01:06:38.385067",
     "status": "completed"
    },
    "tags": []
   },
   "source": [
    "It seems that the high MI values were related to having non-repeating integer variables since a randomly assigned integers can reproduce the scores."
   ]
  },
  {
   "cell_type": "code",
   "execution_count": 34,
   "id": "d72c02a1",
   "metadata": {
    "execution": {
     "iopub.execute_input": "2023-04-29T01:06:38.491725Z",
     "iopub.status.busy": "2023-04-29T01:06:38.491300Z",
     "iopub.status.idle": "2023-04-29T01:06:38.495931Z",
     "shell.execute_reply": "2023-04-29T01:06:38.494935Z"
    },
    "papermill": {
     "duration": 0.04414,
     "end_time": "2023-04-29T01:06:38.498435",
     "exception": false,
     "start_time": "2023-04-29T01:06:38.454295",
     "status": "completed"
    },
    "tags": []
   },
   "outputs": [],
   "source": [
    "del x_"
   ]
  },
  {
   "cell_type": "markdown",
   "id": "56a7ed38",
   "metadata": {
    "papermill": {
     "duration": 0.033789,
     "end_time": "2023-04-29T01:06:38.566700",
     "exception": false,
     "start_time": "2023-04-29T01:06:38.532911",
     "status": "completed"
    },
    "tags": []
   },
   "source": [
    "`Fare` and `Sex` seem to be good indicators of survival.\n",
    "\n",
    "`Pclass` is also a good indicator. It shoudl be consider however it's strong negative correlation with `Fare`.\n",
    "\n",
    "The presence or absence of `Cabin` information is also a powerful predictor of the target variable, but it must be considered as data leakage.  \n",
    "While there seems to be value in knowing in which Deck a passenger traveled, it should be considered that this can also be an effect of leackage:  \n",
    "For example, it could be that passengers in Deck A (with similar rates of survivals and deaths) are more likely to talk about their fellow pasengers than passengers from Deck B (where survival rate is greater)."
   ]
  },
  {
   "cell_type": "markdown",
   "id": "26fc10a0",
   "metadata": {
    "papermill": {
     "duration": 0.034516,
     "end_time": "2023-04-29T01:06:38.635591",
     "exception": false,
     "start_time": "2023-04-29T01:06:38.601075",
     "status": "completed"
    },
    "tags": []
   },
   "source": [
    "## Feature Engineering<a id=\"feature_engineering\">"
   ]
  },
  {
   "cell_type": "markdown",
   "id": "98088c9e",
   "metadata": {
    "papermill": {
     "duration": 0.034226,
     "end_time": "2023-04-29T01:06:38.705417",
     "exception": false,
     "start_time": "2023-04-29T01:06:38.671191",
     "status": "completed"
    },
    "tags": []
   },
   "source": [
    "Eliminate first the Passenger ID, because for sure is of no use."
   ]
  },
  {
   "cell_type": "code",
   "execution_count": 35,
   "id": "df926bd4",
   "metadata": {
    "execution": {
     "iopub.execute_input": "2023-04-29T01:06:38.777351Z",
     "iopub.status.busy": "2023-04-29T01:06:38.776893Z",
     "iopub.status.idle": "2023-04-29T01:06:38.784127Z",
     "shell.execute_reply": "2023-04-29T01:06:38.783209Z"
    },
    "papermill": {
     "duration": 0.046611,
     "end_time": "2023-04-29T01:06:38.786271",
     "exception": false,
     "start_time": "2023-04-29T01:06:38.739660",
     "status": "completed"
    },
    "tags": []
   },
   "outputs": [],
   "source": [
    "X = X.drop('PassengerId', axis=1)"
   ]
  },
  {
   "cell_type": "markdown",
   "id": "58cfc907",
   "metadata": {
    "papermill": {
     "duration": 0.034358,
     "end_time": "2023-04-29T01:06:38.854667",
     "exception": false,
     "start_time": "2023-04-29T01:06:38.820309",
     "status": "completed"
    },
    "tags": []
   },
   "source": [
    "## Name - Honorifics<a id=\"featureEng_honor\">\n",
    "\n",
    "The `Name` feature include a honorific title that could be useful for OHE.\n",
    "\n",
    "It would likely convey similar, but more detailed information than `Sex`."
   ]
  },
  {
   "cell_type": "code",
   "execution_count": 36,
   "id": "29954f02",
   "metadata": {
    "execution": {
     "iopub.execute_input": "2023-04-29T01:06:38.925202Z",
     "iopub.status.busy": "2023-04-29T01:06:38.924767Z",
     "iopub.status.idle": "2023-04-29T01:06:38.934945Z",
     "shell.execute_reply": "2023-04-29T01:06:38.933747Z"
    },
    "papermill": {
     "duration": 0.04796,
     "end_time": "2023-04-29T01:06:38.937500",
     "exception": false,
     "start_time": "2023-04-29T01:06:38.889540",
     "status": "completed"
    },
    "tags": []
   },
   "outputs": [
    {
     "name": "stdout",
     "output_type": "stream",
     "text": [
      "Mr              517\n",
      "Miss            182\n",
      "Mrs             125\n",
      "Master           40\n",
      "Dr                7\n",
      "Rev               6\n",
      "Mlle              2\n",
      "Major             2\n",
      "Col               2\n",
      "the Countess      1\n",
      "Capt              1\n",
      "Ms                1\n",
      "Sir               1\n",
      "Lady              1\n",
      "Mme               1\n",
      "Don               1\n",
      "Jonkheer          1\n",
      "Name: Name, dtype: int64\n",
      "\n",
      "null values:  0\n"
     ]
    }
   ],
   "source": [
    "honorif = X['Name'].map(lambda name: name.split(',')[1].split('.')[0].strip())\n",
    "print(honorif.value_counts())\n",
    "print('\\nnull values: ', honorif.isnull().sum())"
   ]
  },
  {
   "cell_type": "markdown",
   "id": "02306a37",
   "metadata": {
    "papermill": {
     "duration": 0.033531,
     "end_time": "2023-04-29T01:06:39.005112",
     "exception": false,
     "start_time": "2023-04-29T01:06:38.971581",
     "status": "completed"
    },
    "tags": []
   },
   "source": [
    "Jonkheer: Squire (Netherlands)"
   ]
  },
  {
   "cell_type": "code",
   "execution_count": 37,
   "id": "496eb5de",
   "metadata": {
    "execution": {
     "iopub.execute_input": "2023-04-29T01:06:39.075668Z",
     "iopub.status.busy": "2023-04-29T01:06:39.075262Z",
     "iopub.status.idle": "2023-04-29T01:06:39.091755Z",
     "shell.execute_reply": "2023-04-29T01:06:39.090282Z"
    },
    "papermill": {
     "duration": 0.055372,
     "end_time": "2023-04-29T01:06:39.094549",
     "exception": false,
     "start_time": "2023-04-29T01:06:39.039177",
     "status": "completed"
    },
    "tags": []
   },
   "outputs": [
    {
     "name": "stdout",
     "output_type": "stream",
     "text": [
      "0.17804567702009755\n",
      "MI Honorific vs. Sex:  0.6457055951718372\n"
     ]
    }
   ],
   "source": [
    "factorized_honorif, _ = honorif.factorize()\n",
    "factorized_honorif = pd.DataFrame(factorized_honorif)\n",
    "mut_info = get_mutual_info(factorized_honorif, y, discrete_features=True)\n",
    "print(mut_info[0])\n",
    "\n",
    "factorized_sex, _ = training_data['Sex'].factorize()\n",
    "mut_info = get_mutual_info(factorized_honorif, factorized_sex, discrete_features=True)\n",
    "print('MI Honorific vs. Sex: ', mut_info[0])"
   ]
  },
  {
   "cell_type": "code",
   "execution_count": 38,
   "id": "0ed16a40",
   "metadata": {
    "execution": {
     "iopub.execute_input": "2023-04-29T01:06:39.164368Z",
     "iopub.status.busy": "2023-04-29T01:06:39.163932Z",
     "iopub.status.idle": "2023-04-29T01:06:39.173220Z",
     "shell.execute_reply": "2023-04-29T01:06:39.171929Z"
    },
    "papermill": {
     "duration": 0.047009,
     "end_time": "2023-04-29T01:06:39.175677",
     "exception": false,
     "start_time": "2023-04-29T01:06:39.128668",
     "status": "completed"
    },
    "tags": []
   },
   "outputs": [
    {
     "name": "stdout",
     "output_type": "stream",
     "text": [
      "Mr        240\n",
      "Miss       78\n",
      "Mrs        72\n",
      "Master     21\n",
      "Col         2\n",
      "Rev         2\n",
      "Ms          1\n",
      "Dr          1\n",
      "Dona        1\n",
      "Name: Name, dtype: int64\n",
      "\n",
      "null values:  0\n"
     ]
    }
   ],
   "source": [
    "honorif_test = test_data['Name'].map(lambda name: name.split(',')[1].split('.')[0].strip())\n",
    "print(honorif_test.value_counts())\n",
    "print('\\nnull values: ', honorif_test.isnull().sum())"
   ]
  },
  {
   "cell_type": "code",
   "execution_count": 39,
   "id": "2b52ca44",
   "metadata": {
    "execution": {
     "iopub.execute_input": "2023-04-29T01:06:39.245823Z",
     "iopub.status.busy": "2023-04-29T01:06:39.245332Z",
     "iopub.status.idle": "2023-04-29T01:06:39.707613Z",
     "shell.execute_reply": "2023-04-29T01:06:39.706352Z"
    },
    "papermill": {
     "duration": 0.500624,
     "end_time": "2023-04-29T01:06:39.710666",
     "exception": false,
     "start_time": "2023-04-29T01:06:39.210042",
     "status": "completed"
    },
    "tags": []
   },
   "outputs": [
    {
     "data": {
      "image/png": "[encoded data removed]",
      "text/plain": [
       "<Figure size 1080x360 with 1 Axes>"
      ]
     },
     "metadata": {
      "needs_background": "light"
     },
     "output_type": "display_data"
    }
   ],
   "source": [
    "x_ = training_data.copy()\n",
    "x_['HonorTitle'] = honorif\n",
    "\n",
    "plt.figure(figsize=(15,5))\n",
    "ax = sns.countplot(data=x_, x='HonorTitle', hue='Survived')\n",
    "for container in ax.containers:  # Display counts (https://stackoverflow.com/a/68334380/15032126)\n",
    "    ax.bar_label(container)\n",
    "plt.show()"
   ]
  },
  {
   "cell_type": "markdown",
   "id": "3596f168",
   "metadata": {
    "papermill": {
     "duration": 0.035907,
     "end_time": "2023-04-29T01:06:39.782596",
     "exception": false,
     "start_time": "2023-04-29T01:06:39.746689",
     "status": "completed"
    },
    "tags": []
   },
   "source": [
    "As expected the honorific has a higher mutual information score against the target than `Sex`. We need to be careful however, since there's a lot of values that appear only once or twice, and therefore are bound to hold lot of information about the target.\n",
    "\n",
    "When choosing whether to use the honorific, `Sex`, or both it whould be taken into account that there's a lot of redundancy between both features.  \n",
    "Also, there are some honorifics that appear only once, many that don't appear on the test set, and there's one honorific in the test set (`Dona`) that is not present in the training set.\n",
    "These are either nobility titles or high ranks in the army. Therefore, it should be considered whether to have a single default category for all of them."
   ]
  },
  {
   "cell_type": "code",
   "execution_count": 40,
   "id": "2075108d",
   "metadata": {
    "execution": {
     "iopub.execute_input": "2023-04-29T01:06:39.856961Z",
     "iopub.status.busy": "2023-04-29T01:06:39.856212Z",
     "iopub.status.idle": "2023-04-29T01:06:39.863805Z",
     "shell.execute_reply": "2023-04-29T01:06:39.862402Z"
    },
    "papermill": {
     "duration": 0.047396,
     "end_time": "2023-04-29T01:06:39.866214",
     "exception": false,
     "start_time": "2023-04-29T01:06:39.818818",
     "status": "completed"
    },
    "tags": []
   },
   "outputs": [],
   "source": [
    "X = X.drop('Name', axis=1)\n",
    "X['HonorTitle'] = honorif"
   ]
  },
  {
   "cell_type": "code",
   "execution_count": 41,
   "id": "12a72f1f",
   "metadata": {
    "execution": {
     "iopub.execute_input": "2023-04-29T01:06:39.941100Z",
     "iopub.status.busy": "2023-04-29T01:06:39.940683Z",
     "iopub.status.idle": "2023-04-29T01:06:39.971017Z",
     "shell.execute_reply": "2023-04-29T01:06:39.969461Z"
    },
    "papermill": {
     "duration": 0.070262,
     "end_time": "2023-04-29T01:06:39.973975",
     "exception": false,
     "start_time": "2023-04-29T01:06:39.903713",
     "status": "completed"
    },
    "tags": []
   },
   "outputs": [
    {
     "data": {
      "text/html": [
       "<div>\n",
       "<style scoped>\n",
       "    .dataframe tbody tr th:only-of-type {\n",
       "        vertical-align: middle;\n",
       "    }\n",
       "\n",
       "    .dataframe tbody tr th {\n",
       "        vertical-align: top;\n",
       "    }\n",
       "\n",
       "    .dataframe thead th {\n",
       "        text-align: right;\n",
       "    }\n",
       "</style>\n",
       "<table border=\"1\" class=\"dataframe\">\n",
       "  <thead>\n",
       "    <tr style=\"text-align: right;\">\n",
       "      <th></th>\n",
       "      <th>Pclass</th>\n",
       "      <th>Sex</th>\n",
       "      <th>Age</th>\n",
       "      <th>SibSp</th>\n",
       "      <th>Parch</th>\n",
       "      <th>Ticket</th>\n",
       "      <th>Fare</th>\n",
       "      <th>Cabin</th>\n",
       "      <th>Embarked</th>\n",
       "      <th>HonorTitle_Capt</th>\n",
       "      <th>...</th>\n",
       "      <th>HonorTitle_Master</th>\n",
       "      <th>HonorTitle_Miss</th>\n",
       "      <th>HonorTitle_Mlle</th>\n",
       "      <th>HonorTitle_Mme</th>\n",
       "      <th>HonorTitle_Mr</th>\n",
       "      <th>HonorTitle_Mrs</th>\n",
       "      <th>HonorTitle_Ms</th>\n",
       "      <th>HonorTitle_Rev</th>\n",
       "      <th>HonorTitle_Sir</th>\n",
       "      <th>HonorTitle_the Countess</th>\n",
       "    </tr>\n",
       "  </thead>\n",
       "  <tbody>\n",
       "    <tr>\n",
       "      <th>0</th>\n",
       "      <td>3</td>\n",
       "      <td>male</td>\n",
       "      <td>22.0</td>\n",
       "      <td>1</td>\n",
       "      <td>0</td>\n",
       "      <td>A/5 21171</td>\n",
       "      <td>7.2500</td>\n",
       "      <td>NaN</td>\n",
       "      <td>S</td>\n",
       "      <td>0</td>\n",
       "      <td>...</td>\n",
       "      <td>0</td>\n",
       "      <td>0</td>\n",
       "      <td>0</td>\n",
       "      <td>0</td>\n",
       "      <td>1</td>\n",
       "      <td>0</td>\n",
       "      <td>0</td>\n",
       "      <td>0</td>\n",
       "      <td>0</td>\n",
       "      <td>0</td>\n",
       "    </tr>\n",
       "    <tr>\n",
       "      <th>1</th>\n",
       "      <td>1</td>\n",
       "      <td>female</td>\n",
       "      <td>38.0</td>\n",
       "      <td>1</td>\n",
       "      <td>0</td>\n",
       "      <td>PC 17599</td>\n",
       "      <td>71.2833</td>\n",
       "      <td>C85</td>\n",
       "      <td>C</td>\n",
       "      <td>0</td>\n",
       "      <td>...</td>\n",
       "      <td>0</td>\n",
       "      <td>0</td>\n",
       "      <td>0</td>\n",
       "      <td>0</td>\n",
       "      <td>0</td>\n",
       "      <td>1</td>\n",
       "      <td>0</td>\n",
       "      <td>0</td>\n",
       "      <td>0</td>\n",
       "      <td>0</td>\n",
       "    </tr>\n",
       "    <tr>\n",
       "      <th>2</th>\n",
       "      <td>3</td>\n",
       "      <td>female</td>\n",
       "      <td>26.0</td>\n",
       "      <td>0</td>\n",
       "      <td>0</td>\n",
       "      <td>STON/O2. 3101282</td>\n",
       "      <td>7.9250</td>\n",
       "      <td>NaN</td>\n",
       "      <td>S</td>\n",
       "      <td>0</td>\n",
       "      <td>...</td>\n",
       "      <td>0</td>\n",
       "      <td>1</td>\n",
       "      <td>0</td>\n",
       "      <td>0</td>\n",
       "      <td>0</td>\n",
       "      <td>0</td>\n",
       "      <td>0</td>\n",
       "      <td>0</td>\n",
       "      <td>0</td>\n",
       "      <td>0</td>\n",
       "    </tr>\n",
       "    <tr>\n",
       "      <th>3</th>\n",
       "      <td>1</td>\n",
       "      <td>female</td>\n",
       "      <td>35.0</td>\n",
       "      <td>1</td>\n",
       "      <td>0</td>\n",
       "      <td>113803</td>\n",
       "      <td>53.1000</td>\n",
       "      <td>C123</td>\n",
       "      <td>S</td>\n",
       "      <td>0</td>\n",
       "      <td>...</td>\n",
       "      <td>0</td>\n",
       "      <td>0</td>\n",
       "      <td>0</td>\n",
       "      <td>0</td>\n",
       "      <td>0</td>\n",
       "      <td>1</td>\n",
       "      <td>0</td>\n",
       "      <td>0</td>\n",
       "      <td>0</td>\n",
       "      <td>0</td>\n",
       "    </tr>\n",
       "    <tr>\n",
       "      <th>4</th>\n",
       "      <td>3</td>\n",
       "      <td>male</td>\n",
       "      <td>35.0</td>\n",
       "      <td>0</td>\n",
       "      <td>0</td>\n",
       "      <td>373450</td>\n",
       "      <td>8.0500</td>\n",
       "      <td>NaN</td>\n",
       "      <td>S</td>\n",
       "      <td>0</td>\n",
       "      <td>...</td>\n",
       "      <td>0</td>\n",
       "      <td>0</td>\n",
       "      <td>0</td>\n",
       "      <td>0</td>\n",
       "      <td>1</td>\n",
       "      <td>0</td>\n",
       "      <td>0</td>\n",
       "      <td>0</td>\n",
       "      <td>0</td>\n",
       "      <td>0</td>\n",
       "    </tr>\n",
       "  </tbody>\n",
       "</table>\n",
       "<p>5 rows × 26 columns</p>\n",
       "</div>"
      ],
      "text/plain": [
       "   Pclass     Sex   Age  SibSp  Parch            Ticket     Fare Cabin  \\\n",
       "0       3    male  22.0      1      0         A/5 21171   7.2500   NaN   \n",
       "1       1  female  38.0      1      0          PC 17599  71.2833   C85   \n",
       "2       3  female  26.0      0      0  STON/O2. 3101282   7.9250   NaN   \n",
       "3       1  female  35.0      1      0            113803  53.1000  C123   \n",
       "4       3    male  35.0      0      0            373450   8.0500   NaN   \n",
       "\n",
       "  Embarked  HonorTitle_Capt  ...  HonorTitle_Master  HonorTitle_Miss  \\\n",
       "0        S                0  ...                  0                0   \n",
       "1        C                0  ...                  0                0   \n",
       "2        S                0  ...                  0                1   \n",
       "3        S                0  ...                  0                0   \n",
       "4        S                0  ...                  0                0   \n",
       "\n",
       "   HonorTitle_Mlle  HonorTitle_Mme  HonorTitle_Mr  HonorTitle_Mrs  \\\n",
       "0                0               0              1               0   \n",
       "1                0               0              0               1   \n",
       "2                0               0              0               0   \n",
       "3                0               0              0               1   \n",
       "4                0               0              1               0   \n",
       "\n",
       "   HonorTitle_Ms  HonorTitle_Rev  HonorTitle_Sir  HonorTitle_the Countess  \n",
       "0              0               0               0                        0  \n",
       "1              0               0               0                        0  \n",
       "2              0               0               0                        0  \n",
       "3              0               0               0                        0  \n",
       "4              0               0               0                        0  \n",
       "\n",
       "[5 rows x 26 columns]"
      ]
     },
     "metadata": {},
     "output_type": "display_data"
    }
   ],
   "source": [
    "from sklearn.preprocessing import OneHotEncoder\n",
    "\n",
    "honor_enc = OneHotEncoder(handle_unknown='ignore')  # 'Dona' is in the test set but not in the training set\n",
    "honor_enc.fit(X[['HonorTitle']].to_numpy())\n",
    "\n",
    "endoded_honorif = honor_enc.transform(X[['HonorTitle']].to_numpy()).toarray()\n",
    "enc_feature_names = honor_enc.get_feature_names_out(['HonorTitle'])\n",
    "\n",
    "\n",
    "X = X.drop('HonorTitle', axis=1)\n",
    "X = pd.concat([X, pd.DataFrame(endoded_honorif, columns=enc_feature_names).astype(int)], axis=1)\n",
    "display(X.head())"
   ]
  },
  {
   "cell_type": "markdown",
   "id": "b246338a",
   "metadata": {
    "papermill": {
     "duration": 0.035256,
     "end_time": "2023-04-29T01:06:40.045655",
     "exception": false,
     "start_time": "2023-04-29T01:06:40.010399",
     "status": "completed"
    },
    "tags": []
   },
   "source": [
    "Some categories are uncommon, appearing one or few times, wich could lead to overfitting, specially when using models that can try to exploit unfrequent categories, like trees.\n",
    "However, after some initial experiments (not shown here), I found that setting `categories=honor_categories` with either\n",
    "\n",
    "+ `honor_categories = [['Mr', 'Mrs', 'Miss', 'Master']]`\n",
    "+ `honor_categories = [['Mr', 'Mrs', 'Miss', 'Master', 'Rev', 'Dr']]`\n",
    "\n",
    "would produce no enhancement with logistic regression a slightly overfitting with KNN and a _reduction_ in performance for Random Forest."
   ]
  },
  {
   "cell_type": "markdown",
   "id": "a543f4d2",
   "metadata": {
    "papermill": {
     "duration": 0.035174,
     "end_time": "2023-04-29T01:06:40.116213",
     "exception": false,
     "start_time": "2023-04-29T01:06:40.081039",
     "status": "completed"
    },
    "tags": []
   },
   "source": [
    "## How many passengers share the same ticket?<a id=\"featureEng_Share_ticket\">"
   ]
  },
  {
   "cell_type": "code",
   "execution_count": 42,
   "id": "5aee390d",
   "metadata": {
    "execution": {
     "iopub.execute_input": "2023-04-29T01:06:40.190080Z",
     "iopub.status.busy": "2023-04-29T01:06:40.189637Z",
     "iopub.status.idle": "2023-04-29T01:06:40.219231Z",
     "shell.execute_reply": "2023-04-29T01:06:40.218304Z"
    },
    "papermill": {
     "duration": 0.068785,
     "end_time": "2023-04-29T01:06:40.221542",
     "exception": false,
     "start_time": "2023-04-29T01:06:40.152757",
     "status": "completed"
    },
    "tags": []
   },
   "outputs": [
    {
     "name": "stdout",
     "output_type": "stream",
     "text": [
      "(891, 12)\n",
      "(418, 11)\n",
      "(1309, 11)\n",
      "216\n"
     ]
    },
    {
     "data": {
      "text/html": [
       "<div>\n",
       "<style scoped>\n",
       "    .dataframe tbody tr th:only-of-type {\n",
       "        vertical-align: middle;\n",
       "    }\n",
       "\n",
       "    .dataframe tbody tr th {\n",
       "        vertical-align: top;\n",
       "    }\n",
       "\n",
       "    .dataframe thead th {\n",
       "        text-align: right;\n",
       "    }\n",
       "</style>\n",
       "<table border=\"1\" class=\"dataframe\">\n",
       "  <thead>\n",
       "    <tr style=\"text-align: right;\">\n",
       "      <th></th>\n",
       "      <th>PassengerId</th>\n",
       "      <th>Pclass</th>\n",
       "      <th>Name</th>\n",
       "      <th>Sex</th>\n",
       "      <th>Age</th>\n",
       "      <th>SibSp</th>\n",
       "      <th>Parch</th>\n",
       "      <th>Ticket</th>\n",
       "      <th>Fare</th>\n",
       "      <th>Cabin</th>\n",
       "      <th>Embarked</th>\n",
       "      <th>ShareTicket</th>\n",
       "    </tr>\n",
       "  </thead>\n",
       "  <tbody>\n",
       "    <tr>\n",
       "      <th>0</th>\n",
       "      <td>1</td>\n",
       "      <td>3</td>\n",
       "      <td>Braund, Mr. Owen Harris</td>\n",
       "      <td>male</td>\n",
       "      <td>22.0</td>\n",
       "      <td>1</td>\n",
       "      <td>0</td>\n",
       "      <td>A/5 21171</td>\n",
       "      <td>7.2500</td>\n",
       "      <td>NaN</td>\n",
       "      <td>S</td>\n",
       "      <td>0</td>\n",
       "    </tr>\n",
       "    <tr>\n",
       "      <th>1</th>\n",
       "      <td>2</td>\n",
       "      <td>1</td>\n",
       "      <td>Cumings, Mrs. John Bradley (Florence Briggs Th...</td>\n",
       "      <td>female</td>\n",
       "      <td>38.0</td>\n",
       "      <td>1</td>\n",
       "      <td>0</td>\n",
       "      <td>PC 17599</td>\n",
       "      <td>71.2833</td>\n",
       "      <td>C85</td>\n",
       "      <td>C</td>\n",
       "      <td>1</td>\n",
       "    </tr>\n",
       "    <tr>\n",
       "      <th>2</th>\n",
       "      <td>3</td>\n",
       "      <td>3</td>\n",
       "      <td>Heikkinen, Miss. Laina</td>\n",
       "      <td>female</td>\n",
       "      <td>26.0</td>\n",
       "      <td>0</td>\n",
       "      <td>0</td>\n",
       "      <td>STON/O2. 3101282</td>\n",
       "      <td>7.9250</td>\n",
       "      <td>NaN</td>\n",
       "      <td>S</td>\n",
       "      <td>0</td>\n",
       "    </tr>\n",
       "    <tr>\n",
       "      <th>3</th>\n",
       "      <td>4</td>\n",
       "      <td>1</td>\n",
       "      <td>Futrelle, Mrs. Jacques Heath (Lily May Peel)</td>\n",
       "      <td>female</td>\n",
       "      <td>35.0</td>\n",
       "      <td>1</td>\n",
       "      <td>0</td>\n",
       "      <td>113803</td>\n",
       "      <td>53.1000</td>\n",
       "      <td>C123</td>\n",
       "      <td>S</td>\n",
       "      <td>1</td>\n",
       "    </tr>\n",
       "    <tr>\n",
       "      <th>4</th>\n",
       "      <td>5</td>\n",
       "      <td>3</td>\n",
       "      <td>Allen, Mr. William Henry</td>\n",
       "      <td>male</td>\n",
       "      <td>35.0</td>\n",
       "      <td>0</td>\n",
       "      <td>0</td>\n",
       "      <td>373450</td>\n",
       "      <td>8.0500</td>\n",
       "      <td>NaN</td>\n",
       "      <td>S</td>\n",
       "      <td>0</td>\n",
       "    </tr>\n",
       "  </tbody>\n",
       "</table>\n",
       "</div>"
      ],
      "text/plain": [
       "   PassengerId  Pclass                                               Name  \\\n",
       "0            1       3                            Braund, Mr. Owen Harris   \n",
       "1            2       1  Cumings, Mrs. John Bradley (Florence Briggs Th...   \n",
       "2            3       3                             Heikkinen, Miss. Laina   \n",
       "3            4       1       Futrelle, Mrs. Jacques Heath (Lily May Peel)   \n",
       "4            5       3                           Allen, Mr. William Henry   \n",
       "\n",
       "      Sex   Age  SibSp  Parch            Ticket     Fare Cabin Embarked  \\\n",
       "0    male  22.0      1      0         A/5 21171   7.2500   NaN        S   \n",
       "1  female  38.0      1      0          PC 17599  71.2833   C85        C   \n",
       "2  female  26.0      0      0  STON/O2. 3101282   7.9250   NaN        S   \n",
       "3  female  35.0      1      0            113803  53.1000  C123        S   \n",
       "4    male  35.0      0      0            373450   8.0500   NaN        S   \n",
       "\n",
       "   ShareTicket  \n",
       "0            0  \n",
       "1            1  \n",
       "2            0  \n",
       "3            1  \n",
       "4            0  "
      ]
     },
     "execution_count": 42,
     "metadata": {},
     "output_type": "execute_result"
    }
   ],
   "source": [
    "full_data = pd.concat([training_data, test_data],join='inner')\n",
    "print(training_data.shape)\n",
    "print(test_data.shape)\n",
    "print(full_data.shape)\n",
    "\n",
    "# Number of passengers that share the ticket with at least one more passenger:\n",
    "print(full_data['Ticket'].value_counts()[full_data['Ticket'].value_counts() > 1].count())\n",
    "\n",
    "ticket_counts = pd.Series.to_dict(full_data['Ticket'].value_counts()-1) # Subtract 1 => how many \"other\" passengers share that ticket\n",
    "full_data['ShareTicket'] = full_data['Ticket'].map(lambda p: ticket_counts[p])\n",
    "full_data.head()"
   ]
  },
  {
   "cell_type": "code",
   "execution_count": 43,
   "id": "bb027ea3",
   "metadata": {
    "execution": {
     "iopub.execute_input": "2023-04-29T01:06:40.295808Z",
     "iopub.status.busy": "2023-04-29T01:06:40.294489Z",
     "iopub.status.idle": "2023-04-29T01:06:40.307831Z",
     "shell.execute_reply": "2023-04-29T01:06:40.306647Z"
    },
    "papermill": {
     "duration": 0.052828,
     "end_time": "2023-04-29T01:06:40.310314",
     "exception": false,
     "start_time": "2023-04-29T01:06:40.257486",
     "status": "completed"
    },
    "tags": []
   },
   "outputs": [
    {
     "name": "stdout",
     "output_type": "stream",
     "text": [
      "0     481\n",
      "1     181\n",
      "2     101\n",
      "3      44\n",
      "6      24\n",
      "4      21\n",
      "5      19\n",
      "7      13\n",
      "10      7\n",
      "Name: ShareTicket, dtype: int64\n",
      "MI ShareTicket vs. Target:  0.058604941519912565\n"
     ]
    }
   ],
   "source": [
    "print(full_data['ShareTicket'].iloc[0:891].value_counts())\n",
    "\n",
    "mut_info = get_mutual_info(full_data[['ShareTicket']].iloc[0:891], y, discrete_features=True)\n",
    "print('MI ShareTicket vs. Target: ', mut_info[0])"
   ]
  },
  {
   "cell_type": "code",
   "execution_count": 44,
   "id": "b2352233",
   "metadata": {
    "execution": {
     "iopub.execute_input": "2023-04-29T01:06:40.385295Z",
     "iopub.status.busy": "2023-04-29T01:06:40.384402Z",
     "iopub.status.idle": "2023-04-29T01:06:40.637212Z",
     "shell.execute_reply": "2023-04-29T01:06:40.635916Z"
    },
    "papermill": {
     "duration": 0.29257,
     "end_time": "2023-04-29T01:06:40.639853",
     "exception": false,
     "start_time": "2023-04-29T01:06:40.347283",
     "status": "completed"
    },
    "tags": []
   },
   "outputs": [
    {
     "data": {
      "text/plain": [
       "<AxesSubplot:xlabel='Embarked', ylabel='count'>"
      ]
     },
     "execution_count": 44,
     "metadata": {},
     "output_type": "execute_result"
    },
    {
     "data": {
      "image/png": "[encoded data removed]",
      "text/plain": [
       "<Figure size 432x288 with 1 Axes>"
      ]
     },
     "metadata": {
      "needs_background": "light"
     },
     "output_type": "display_data"
    }
   ],
   "source": [
    "sns.countplot(data=X, x='Embarked', hue='Pclass')"
   ]
  },
  {
   "cell_type": "markdown",
   "id": "7a40d872",
   "metadata": {
    "papermill": {
     "duration": 0.036483,
     "end_time": "2023-04-29T01:06:40.713701",
     "exception": false,
     "start_time": "2023-04-29T01:06:40.677218",
     "status": "completed"
    },
    "tags": []
   },
   "source": [
    "How many other passengers share the same ticket doesn't seem to be an awesome feature, but is still not too bad, with MI scores similar to `PClass`."
   ]
  },
  {
   "cell_type": "code",
   "execution_count": 45,
   "id": "5152268a",
   "metadata": {
    "execution": {
     "iopub.execute_input": "2023-04-29T01:06:40.791561Z",
     "iopub.status.busy": "2023-04-29T01:06:40.790244Z",
     "iopub.status.idle": "2023-04-29T01:06:40.820789Z",
     "shell.execute_reply": "2023-04-29T01:06:40.819541Z"
    },
    "papermill": {
     "duration": 0.073259,
     "end_time": "2023-04-29T01:06:40.823172",
     "exception": false,
     "start_time": "2023-04-29T01:06:40.749913",
     "status": "completed"
    },
    "tags": []
   },
   "outputs": [
    {
     "data": {
      "text/html": [
       "<div>\n",
       "<style scoped>\n",
       "    .dataframe tbody tr th:only-of-type {\n",
       "        vertical-align: middle;\n",
       "    }\n",
       "\n",
       "    .dataframe tbody tr th {\n",
       "        vertical-align: top;\n",
       "    }\n",
       "\n",
       "    .dataframe thead th {\n",
       "        text-align: right;\n",
       "    }\n",
       "</style>\n",
       "<table border=\"1\" class=\"dataframe\">\n",
       "  <thead>\n",
       "    <tr style=\"text-align: right;\">\n",
       "      <th></th>\n",
       "      <th>PassengerId</th>\n",
       "      <th>Survived</th>\n",
       "      <th>Pclass</th>\n",
       "      <th>Name</th>\n",
       "      <th>Sex</th>\n",
       "      <th>Age</th>\n",
       "      <th>SibSp</th>\n",
       "      <th>Parch</th>\n",
       "      <th>Ticket</th>\n",
       "      <th>Fare</th>\n",
       "      <th>Cabin</th>\n",
       "      <th>Embarked</th>\n",
       "      <th>HonorTitle</th>\n",
       "    </tr>\n",
       "  </thead>\n",
       "  <tbody>\n",
       "    <tr>\n",
       "      <th>0</th>\n",
       "      <td>1</td>\n",
       "      <td>0</td>\n",
       "      <td>3</td>\n",
       "      <td>Braund, Mr. Owen Harris</td>\n",
       "      <td>male</td>\n",
       "      <td>22.0</td>\n",
       "      <td>1</td>\n",
       "      <td>0</td>\n",
       "      <td>A/5 21171</td>\n",
       "      <td>7.2500</td>\n",
       "      <td>NaN</td>\n",
       "      <td>S</td>\n",
       "      <td>Mr</td>\n",
       "    </tr>\n",
       "    <tr>\n",
       "      <th>1</th>\n",
       "      <td>2</td>\n",
       "      <td>1</td>\n",
       "      <td>1</td>\n",
       "      <td>Cumings, Mrs. John Bradley (Florence Briggs Th...</td>\n",
       "      <td>female</td>\n",
       "      <td>38.0</td>\n",
       "      <td>1</td>\n",
       "      <td>0</td>\n",
       "      <td>PC 17599</td>\n",
       "      <td>71.2833</td>\n",
       "      <td>C85</td>\n",
       "      <td>C</td>\n",
       "      <td>Mrs</td>\n",
       "    </tr>\n",
       "    <tr>\n",
       "      <th>2</th>\n",
       "      <td>3</td>\n",
       "      <td>1</td>\n",
       "      <td>3</td>\n",
       "      <td>Heikkinen, Miss. Laina</td>\n",
       "      <td>female</td>\n",
       "      <td>26.0</td>\n",
       "      <td>0</td>\n",
       "      <td>0</td>\n",
       "      <td>STON/O2. 3101282</td>\n",
       "      <td>7.9250</td>\n",
       "      <td>NaN</td>\n",
       "      <td>S</td>\n",
       "      <td>Miss</td>\n",
       "    </tr>\n",
       "    <tr>\n",
       "      <th>3</th>\n",
       "      <td>4</td>\n",
       "      <td>1</td>\n",
       "      <td>1</td>\n",
       "      <td>Futrelle, Mrs. Jacques Heath (Lily May Peel)</td>\n",
       "      <td>female</td>\n",
       "      <td>35.0</td>\n",
       "      <td>1</td>\n",
       "      <td>0</td>\n",
       "      <td>113803</td>\n",
       "      <td>53.1000</td>\n",
       "      <td>C123</td>\n",
       "      <td>S</td>\n",
       "      <td>Mrs</td>\n",
       "    </tr>\n",
       "    <tr>\n",
       "      <th>4</th>\n",
       "      <td>5</td>\n",
       "      <td>0</td>\n",
       "      <td>3</td>\n",
       "      <td>Allen, Mr. William Henry</td>\n",
       "      <td>male</td>\n",
       "      <td>35.0</td>\n",
       "      <td>0</td>\n",
       "      <td>0</td>\n",
       "      <td>373450</td>\n",
       "      <td>8.0500</td>\n",
       "      <td>NaN</td>\n",
       "      <td>S</td>\n",
       "      <td>Mr</td>\n",
       "    </tr>\n",
       "    <tr>\n",
       "      <th>...</th>\n",
       "      <td>...</td>\n",
       "      <td>...</td>\n",
       "      <td>...</td>\n",
       "      <td>...</td>\n",
       "      <td>...</td>\n",
       "      <td>...</td>\n",
       "      <td>...</td>\n",
       "      <td>...</td>\n",
       "      <td>...</td>\n",
       "      <td>...</td>\n",
       "      <td>...</td>\n",
       "      <td>...</td>\n",
       "      <td>...</td>\n",
       "    </tr>\n",
       "    <tr>\n",
       "      <th>886</th>\n",
       "      <td>887</td>\n",
       "      <td>0</td>\n",
       "      <td>2</td>\n",
       "      <td>Montvila, Rev. Juozas</td>\n",
       "      <td>male</td>\n",
       "      <td>27.0</td>\n",
       "      <td>0</td>\n",
       "      <td>0</td>\n",
       "      <td>211536</td>\n",
       "      <td>13.0000</td>\n",
       "      <td>NaN</td>\n",
       "      <td>S</td>\n",
       "      <td>Rev</td>\n",
       "    </tr>\n",
       "    <tr>\n",
       "      <th>887</th>\n",
       "      <td>888</td>\n",
       "      <td>1</td>\n",
       "      <td>1</td>\n",
       "      <td>Graham, Miss. Margaret Edith</td>\n",
       "      <td>female</td>\n",
       "      <td>19.0</td>\n",
       "      <td>0</td>\n",
       "      <td>0</td>\n",
       "      <td>112053</td>\n",
       "      <td>30.0000</td>\n",
       "      <td>B42</td>\n",
       "      <td>S</td>\n",
       "      <td>Miss</td>\n",
       "    </tr>\n",
       "    <tr>\n",
       "      <th>888</th>\n",
       "      <td>889</td>\n",
       "      <td>0</td>\n",
       "      <td>3</td>\n",
       "      <td>Johnston, Miss. Catherine Helen \"Carrie\"</td>\n",
       "      <td>female</td>\n",
       "      <td>NaN</td>\n",
       "      <td>1</td>\n",
       "      <td>2</td>\n",
       "      <td>W./C. 6607</td>\n",
       "      <td>23.4500</td>\n",
       "      <td>NaN</td>\n",
       "      <td>S</td>\n",
       "      <td>Miss</td>\n",
       "    </tr>\n",
       "    <tr>\n",
       "      <th>889</th>\n",
       "      <td>890</td>\n",
       "      <td>1</td>\n",
       "      <td>1</td>\n",
       "      <td>Behr, Mr. Karl Howell</td>\n",
       "      <td>male</td>\n",
       "      <td>26.0</td>\n",
       "      <td>0</td>\n",
       "      <td>0</td>\n",
       "      <td>111369</td>\n",
       "      <td>30.0000</td>\n",
       "      <td>C148</td>\n",
       "      <td>C</td>\n",
       "      <td>Mr</td>\n",
       "    </tr>\n",
       "    <tr>\n",
       "      <th>890</th>\n",
       "      <td>891</td>\n",
       "      <td>0</td>\n",
       "      <td>3</td>\n",
       "      <td>Dooley, Mr. Patrick</td>\n",
       "      <td>male</td>\n",
       "      <td>32.0</td>\n",
       "      <td>0</td>\n",
       "      <td>0</td>\n",
       "      <td>370376</td>\n",
       "      <td>7.7500</td>\n",
       "      <td>NaN</td>\n",
       "      <td>Q</td>\n",
       "      <td>Mr</td>\n",
       "    </tr>\n",
       "  </tbody>\n",
       "</table>\n",
       "<p>891 rows × 13 columns</p>\n",
       "</div>"
      ],
      "text/plain": [
       "     PassengerId  Survived  Pclass  \\\n",
       "0              1         0       3   \n",
       "1              2         1       1   \n",
       "2              3         1       3   \n",
       "3              4         1       1   \n",
       "4              5         0       3   \n",
       "..           ...       ...     ...   \n",
       "886          887         0       2   \n",
       "887          888         1       1   \n",
       "888          889         0       3   \n",
       "889          890         1       1   \n",
       "890          891         0       3   \n",
       "\n",
       "                                                  Name     Sex   Age  SibSp  \\\n",
       "0                              Braund, Mr. Owen Harris    male  22.0      1   \n",
       "1    Cumings, Mrs. John Bradley (Florence Briggs Th...  female  38.0      1   \n",
       "2                               Heikkinen, Miss. Laina  female  26.0      0   \n",
       "3         Futrelle, Mrs. Jacques Heath (Lily May Peel)  female  35.0      1   \n",
       "4                             Allen, Mr. William Henry    male  35.0      0   \n",
       "..                                                 ...     ...   ...    ...   \n",
       "886                              Montvila, Rev. Juozas    male  27.0      0   \n",
       "887                       Graham, Miss. Margaret Edith  female  19.0      0   \n",
       "888           Johnston, Miss. Catherine Helen \"Carrie\"  female   NaN      1   \n",
       "889                              Behr, Mr. Karl Howell    male  26.0      0   \n",
       "890                                Dooley, Mr. Patrick    male  32.0      0   \n",
       "\n",
       "     Parch            Ticket     Fare Cabin Embarked HonorTitle  \n",
       "0        0         A/5 21171   7.2500   NaN        S         Mr  \n",
       "1        0          PC 17599  71.2833   C85        C        Mrs  \n",
       "2        0  STON/O2. 3101282   7.9250   NaN        S       Miss  \n",
       "3        0            113803  53.1000  C123        S        Mrs  \n",
       "4        0            373450   8.0500   NaN        S         Mr  \n",
       "..     ...               ...      ...   ...      ...        ...  \n",
       "886      0            211536  13.0000   NaN        S        Rev  \n",
       "887      0            112053  30.0000   B42        S       Miss  \n",
       "888      2        W./C. 6607  23.4500   NaN        S       Miss  \n",
       "889      0            111369  30.0000  C148        C         Mr  \n",
       "890      0            370376   7.7500   NaN        Q         Mr  \n",
       "\n",
       "[891 rows x 13 columns]"
      ]
     },
     "metadata": {},
     "output_type": "display_data"
    }
   ],
   "source": [
    "X = X.drop('Ticket', axis=1)\n",
    "\n",
    "X['ShareTicket'] = full_data['ShareTicket'].iloc[0:891]  # Cannot use merge because of duplicated indexes\n",
    "\n",
    "display(x_)"
   ]
  },
  {
   "cell_type": "markdown",
   "id": "663b9acb",
   "metadata": {
    "papermill": {
     "duration": 0.037841,
     "end_time": "2023-04-29T01:06:40.897749",
     "exception": false,
     "start_time": "2023-04-29T01:06:40.859908",
     "status": "completed"
    },
    "tags": []
   },
   "source": [
    "## Cabin<a id=\"featureEng_Cabin\">\n",
    "\n",
    "As discused [previously](#features_cabin), `Cabin` contains leaked data.\n",
    "Therefore, it should be discarded for a real-life analysis scenario. But because this is a Kaggle competition, our goal is to score high and not necessarily to generate _the best_ model. Using a leaked feature can give us an advantage.\n",
    "\n",
    "The dataset contains only one passenger in the Boat Deck (`T`). And there's no one in deck T in the test set. So it seems reasonable to drop it and let Deck T to be represented by 0s in the whole row."
   ]
  },
  {
   "cell_type": "code",
   "execution_count": 46,
   "id": "80279bd5",
   "metadata": {
    "execution": {
     "iopub.execute_input": "2023-04-29T01:06:40.973544Z",
     "iopub.status.busy": "2023-04-29T01:06:40.972800Z",
     "iopub.status.idle": "2023-04-29T01:06:41.006543Z",
     "shell.execute_reply": "2023-04-29T01:06:41.005744Z"
    },
    "papermill": {
     "duration": 0.074624,
     "end_time": "2023-04-29T01:06:41.008913",
     "exception": false,
     "start_time": "2023-04-29T01:06:40.934289",
     "status": "completed"
    },
    "tags": []
   },
   "outputs": [
    {
     "data": {
      "text/html": [
       "<div>\n",
       "<style scoped>\n",
       "    .dataframe tbody tr th:only-of-type {\n",
       "        vertical-align: middle;\n",
       "    }\n",
       "\n",
       "    .dataframe tbody tr th {\n",
       "        vertical-align: top;\n",
       "    }\n",
       "\n",
       "    .dataframe thead th {\n",
       "        text-align: right;\n",
       "    }\n",
       "</style>\n",
       "<table border=\"1\" class=\"dataframe\">\n",
       "  <thead>\n",
       "    <tr style=\"text-align: right;\">\n",
       "      <th></th>\n",
       "      <th>Pclass</th>\n",
       "      <th>Sex</th>\n",
       "      <th>Age</th>\n",
       "      <th>SibSp</th>\n",
       "      <th>Parch</th>\n",
       "      <th>Fare</th>\n",
       "      <th>Embarked</th>\n",
       "      <th>HonorTitle_Capt</th>\n",
       "      <th>HonorTitle_Col</th>\n",
       "      <th>HonorTitle_Don</th>\n",
       "      <th>...</th>\n",
       "      <th>HonorTitle_the Countess</th>\n",
       "      <th>ShareTicket</th>\n",
       "      <th>Cabin_A</th>\n",
       "      <th>Cabin_B</th>\n",
       "      <th>Cabin_C</th>\n",
       "      <th>Cabin_D</th>\n",
       "      <th>Cabin_E</th>\n",
       "      <th>Cabin_F</th>\n",
       "      <th>Cabin_G</th>\n",
       "      <th>Cabin_nan</th>\n",
       "    </tr>\n",
       "  </thead>\n",
       "  <tbody>\n",
       "    <tr>\n",
       "      <th>0</th>\n",
       "      <td>3</td>\n",
       "      <td>male</td>\n",
       "      <td>22.0</td>\n",
       "      <td>1</td>\n",
       "      <td>0</td>\n",
       "      <td>7.2500</td>\n",
       "      <td>S</td>\n",
       "      <td>0</td>\n",
       "      <td>0</td>\n",
       "      <td>0</td>\n",
       "      <td>...</td>\n",
       "      <td>0</td>\n",
       "      <td>0</td>\n",
       "      <td>0</td>\n",
       "      <td>0</td>\n",
       "      <td>0</td>\n",
       "      <td>0</td>\n",
       "      <td>0</td>\n",
       "      <td>0</td>\n",
       "      <td>0</td>\n",
       "      <td>1</td>\n",
       "    </tr>\n",
       "    <tr>\n",
       "      <th>1</th>\n",
       "      <td>1</td>\n",
       "      <td>female</td>\n",
       "      <td>38.0</td>\n",
       "      <td>1</td>\n",
       "      <td>0</td>\n",
       "      <td>71.2833</td>\n",
       "      <td>C</td>\n",
       "      <td>0</td>\n",
       "      <td>0</td>\n",
       "      <td>0</td>\n",
       "      <td>...</td>\n",
       "      <td>0</td>\n",
       "      <td>1</td>\n",
       "      <td>0</td>\n",
       "      <td>0</td>\n",
       "      <td>1</td>\n",
       "      <td>0</td>\n",
       "      <td>0</td>\n",
       "      <td>0</td>\n",
       "      <td>0</td>\n",
       "      <td>0</td>\n",
       "    </tr>\n",
       "    <tr>\n",
       "      <th>2</th>\n",
       "      <td>3</td>\n",
       "      <td>female</td>\n",
       "      <td>26.0</td>\n",
       "      <td>0</td>\n",
       "      <td>0</td>\n",
       "      <td>7.9250</td>\n",
       "      <td>S</td>\n",
       "      <td>0</td>\n",
       "      <td>0</td>\n",
       "      <td>0</td>\n",
       "      <td>...</td>\n",
       "      <td>0</td>\n",
       "      <td>0</td>\n",
       "      <td>0</td>\n",
       "      <td>0</td>\n",
       "      <td>0</td>\n",
       "      <td>0</td>\n",
       "      <td>0</td>\n",
       "      <td>0</td>\n",
       "      <td>0</td>\n",
       "      <td>1</td>\n",
       "    </tr>\n",
       "    <tr>\n",
       "      <th>3</th>\n",
       "      <td>1</td>\n",
       "      <td>female</td>\n",
       "      <td>35.0</td>\n",
       "      <td>1</td>\n",
       "      <td>0</td>\n",
       "      <td>53.1000</td>\n",
       "      <td>S</td>\n",
       "      <td>0</td>\n",
       "      <td>0</td>\n",
       "      <td>0</td>\n",
       "      <td>...</td>\n",
       "      <td>0</td>\n",
       "      <td>1</td>\n",
       "      <td>0</td>\n",
       "      <td>0</td>\n",
       "      <td>1</td>\n",
       "      <td>0</td>\n",
       "      <td>0</td>\n",
       "      <td>0</td>\n",
       "      <td>0</td>\n",
       "      <td>0</td>\n",
       "    </tr>\n",
       "    <tr>\n",
       "      <th>4</th>\n",
       "      <td>3</td>\n",
       "      <td>male</td>\n",
       "      <td>35.0</td>\n",
       "      <td>0</td>\n",
       "      <td>0</td>\n",
       "      <td>8.0500</td>\n",
       "      <td>S</td>\n",
       "      <td>0</td>\n",
       "      <td>0</td>\n",
       "      <td>0</td>\n",
       "      <td>...</td>\n",
       "      <td>0</td>\n",
       "      <td>0</td>\n",
       "      <td>0</td>\n",
       "      <td>0</td>\n",
       "      <td>0</td>\n",
       "      <td>0</td>\n",
       "      <td>0</td>\n",
       "      <td>0</td>\n",
       "      <td>0</td>\n",
       "      <td>1</td>\n",
       "    </tr>\n",
       "    <tr>\n",
       "      <th>...</th>\n",
       "      <td>...</td>\n",
       "      <td>...</td>\n",
       "      <td>...</td>\n",
       "      <td>...</td>\n",
       "      <td>...</td>\n",
       "      <td>...</td>\n",
       "      <td>...</td>\n",
       "      <td>...</td>\n",
       "      <td>...</td>\n",
       "      <td>...</td>\n",
       "      <td>...</td>\n",
       "      <td>...</td>\n",
       "      <td>...</td>\n",
       "      <td>...</td>\n",
       "      <td>...</td>\n",
       "      <td>...</td>\n",
       "      <td>...</td>\n",
       "      <td>...</td>\n",
       "      <td>...</td>\n",
       "      <td>...</td>\n",
       "      <td>...</td>\n",
       "    </tr>\n",
       "    <tr>\n",
       "      <th>886</th>\n",
       "      <td>2</td>\n",
       "      <td>male</td>\n",
       "      <td>27.0</td>\n",
       "      <td>0</td>\n",
       "      <td>0</td>\n",
       "      <td>13.0000</td>\n",
       "      <td>S</td>\n",
       "      <td>0</td>\n",
       "      <td>0</td>\n",
       "      <td>0</td>\n",
       "      <td>...</td>\n",
       "      <td>0</td>\n",
       "      <td>0</td>\n",
       "      <td>0</td>\n",
       "      <td>0</td>\n",
       "      <td>0</td>\n",
       "      <td>0</td>\n",
       "      <td>0</td>\n",
       "      <td>0</td>\n",
       "      <td>0</td>\n",
       "      <td>1</td>\n",
       "    </tr>\n",
       "    <tr>\n",
       "      <th>887</th>\n",
       "      <td>1</td>\n",
       "      <td>female</td>\n",
       "      <td>19.0</td>\n",
       "      <td>0</td>\n",
       "      <td>0</td>\n",
       "      <td>30.0000</td>\n",
       "      <td>S</td>\n",
       "      <td>0</td>\n",
       "      <td>0</td>\n",
       "      <td>0</td>\n",
       "      <td>...</td>\n",
       "      <td>0</td>\n",
       "      <td>0</td>\n",
       "      <td>0</td>\n",
       "      <td>1</td>\n",
       "      <td>0</td>\n",
       "      <td>0</td>\n",
       "      <td>0</td>\n",
       "      <td>0</td>\n",
       "      <td>0</td>\n",
       "      <td>0</td>\n",
       "    </tr>\n",
       "    <tr>\n",
       "      <th>888</th>\n",
       "      <td>3</td>\n",
       "      <td>female</td>\n",
       "      <td>NaN</td>\n",
       "      <td>1</td>\n",
       "      <td>2</td>\n",
       "      <td>23.4500</td>\n",
       "      <td>S</td>\n",
       "      <td>0</td>\n",
       "      <td>0</td>\n",
       "      <td>0</td>\n",
       "      <td>...</td>\n",
       "      <td>0</td>\n",
       "      <td>3</td>\n",
       "      <td>0</td>\n",
       "      <td>0</td>\n",
       "      <td>0</td>\n",
       "      <td>0</td>\n",
       "      <td>0</td>\n",
       "      <td>0</td>\n",
       "      <td>0</td>\n",
       "      <td>1</td>\n",
       "    </tr>\n",
       "    <tr>\n",
       "      <th>889</th>\n",
       "      <td>1</td>\n",
       "      <td>male</td>\n",
       "      <td>26.0</td>\n",
       "      <td>0</td>\n",
       "      <td>0</td>\n",
       "      <td>30.0000</td>\n",
       "      <td>C</td>\n",
       "      <td>0</td>\n",
       "      <td>0</td>\n",
       "      <td>0</td>\n",
       "      <td>...</td>\n",
       "      <td>0</td>\n",
       "      <td>0</td>\n",
       "      <td>0</td>\n",
       "      <td>0</td>\n",
       "      <td>1</td>\n",
       "      <td>0</td>\n",
       "      <td>0</td>\n",
       "      <td>0</td>\n",
       "      <td>0</td>\n",
       "      <td>0</td>\n",
       "    </tr>\n",
       "    <tr>\n",
       "      <th>890</th>\n",
       "      <td>3</td>\n",
       "      <td>male</td>\n",
       "      <td>32.0</td>\n",
       "      <td>0</td>\n",
       "      <td>0</td>\n",
       "      <td>7.7500</td>\n",
       "      <td>Q</td>\n",
       "      <td>0</td>\n",
       "      <td>0</td>\n",
       "      <td>0</td>\n",
       "      <td>...</td>\n",
       "      <td>0</td>\n",
       "      <td>0</td>\n",
       "      <td>0</td>\n",
       "      <td>0</td>\n",
       "      <td>0</td>\n",
       "      <td>0</td>\n",
       "      <td>0</td>\n",
       "      <td>0</td>\n",
       "      <td>0</td>\n",
       "      <td>1</td>\n",
       "    </tr>\n",
       "  </tbody>\n",
       "</table>\n",
       "<p>891 rows × 33 columns</p>\n",
       "</div>"
      ],
      "text/plain": [
       "     Pclass     Sex   Age  SibSp  Parch     Fare Embarked  HonorTitle_Capt  \\\n",
       "0         3    male  22.0      1      0   7.2500        S                0   \n",
       "1         1  female  38.0      1      0  71.2833        C                0   \n",
       "2         3  female  26.0      0      0   7.9250        S                0   \n",
       "3         1  female  35.0      1      0  53.1000        S                0   \n",
       "4         3    male  35.0      0      0   8.0500        S                0   \n",
       "..      ...     ...   ...    ...    ...      ...      ...              ...   \n",
       "886       2    male  27.0      0      0  13.0000        S                0   \n",
       "887       1  female  19.0      0      0  30.0000        S                0   \n",
       "888       3  female   NaN      1      2  23.4500        S                0   \n",
       "889       1    male  26.0      0      0  30.0000        C                0   \n",
       "890       3    male  32.0      0      0   7.7500        Q                0   \n",
       "\n",
       "     HonorTitle_Col  HonorTitle_Don  ...  HonorTitle_the Countess  \\\n",
       "0                 0               0  ...                        0   \n",
       "1                 0               0  ...                        0   \n",
       "2                 0               0  ...                        0   \n",
       "3                 0               0  ...                        0   \n",
       "4                 0               0  ...                        0   \n",
       "..              ...             ...  ...                      ...   \n",
       "886               0               0  ...                        0   \n",
       "887               0               0  ...                        0   \n",
       "888               0               0  ...                        0   \n",
       "889               0               0  ...                        0   \n",
       "890               0               0  ...                        0   \n",
       "\n",
       "     ShareTicket  Cabin_A  Cabin_B  Cabin_C  Cabin_D  Cabin_E  Cabin_F  \\\n",
       "0              0        0        0        0        0        0        0   \n",
       "1              1        0        0        1        0        0        0   \n",
       "2              0        0        0        0        0        0        0   \n",
       "3              1        0        0        1        0        0        0   \n",
       "4              0        0        0        0        0        0        0   \n",
       "..           ...      ...      ...      ...      ...      ...      ...   \n",
       "886            0        0        0        0        0        0        0   \n",
       "887            0        0        1        0        0        0        0   \n",
       "888            3        0        0        0        0        0        0   \n",
       "889            0        0        0        1        0        0        0   \n",
       "890            0        0        0        0        0        0        0   \n",
       "\n",
       "     Cabin_G  Cabin_nan  \n",
       "0          0          1  \n",
       "1          0          0  \n",
       "2          0          1  \n",
       "3          0          0  \n",
       "4          0          1  \n",
       "..       ...        ...  \n",
       "886        0          1  \n",
       "887        0          0  \n",
       "888        0          1  \n",
       "889        0          0  \n",
       "890        0          1  \n",
       "\n",
       "[891 rows x 33 columns]"
      ]
     },
     "metadata": {},
     "output_type": "display_data"
    }
   ],
   "source": [
    "X['Cabin'] = X['Cabin'].str[0]\n",
    "\n",
    "X = pd.get_dummies(X, prefix='Cabin', dummy_na=True, columns=['Cabin'])\n",
    "X = X.drop('Cabin_T', axis=1)\n",
    "\n",
    "display(X)"
   ]
  },
  {
   "cell_type": "markdown",
   "id": "8a4fca4d",
   "metadata": {
    "papermill": {
     "duration": 0.037161,
     "end_time": "2023-04-29T01:06:41.083989",
     "exception": false,
     "start_time": "2023-04-29T01:06:41.046828",
     "status": "completed"
    },
    "tags": []
   },
   "source": [
    "## Family<a id=\"featureEng_Family\">\n",
    "\n",
    "`SibSp` and `Parch` don't look like interesting features by themselves. But maybe they can be combined to get the total number of relatives on board."
   ]
  },
  {
   "cell_type": "code",
   "execution_count": 47,
   "id": "c319f3a3",
   "metadata": {
    "execution": {
     "iopub.execute_input": "2023-04-29T01:06:41.161356Z",
     "iopub.status.busy": "2023-04-29T01:06:41.160600Z",
     "iopub.status.idle": "2023-04-29T01:06:41.172159Z",
     "shell.execute_reply": "2023-04-29T01:06:41.170937Z"
    },
    "papermill": {
     "duration": 0.052447,
     "end_time": "2023-04-29T01:06:41.174350",
     "exception": false,
     "start_time": "2023-04-29T01:06:41.121903",
     "status": "completed"
    },
    "tags": []
   },
   "outputs": [
    {
     "name": "stdout",
     "output_type": "stream",
     "text": [
      "0.04778124144601986\n"
     ]
    }
   ],
   "source": [
    "X['Family'] = X['SibSp'] + X['Parch']\n",
    "mut_info = get_mutual_info(X[['Family']], y, discrete_features=True)\n",
    "print(mut_info[0])"
   ]
  },
  {
   "cell_type": "markdown",
   "id": "a4da6731",
   "metadata": {
    "papermill": {
     "duration": 0.036951,
     "end_time": "2023-04-29T01:06:41.248607",
     "exception": false,
     "start_time": "2023-04-29T01:06:41.211656",
     "status": "completed"
    },
    "tags": []
   },
   "source": [
    "MI scores of total number of relatives vs. the target are higher (about double) than either `SibSp` or `Parch` alone."
   ]
  },
  {
   "cell_type": "markdown",
   "id": "17e5de90",
   "metadata": {
    "papermill": {
     "duration": 0.036502,
     "end_time": "2023-04-29T01:06:41.323180",
     "exception": false,
     "start_time": "2023-04-29T01:06:41.286678",
     "status": "completed"
    },
    "tags": []
   },
   "source": [
    "## Age<a id=\"featureEng_Age\">\n",
    "\n",
    "Data about age of passengers is incomplete, lacking around 20% of the data. It could be reasonable to impute the missing values."
   ]
  },
  {
   "cell_type": "code",
   "execution_count": 48,
   "id": "09db91a7",
   "metadata": {
    "execution": {
     "iopub.execute_input": "2023-04-29T01:06:41.400271Z",
     "iopub.status.busy": "2023-04-29T01:06:41.399300Z",
     "iopub.status.idle": "2023-04-29T01:06:41.416130Z",
     "shell.execute_reply": "2023-04-29T01:06:41.413934Z"
    },
    "papermill": {
     "duration": 0.0579,
     "end_time": "2023-04-29T01:06:41.418707",
     "exception": false,
     "start_time": "2023-04-29T01:06:41.360807",
     "status": "completed"
    },
    "tags": []
   },
   "outputs": [
    {
     "name": "stdout",
     "output_type": "stream",
     "text": [
      "<class 'pandas.core.frame.DataFrame'>\n",
      "RangeIndex: 891 entries, 0 to 890\n",
      "Data columns (total 34 columns):\n",
      " #   Column                   Non-Null Count  Dtype  \n",
      "---  ------                   --------------  -----  \n",
      " 0   Pclass                   891 non-null    int64  \n",
      " 1   Sex                      891 non-null    object \n",
      " 2   Age                      891 non-null    float64\n",
      " 3   SibSp                    891 non-null    int64  \n",
      " 4   Parch                    891 non-null    int64  \n",
      " 5   Fare                     891 non-null    float64\n",
      " 6   Embarked                 889 non-null    object \n",
      " 7   HonorTitle_Capt          891 non-null    int64  \n",
      " 8   HonorTitle_Col           891 non-null    int64  \n",
      " 9   HonorTitle_Don           891 non-null    int64  \n",
      " 10  HonorTitle_Dr            891 non-null    int64  \n",
      " 11  HonorTitle_Jonkheer      891 non-null    int64  \n",
      " 12  HonorTitle_Lady          891 non-null    int64  \n",
      " 13  HonorTitle_Major         891 non-null    int64  \n",
      " 14  HonorTitle_Master        891 non-null    int64  \n",
      " 15  HonorTitle_Miss          891 non-null    int64  \n",
      " 16  HonorTitle_Mlle          891 non-null    int64  \n",
      " 17  HonorTitle_Mme           891 non-null    int64  \n",
      " 18  HonorTitle_Mr            891 non-null    int64  \n",
      " 19  HonorTitle_Mrs           891 non-null    int64  \n",
      " 20  HonorTitle_Ms            891 non-null    int64  \n",
      " 21  HonorTitle_Rev           891 non-null    int64  \n",
      " 22  HonorTitle_Sir           891 non-null    int64  \n",
      " 23  HonorTitle_the Countess  891 non-null    int64  \n",
      " 24  ShareTicket              891 non-null    int64  \n",
      " 25  Cabin_A                  891 non-null    uint8  \n",
      " 26  Cabin_B                  891 non-null    uint8  \n",
      " 27  Cabin_C                  891 non-null    uint8  \n",
      " 28  Cabin_D                  891 non-null    uint8  \n",
      " 29  Cabin_E                  891 non-null    uint8  \n",
      " 30  Cabin_F                  891 non-null    uint8  \n",
      " 31  Cabin_G                  891 non-null    uint8  \n",
      " 32  Cabin_nan                891 non-null    uint8  \n",
      " 33  Family                   891 non-null    int64  \n",
      "dtypes: float64(2), int64(22), object(2), uint8(8)\n",
      "memory usage: 188.1+ KB\n",
      "None\n"
     ]
    }
   ],
   "source": [
    "X['Age'] = X['Age'].fillna(age_median)\n",
    "print(X.info())"
   ]
  },
  {
   "cell_type": "markdown",
   "id": "8da0674b",
   "metadata": {
    "papermill": {
     "duration": 0.03721,
     "end_time": "2023-04-29T01:06:41.493263",
     "exception": false,
     "start_time": "2023-04-29T01:06:41.456053",
     "status": "completed"
    },
    "tags": []
   },
   "source": [
    "## Embarked<a id=\"featureEng_Embarked\">\n",
    "\n",
    "The order of embarkation was: Southampton (S) --> Cherbourg (C) --> Queenstown (Q)\n",
    "\n",
    "Two rows are missing from the training set, but none from the test set."
   ]
  },
  {
   "cell_type": "code",
   "execution_count": 49,
   "id": "dbb94814",
   "metadata": {
    "execution": {
     "iopub.execute_input": "2023-04-29T01:06:41.570109Z",
     "iopub.status.busy": "2023-04-29T01:06:41.569438Z",
     "iopub.status.idle": "2023-04-29T01:06:41.591969Z",
     "shell.execute_reply": "2023-04-29T01:06:41.590400Z"
    },
    "papermill": {
     "duration": 0.063887,
     "end_time": "2023-04-29T01:06:41.594417",
     "exception": false,
     "start_time": "2023-04-29T01:06:41.530530",
     "status": "completed"
    },
    "tags": []
   },
   "outputs": [
    {
     "data": {
      "text/html": [
       "<div>\n",
       "<style scoped>\n",
       "    .dataframe tbody tr th:only-of-type {\n",
       "        vertical-align: middle;\n",
       "    }\n",
       "\n",
       "    .dataframe tbody tr th {\n",
       "        vertical-align: top;\n",
       "    }\n",
       "\n",
       "    .dataframe thead th {\n",
       "        text-align: right;\n",
       "    }\n",
       "</style>\n",
       "<table border=\"1\" class=\"dataframe\">\n",
       "  <thead>\n",
       "    <tr style=\"text-align: right;\">\n",
       "      <th></th>\n",
       "      <th>Pclass</th>\n",
       "      <th>Sex</th>\n",
       "      <th>Age</th>\n",
       "      <th>SibSp</th>\n",
       "      <th>Parch</th>\n",
       "      <th>Fare</th>\n",
       "      <th>Embarked</th>\n",
       "      <th>HonorTitle_Capt</th>\n",
       "      <th>HonorTitle_Col</th>\n",
       "      <th>HonorTitle_Don</th>\n",
       "      <th>...</th>\n",
       "      <th>ShareTicket</th>\n",
       "      <th>Cabin_A</th>\n",
       "      <th>Cabin_B</th>\n",
       "      <th>Cabin_C</th>\n",
       "      <th>Cabin_D</th>\n",
       "      <th>Cabin_E</th>\n",
       "      <th>Cabin_F</th>\n",
       "      <th>Cabin_G</th>\n",
       "      <th>Cabin_nan</th>\n",
       "      <th>Family</th>\n",
       "    </tr>\n",
       "  </thead>\n",
       "  <tbody>\n",
       "    <tr>\n",
       "      <th>61</th>\n",
       "      <td>1</td>\n",
       "      <td>female</td>\n",
       "      <td>38.0</td>\n",
       "      <td>0</td>\n",
       "      <td>0</td>\n",
       "      <td>80.0</td>\n",
       "      <td>NaN</td>\n",
       "      <td>0</td>\n",
       "      <td>0</td>\n",
       "      <td>0</td>\n",
       "      <td>...</td>\n",
       "      <td>1</td>\n",
       "      <td>0</td>\n",
       "      <td>1</td>\n",
       "      <td>0</td>\n",
       "      <td>0</td>\n",
       "      <td>0</td>\n",
       "      <td>0</td>\n",
       "      <td>0</td>\n",
       "      <td>0</td>\n",
       "      <td>0</td>\n",
       "    </tr>\n",
       "    <tr>\n",
       "      <th>829</th>\n",
       "      <td>1</td>\n",
       "      <td>female</td>\n",
       "      <td>62.0</td>\n",
       "      <td>0</td>\n",
       "      <td>0</td>\n",
       "      <td>80.0</td>\n",
       "      <td>NaN</td>\n",
       "      <td>0</td>\n",
       "      <td>0</td>\n",
       "      <td>0</td>\n",
       "      <td>...</td>\n",
       "      <td>1</td>\n",
       "      <td>0</td>\n",
       "      <td>1</td>\n",
       "      <td>0</td>\n",
       "      <td>0</td>\n",
       "      <td>0</td>\n",
       "      <td>0</td>\n",
       "      <td>0</td>\n",
       "      <td>0</td>\n",
       "      <td>0</td>\n",
       "    </tr>\n",
       "  </tbody>\n",
       "</table>\n",
       "<p>2 rows × 34 columns</p>\n",
       "</div>"
      ],
      "text/plain": [
       "     Pclass     Sex   Age  SibSp  Parch  Fare Embarked  HonorTitle_Capt  \\\n",
       "61        1  female  38.0      0      0  80.0      NaN                0   \n",
       "829       1  female  62.0      0      0  80.0      NaN                0   \n",
       "\n",
       "     HonorTitle_Col  HonorTitle_Don  ...  ShareTicket  Cabin_A  Cabin_B  \\\n",
       "61                0               0  ...            1        0        1   \n",
       "829               0               0  ...            1        0        1   \n",
       "\n",
       "     Cabin_C  Cabin_D  Cabin_E  Cabin_F  Cabin_G  Cabin_nan  Family  \n",
       "61         0        0        0        0        0          0       0  \n",
       "829        0        0        0        0        0          0       0  \n",
       "\n",
       "[2 rows x 34 columns]"
      ]
     },
     "execution_count": 49,
     "metadata": {},
     "output_type": "execute_result"
    }
   ],
   "source": [
    "X[X['Embarked'].isna()]"
   ]
  },
  {
   "cell_type": "code",
   "execution_count": 50,
   "id": "0502c5a9",
   "metadata": {
    "execution": {
     "iopub.execute_input": "2023-04-29T01:06:41.673047Z",
     "iopub.status.busy": "2023-04-29T01:06:41.672601Z",
     "iopub.status.idle": "2023-04-29T01:06:41.717634Z",
     "shell.execute_reply": "2023-04-29T01:06:41.716502Z"
    },
    "papermill": {
     "duration": 0.088733,
     "end_time": "2023-04-29T01:06:41.720923",
     "exception": false,
     "start_time": "2023-04-29T01:06:41.632190",
     "status": "completed"
    },
    "tags": []
   },
   "outputs": [
    {
     "data": {
      "text/html": [
       "<div>\n",
       "<style scoped>\n",
       "    .dataframe tbody tr th:only-of-type {\n",
       "        vertical-align: middle;\n",
       "    }\n",
       "\n",
       "    .dataframe tbody tr th {\n",
       "        vertical-align: top;\n",
       "    }\n",
       "\n",
       "    .dataframe thead th {\n",
       "        text-align: right;\n",
       "    }\n",
       "</style>\n",
       "<table border=\"1\" class=\"dataframe\">\n",
       "  <thead>\n",
       "    <tr style=\"text-align: right;\">\n",
       "      <th></th>\n",
       "      <th>PassengerId</th>\n",
       "      <th>Survived</th>\n",
       "      <th>Pclass</th>\n",
       "      <th>Name</th>\n",
       "      <th>Sex</th>\n",
       "      <th>Age</th>\n",
       "      <th>SibSp</th>\n",
       "      <th>Parch</th>\n",
       "      <th>Ticket</th>\n",
       "      <th>Fare</th>\n",
       "      <th>Cabin</th>\n",
       "      <th>Embarked</th>\n",
       "    </tr>\n",
       "  </thead>\n",
       "  <tbody>\n",
       "    <tr>\n",
       "      <th>61</th>\n",
       "      <td>62</td>\n",
       "      <td>1</td>\n",
       "      <td>1</td>\n",
       "      <td>Icard, Miss. Amelie</td>\n",
       "      <td>female</td>\n",
       "      <td>38.0</td>\n",
       "      <td>0</td>\n",
       "      <td>0</td>\n",
       "      <td>113572</td>\n",
       "      <td>80.0</td>\n",
       "      <td>B28</td>\n",
       "      <td>NaN</td>\n",
       "    </tr>\n",
       "    <tr>\n",
       "      <th>829</th>\n",
       "      <td>830</td>\n",
       "      <td>1</td>\n",
       "      <td>1</td>\n",
       "      <td>Stone, Mrs. George Nelson (Martha Evelyn)</td>\n",
       "      <td>female</td>\n",
       "      <td>62.0</td>\n",
       "      <td>0</td>\n",
       "      <td>0</td>\n",
       "      <td>113572</td>\n",
       "      <td>80.0</td>\n",
       "      <td>B28</td>\n",
       "      <td>NaN</td>\n",
       "    </tr>\n",
       "  </tbody>\n",
       "</table>\n",
       "</div>"
      ],
      "text/plain": [
       "     PassengerId  Survived  Pclass                                       Name  \\\n",
       "61            62         1       1                        Icard, Miss. Amelie   \n",
       "829          830         1       1  Stone, Mrs. George Nelson (Martha Evelyn)   \n",
       "\n",
       "        Sex   Age  SibSp  Parch  Ticket  Fare Cabin Embarked  \n",
       "61   female  38.0      0      0  113572  80.0   B28      NaN  \n",
       "829  female  62.0      0      0  113572  80.0   B28      NaN  "
      ]
     },
     "metadata": {},
     "output_type": "display_data"
    },
    {
     "data": {
      "text/html": [
       "<div>\n",
       "<style scoped>\n",
       "    .dataframe tbody tr th:only-of-type {\n",
       "        vertical-align: middle;\n",
       "    }\n",
       "\n",
       "    .dataframe tbody tr th {\n",
       "        vertical-align: top;\n",
       "    }\n",
       "\n",
       "    .dataframe thead th {\n",
       "        text-align: right;\n",
       "    }\n",
       "</style>\n",
       "<table border=\"1\" class=\"dataframe\">\n",
       "  <thead>\n",
       "    <tr style=\"text-align: right;\">\n",
       "      <th></th>\n",
       "      <th>PassengerId</th>\n",
       "      <th>Survived</th>\n",
       "      <th>Pclass</th>\n",
       "      <th>Name</th>\n",
       "      <th>Sex</th>\n",
       "      <th>Age</th>\n",
       "      <th>SibSp</th>\n",
       "      <th>Parch</th>\n",
       "      <th>Ticket</th>\n",
       "      <th>Fare</th>\n",
       "      <th>Cabin</th>\n",
       "      <th>Embarked</th>\n",
       "    </tr>\n",
       "  </thead>\n",
       "  <tbody>\n",
       "    <tr>\n",
       "      <th>61</th>\n",
       "      <td>62</td>\n",
       "      <td>1</td>\n",
       "      <td>1</td>\n",
       "      <td>Icard, Miss. Amelie</td>\n",
       "      <td>female</td>\n",
       "      <td>38.0</td>\n",
       "      <td>0</td>\n",
       "      <td>0</td>\n",
       "      <td>113572</td>\n",
       "      <td>80.0</td>\n",
       "      <td>B28</td>\n",
       "      <td>NaN</td>\n",
       "    </tr>\n",
       "    <tr>\n",
       "      <th>829</th>\n",
       "      <td>830</td>\n",
       "      <td>1</td>\n",
       "      <td>1</td>\n",
       "      <td>Stone, Mrs. George Nelson (Martha Evelyn)</td>\n",
       "      <td>female</td>\n",
       "      <td>62.0</td>\n",
       "      <td>0</td>\n",
       "      <td>0</td>\n",
       "      <td>113572</td>\n",
       "      <td>80.0</td>\n",
       "      <td>B28</td>\n",
       "      <td>NaN</td>\n",
       "    </tr>\n",
       "  </tbody>\n",
       "</table>\n",
       "</div>"
      ],
      "text/plain": [
       "     PassengerId  Survived  Pclass                                       Name  \\\n",
       "61            62         1       1                        Icard, Miss. Amelie   \n",
       "829          830         1       1  Stone, Mrs. George Nelson (Martha Evelyn)   \n",
       "\n",
       "        Sex   Age  SibSp  Parch  Ticket  Fare Cabin Embarked  \n",
       "61   female  38.0      0      0  113572  80.0   B28      NaN  \n",
       "829  female  62.0      0      0  113572  80.0   B28      NaN  "
      ]
     },
     "metadata": {},
     "output_type": "display_data"
    },
    {
     "data": {
      "text/html": [
       "<div>\n",
       "<style scoped>\n",
       "    .dataframe tbody tr th:only-of-type {\n",
       "        vertical-align: middle;\n",
       "    }\n",
       "\n",
       "    .dataframe tbody tr th {\n",
       "        vertical-align: top;\n",
       "    }\n",
       "\n",
       "    .dataframe thead th {\n",
       "        text-align: right;\n",
       "    }\n",
       "</style>\n",
       "<table border=\"1\" class=\"dataframe\">\n",
       "  <thead>\n",
       "    <tr style=\"text-align: right;\">\n",
       "      <th></th>\n",
       "      <th>PassengerId</th>\n",
       "      <th>Survived</th>\n",
       "      <th>Pclass</th>\n",
       "      <th>Name</th>\n",
       "      <th>Sex</th>\n",
       "      <th>Age</th>\n",
       "      <th>SibSp</th>\n",
       "      <th>Parch</th>\n",
       "      <th>Ticket</th>\n",
       "      <th>Fare</th>\n",
       "      <th>Cabin</th>\n",
       "      <th>Embarked</th>\n",
       "    </tr>\n",
       "  </thead>\n",
       "  <tbody>\n",
       "    <tr>\n",
       "      <th>621</th>\n",
       "      <td>622</td>\n",
       "      <td>1</td>\n",
       "      <td>1</td>\n",
       "      <td>Kimball, Mr. Edwin Nelson Jr</td>\n",
       "      <td>male</td>\n",
       "      <td>42.0</td>\n",
       "      <td>1</td>\n",
       "      <td>0</td>\n",
       "      <td>11753</td>\n",
       "      <td>52.5542</td>\n",
       "      <td>D19</td>\n",
       "      <td>S</td>\n",
       "    </tr>\n",
       "    <tr>\n",
       "      <th>829</th>\n",
       "      <td>830</td>\n",
       "      <td>1</td>\n",
       "      <td>1</td>\n",
       "      <td>Stone, Mrs. George Nelson (Martha Evelyn)</td>\n",
       "      <td>female</td>\n",
       "      <td>62.0</td>\n",
       "      <td>0</td>\n",
       "      <td>0</td>\n",
       "      <td>113572</td>\n",
       "      <td>80.0000</td>\n",
       "      <td>B28</td>\n",
       "      <td>NaN</td>\n",
       "    </tr>\n",
       "  </tbody>\n",
       "</table>\n",
       "</div>"
      ],
      "text/plain": [
       "     PassengerId  Survived  Pclass                                       Name  \\\n",
       "621          622         1       1               Kimball, Mr. Edwin Nelson Jr   \n",
       "829          830         1       1  Stone, Mrs. George Nelson (Martha Evelyn)   \n",
       "\n",
       "        Sex   Age  SibSp  Parch  Ticket     Fare Cabin Embarked  \n",
       "621    male  42.0      1      0   11753  52.5542   D19        S  \n",
       "829  female  62.0      0      0  113572  80.0000   B28      NaN  "
      ]
     },
     "metadata": {},
     "output_type": "display_data"
    }
   ],
   "source": [
    "display(training_data[training_data['Ticket']=='113572'])\n",
    "display(training_data[training_data['Cabin']=='B28'])\n",
    "display(training_data[training_data['Name'].str.contains(r'\\bNelson\\b')]) # See if we can find Mrs. Nelson's husband"
   ]
  },
  {
   "cell_type": "markdown",
   "id": "2f42112f",
   "metadata": {
    "papermill": {
     "duration": 0.038007,
     "end_time": "2023-04-29T01:06:41.798446",
     "exception": false,
     "start_time": "2023-04-29T01:06:41.760439",
     "status": "completed"
    },
    "tags": []
   },
   "source": [
    "The two passengers from whom we don't have `Embarked` information traveled in the same cabin with the same ticket, but neither of those were shared with other passsegers so we could estimate where did they embarked.\n",
    "\n",
    "Both of them travel in First Class, wich [suggest](#features_embarked) that either they boarded in Southampton or in Cherbourg. However, we don't have data to decide in which one of both."
   ]
  },
  {
   "cell_type": "code",
   "execution_count": 51,
   "id": "cabde08f",
   "metadata": {
    "execution": {
     "iopub.execute_input": "2023-04-29T01:06:41.877223Z",
     "iopub.status.busy": "2023-04-29T01:06:41.876307Z",
     "iopub.status.idle": "2023-04-29T01:06:41.909550Z",
     "shell.execute_reply": "2023-04-29T01:06:41.908342Z"
    },
    "papermill": {
     "duration": 0.07559,
     "end_time": "2023-04-29T01:06:41.912061",
     "exception": false,
     "start_time": "2023-04-29T01:06:41.836471",
     "status": "completed"
    },
    "tags": []
   },
   "outputs": [
    {
     "data": {
      "text/html": [
       "<div>\n",
       "<style scoped>\n",
       "    .dataframe tbody tr th:only-of-type {\n",
       "        vertical-align: middle;\n",
       "    }\n",
       "\n",
       "    .dataframe tbody tr th {\n",
       "        vertical-align: top;\n",
       "    }\n",
       "\n",
       "    .dataframe thead th {\n",
       "        text-align: right;\n",
       "    }\n",
       "</style>\n",
       "<table border=\"1\" class=\"dataframe\">\n",
       "  <thead>\n",
       "    <tr style=\"text-align: right;\">\n",
       "      <th></th>\n",
       "      <th>Pclass</th>\n",
       "      <th>Sex</th>\n",
       "      <th>Age</th>\n",
       "      <th>SibSp</th>\n",
       "      <th>Parch</th>\n",
       "      <th>Fare</th>\n",
       "      <th>Embarked</th>\n",
       "      <th>HonorTitle_Capt</th>\n",
       "      <th>HonorTitle_Col</th>\n",
       "      <th>HonorTitle_Don</th>\n",
       "      <th>...</th>\n",
       "      <th>ShareTicket</th>\n",
       "      <th>Cabin_A</th>\n",
       "      <th>Cabin_B</th>\n",
       "      <th>Cabin_C</th>\n",
       "      <th>Cabin_D</th>\n",
       "      <th>Cabin_E</th>\n",
       "      <th>Cabin_F</th>\n",
       "      <th>Cabin_G</th>\n",
       "      <th>Cabin_nan</th>\n",
       "      <th>Family</th>\n",
       "    </tr>\n",
       "  </thead>\n",
       "  <tbody>\n",
       "    <tr>\n",
       "      <th>0</th>\n",
       "      <td>3</td>\n",
       "      <td>male</td>\n",
       "      <td>22.0</td>\n",
       "      <td>1</td>\n",
       "      <td>0</td>\n",
       "      <td>7.2500</td>\n",
       "      <td>0</td>\n",
       "      <td>0</td>\n",
       "      <td>0</td>\n",
       "      <td>0</td>\n",
       "      <td>...</td>\n",
       "      <td>0</td>\n",
       "      <td>0</td>\n",
       "      <td>0</td>\n",
       "      <td>0</td>\n",
       "      <td>0</td>\n",
       "      <td>0</td>\n",
       "      <td>0</td>\n",
       "      <td>0</td>\n",
       "      <td>1</td>\n",
       "      <td>1</td>\n",
       "    </tr>\n",
       "    <tr>\n",
       "      <th>1</th>\n",
       "      <td>1</td>\n",
       "      <td>female</td>\n",
       "      <td>38.0</td>\n",
       "      <td>1</td>\n",
       "      <td>0</td>\n",
       "      <td>71.2833</td>\n",
       "      <td>1</td>\n",
       "      <td>0</td>\n",
       "      <td>0</td>\n",
       "      <td>0</td>\n",
       "      <td>...</td>\n",
       "      <td>1</td>\n",
       "      <td>0</td>\n",
       "      <td>0</td>\n",
       "      <td>1</td>\n",
       "      <td>0</td>\n",
       "      <td>0</td>\n",
       "      <td>0</td>\n",
       "      <td>0</td>\n",
       "      <td>0</td>\n",
       "      <td>1</td>\n",
       "    </tr>\n",
       "    <tr>\n",
       "      <th>2</th>\n",
       "      <td>3</td>\n",
       "      <td>female</td>\n",
       "      <td>26.0</td>\n",
       "      <td>0</td>\n",
       "      <td>0</td>\n",
       "      <td>7.9250</td>\n",
       "      <td>0</td>\n",
       "      <td>0</td>\n",
       "      <td>0</td>\n",
       "      <td>0</td>\n",
       "      <td>...</td>\n",
       "      <td>0</td>\n",
       "      <td>0</td>\n",
       "      <td>0</td>\n",
       "      <td>0</td>\n",
       "      <td>0</td>\n",
       "      <td>0</td>\n",
       "      <td>0</td>\n",
       "      <td>0</td>\n",
       "      <td>1</td>\n",
       "      <td>0</td>\n",
       "    </tr>\n",
       "    <tr>\n",
       "      <th>3</th>\n",
       "      <td>1</td>\n",
       "      <td>female</td>\n",
       "      <td>35.0</td>\n",
       "      <td>1</td>\n",
       "      <td>0</td>\n",
       "      <td>53.1000</td>\n",
       "      <td>0</td>\n",
       "      <td>0</td>\n",
       "      <td>0</td>\n",
       "      <td>0</td>\n",
       "      <td>...</td>\n",
       "      <td>1</td>\n",
       "      <td>0</td>\n",
       "      <td>0</td>\n",
       "      <td>1</td>\n",
       "      <td>0</td>\n",
       "      <td>0</td>\n",
       "      <td>0</td>\n",
       "      <td>0</td>\n",
       "      <td>0</td>\n",
       "      <td>1</td>\n",
       "    </tr>\n",
       "    <tr>\n",
       "      <th>4</th>\n",
       "      <td>3</td>\n",
       "      <td>male</td>\n",
       "      <td>35.0</td>\n",
       "      <td>0</td>\n",
       "      <td>0</td>\n",
       "      <td>8.0500</td>\n",
       "      <td>0</td>\n",
       "      <td>0</td>\n",
       "      <td>0</td>\n",
       "      <td>0</td>\n",
       "      <td>...</td>\n",
       "      <td>0</td>\n",
       "      <td>0</td>\n",
       "      <td>0</td>\n",
       "      <td>0</td>\n",
       "      <td>0</td>\n",
       "      <td>0</td>\n",
       "      <td>0</td>\n",
       "      <td>0</td>\n",
       "      <td>1</td>\n",
       "      <td>0</td>\n",
       "    </tr>\n",
       "    <tr>\n",
       "      <th>...</th>\n",
       "      <td>...</td>\n",
       "      <td>...</td>\n",
       "      <td>...</td>\n",
       "      <td>...</td>\n",
       "      <td>...</td>\n",
       "      <td>...</td>\n",
       "      <td>...</td>\n",
       "      <td>...</td>\n",
       "      <td>...</td>\n",
       "      <td>...</td>\n",
       "      <td>...</td>\n",
       "      <td>...</td>\n",
       "      <td>...</td>\n",
       "      <td>...</td>\n",
       "      <td>...</td>\n",
       "      <td>...</td>\n",
       "      <td>...</td>\n",
       "      <td>...</td>\n",
       "      <td>...</td>\n",
       "      <td>...</td>\n",
       "      <td>...</td>\n",
       "    </tr>\n",
       "    <tr>\n",
       "      <th>886</th>\n",
       "      <td>2</td>\n",
       "      <td>male</td>\n",
       "      <td>27.0</td>\n",
       "      <td>0</td>\n",
       "      <td>0</td>\n",
       "      <td>13.0000</td>\n",
       "      <td>0</td>\n",
       "      <td>0</td>\n",
       "      <td>0</td>\n",
       "      <td>0</td>\n",
       "      <td>...</td>\n",
       "      <td>0</td>\n",
       "      <td>0</td>\n",
       "      <td>0</td>\n",
       "      <td>0</td>\n",
       "      <td>0</td>\n",
       "      <td>0</td>\n",
       "      <td>0</td>\n",
       "      <td>0</td>\n",
       "      <td>1</td>\n",
       "      <td>0</td>\n",
       "    </tr>\n",
       "    <tr>\n",
       "      <th>887</th>\n",
       "      <td>1</td>\n",
       "      <td>female</td>\n",
       "      <td>19.0</td>\n",
       "      <td>0</td>\n",
       "      <td>0</td>\n",
       "      <td>30.0000</td>\n",
       "      <td>0</td>\n",
       "      <td>0</td>\n",
       "      <td>0</td>\n",
       "      <td>0</td>\n",
       "      <td>...</td>\n",
       "      <td>0</td>\n",
       "      <td>0</td>\n",
       "      <td>1</td>\n",
       "      <td>0</td>\n",
       "      <td>0</td>\n",
       "      <td>0</td>\n",
       "      <td>0</td>\n",
       "      <td>0</td>\n",
       "      <td>0</td>\n",
       "      <td>0</td>\n",
       "    </tr>\n",
       "    <tr>\n",
       "      <th>888</th>\n",
       "      <td>3</td>\n",
       "      <td>female</td>\n",
       "      <td>28.0</td>\n",
       "      <td>1</td>\n",
       "      <td>2</td>\n",
       "      <td>23.4500</td>\n",
       "      <td>0</td>\n",
       "      <td>0</td>\n",
       "      <td>0</td>\n",
       "      <td>0</td>\n",
       "      <td>...</td>\n",
       "      <td>3</td>\n",
       "      <td>0</td>\n",
       "      <td>0</td>\n",
       "      <td>0</td>\n",
       "      <td>0</td>\n",
       "      <td>0</td>\n",
       "      <td>0</td>\n",
       "      <td>0</td>\n",
       "      <td>1</td>\n",
       "      <td>3</td>\n",
       "    </tr>\n",
       "    <tr>\n",
       "      <th>889</th>\n",
       "      <td>1</td>\n",
       "      <td>male</td>\n",
       "      <td>26.0</td>\n",
       "      <td>0</td>\n",
       "      <td>0</td>\n",
       "      <td>30.0000</td>\n",
       "      <td>1</td>\n",
       "      <td>0</td>\n",
       "      <td>0</td>\n",
       "      <td>0</td>\n",
       "      <td>...</td>\n",
       "      <td>0</td>\n",
       "      <td>0</td>\n",
       "      <td>0</td>\n",
       "      <td>1</td>\n",
       "      <td>0</td>\n",
       "      <td>0</td>\n",
       "      <td>0</td>\n",
       "      <td>0</td>\n",
       "      <td>0</td>\n",
       "      <td>0</td>\n",
       "    </tr>\n",
       "    <tr>\n",
       "      <th>890</th>\n",
       "      <td>3</td>\n",
       "      <td>male</td>\n",
       "      <td>32.0</td>\n",
       "      <td>0</td>\n",
       "      <td>0</td>\n",
       "      <td>7.7500</td>\n",
       "      <td>2</td>\n",
       "      <td>0</td>\n",
       "      <td>0</td>\n",
       "      <td>0</td>\n",
       "      <td>...</td>\n",
       "      <td>0</td>\n",
       "      <td>0</td>\n",
       "      <td>0</td>\n",
       "      <td>0</td>\n",
       "      <td>0</td>\n",
       "      <td>0</td>\n",
       "      <td>0</td>\n",
       "      <td>0</td>\n",
       "      <td>1</td>\n",
       "      <td>0</td>\n",
       "    </tr>\n",
       "  </tbody>\n",
       "</table>\n",
       "<p>889 rows × 34 columns</p>\n",
       "</div>"
      ],
      "text/plain": [
       "     Pclass     Sex   Age  SibSp  Parch     Fare  Embarked  HonorTitle_Capt  \\\n",
       "0         3    male  22.0      1      0   7.2500         0                0   \n",
       "1         1  female  38.0      1      0  71.2833         1                0   \n",
       "2         3  female  26.0      0      0   7.9250         0                0   \n",
       "3         1  female  35.0      1      0  53.1000         0                0   \n",
       "4         3    male  35.0      0      0   8.0500         0                0   \n",
       "..      ...     ...   ...    ...    ...      ...       ...              ...   \n",
       "886       2    male  27.0      0      0  13.0000         0                0   \n",
       "887       1  female  19.0      0      0  30.0000         0                0   \n",
       "888       3  female  28.0      1      2  23.4500         0                0   \n",
       "889       1    male  26.0      0      0  30.0000         1                0   \n",
       "890       3    male  32.0      0      0   7.7500         2                0   \n",
       "\n",
       "     HonorTitle_Col  HonorTitle_Don  ...  ShareTicket  Cabin_A  Cabin_B  \\\n",
       "0                 0               0  ...            0        0        0   \n",
       "1                 0               0  ...            1        0        0   \n",
       "2                 0               0  ...            0        0        0   \n",
       "3                 0               0  ...            1        0        0   \n",
       "4                 0               0  ...            0        0        0   \n",
       "..              ...             ...  ...          ...      ...      ...   \n",
       "886               0               0  ...            0        0        0   \n",
       "887               0               0  ...            0        0        1   \n",
       "888               0               0  ...            3        0        0   \n",
       "889               0               0  ...            0        0        0   \n",
       "890               0               0  ...            0        0        0   \n",
       "\n",
       "     Cabin_C  Cabin_D  Cabin_E  Cabin_F  Cabin_G  Cabin_nan  Family  \n",
       "0          0        0        0        0        0          1       1  \n",
       "1          1        0        0        0        0          0       1  \n",
       "2          0        0        0        0        0          1       0  \n",
       "3          1        0        0        0        0          0       1  \n",
       "4          0        0        0        0        0          1       0  \n",
       "..       ...      ...      ...      ...      ...        ...     ...  \n",
       "886        0        0        0        0        0          1       0  \n",
       "887        0        0        0        0        0          0       0  \n",
       "888        0        0        0        0        0          1       3  \n",
       "889        1        0        0        0        0          0       0  \n",
       "890        0        0        0        0        0          1       0  \n",
       "\n",
       "[889 rows x 34 columns]"
      ]
     },
     "metadata": {},
     "output_type": "display_data"
    },
    {
     "name": "stdout",
     "output_type": "stream",
     "text": [
      "(889,)\n"
     ]
    }
   ],
   "source": [
    "X = X.dropna(subset=['Embarked'])\n",
    "y = y.loc[X.index]\n",
    "\n",
    "X['Embarked'] = X['Embarked'].replace({'S':0, 'C':1, 'Q':2})\n",
    "\n",
    "display(X)\n",
    "print(y.shape)"
   ]
  },
  {
   "cell_type": "markdown",
   "id": "3cbf86e8",
   "metadata": {
    "papermill": {
     "duration": 0.038458,
     "end_time": "2023-04-29T01:06:41.989886",
     "exception": false,
     "start_time": "2023-04-29T01:06:41.951428",
     "status": "completed"
    },
    "tags": []
   },
   "source": [
    "## Sex\n",
    "\n",
    "Because is binary, we can just encode it as 0-1."
   ]
  },
  {
   "cell_type": "code",
   "execution_count": 52,
   "id": "0779c219",
   "metadata": {
    "execution": {
     "iopub.execute_input": "2023-04-29T01:06:42.069805Z",
     "iopub.status.busy": "2023-04-29T01:06:42.068925Z",
     "iopub.status.idle": "2023-04-29T01:06:42.077338Z",
     "shell.execute_reply": "2023-04-29T01:06:42.075913Z"
    },
    "papermill": {
     "duration": 0.051535,
     "end_time": "2023-04-29T01:06:42.079750",
     "exception": false,
     "start_time": "2023-04-29T01:06:42.028215",
     "status": "completed"
    },
    "tags": []
   },
   "outputs": [
    {
     "name": "stdout",
     "output_type": "stream",
     "text": [
      "['female' 'male']\n"
     ]
    }
   ],
   "source": [
    "from sklearn.preprocessing import LabelEncoder\n",
    "\n",
    "sex_encoder = LabelEncoder()\n",
    "X['Sex'] = sex_encoder.fit_transform(X['Sex'])\n",
    "print(sex_encoder.classes_)"
   ]
  },
  {
   "cell_type": "markdown",
   "id": "2c663416",
   "metadata": {
    "papermill": {
     "duration": 0.040085,
     "end_time": "2023-04-29T01:06:42.158928",
     "exception": false,
     "start_time": "2023-04-29T01:06:42.118843",
     "status": "completed"
    },
    "tags": []
   },
   "source": [
    "## Add new features to testing database"
   ]
  },
  {
   "cell_type": "code",
   "execution_count": 53,
   "id": "944fce15",
   "metadata": {
    "execution": {
     "iopub.execute_input": "2023-04-29T01:06:42.241595Z",
     "iopub.status.busy": "2023-04-29T01:06:42.241166Z",
     "iopub.status.idle": "2023-04-29T01:06:42.749945Z",
     "shell.execute_reply": "2023-04-29T01:06:42.749103Z"
    },
    "papermill": {
     "duration": 0.552208,
     "end_time": "2023-04-29T01:06:42.752217",
     "exception": false,
     "start_time": "2023-04-29T01:06:42.200009",
     "status": "completed"
    },
    "tags": []
   },
   "outputs": [
    {
     "name": "stdout",
     "output_type": "stream",
     "text": [
      "Pclass                      True\n",
      "Sex                         True\n",
      "Age                        False\n",
      "SibSp                       True\n",
      "Parch                       True\n",
      "Fare                       False\n",
      "Embarked                    True\n",
      "HonorTitle_Capt             True\n",
      "HonorTitle_Col              True\n",
      "HonorTitle_Don              True\n",
      "HonorTitle_Dr               True\n",
      "HonorTitle_Jonkheer         True\n",
      "HonorTitle_Lady             True\n",
      "HonorTitle_Major            True\n",
      "HonorTitle_Master           True\n",
      "HonorTitle_Miss             True\n",
      "HonorTitle_Mlle             True\n",
      "HonorTitle_Mme              True\n",
      "HonorTitle_Mr               True\n",
      "HonorTitle_Mrs              True\n",
      "HonorTitle_Ms               True\n",
      "HonorTitle_Rev              True\n",
      "HonorTitle_Sir              True\n",
      "HonorTitle_the Countess     True\n",
      "ShareTicket                 True\n",
      "Cabin_A                     True\n",
      "Cabin_B                     True\n",
      "Cabin_C                     True\n",
      "Cabin_D                     True\n",
      "Cabin_E                     True\n",
      "Cabin_F                     True\n",
      "Cabin_G                     True\n",
      "Cabin_nan                   True\n",
      "Family                      True\n",
      "dtype: bool\n",
      "HonorTitle_Mr              0.155858\n",
      "Sex                        0.149725\n",
      "Fare                       0.133231\n",
      "ShareTicket                0.058089\n",
      "Pclass                     0.057127\n",
      "HonorTitle_Mrs             0.056592\n",
      "HonorTitle_Miss            0.052212\n",
      "Family                     0.048422\n",
      "Cabin_nan                  0.048140\n",
      "Age                        0.029724\n",
      "SibSp                      0.023490\n",
      "Parch                      0.016653\n",
      "Embarked                   0.014547\n",
      "Cabin_B                    0.013538\n",
      "Cabin_D                    0.011235\n",
      "Cabin_E                    0.010430\n",
      "Cabin_C                    0.006457\n",
      "HonorTitle_Master          0.003571\n",
      "HonorTitle_Rev             0.003267\n",
      "HonorTitle_Mlle            0.002166\n",
      "Cabin_F                    0.001642\n",
      "HonorTitle_the Countess    0.001082\n",
      "HonorTitle_Mme             0.001082\n",
      "HonorTitle_Sir             0.001082\n",
      "HonorTitle_Ms              0.001082\n",
      "HonorTitle_Lady            0.001082\n",
      "HonorTitle_Don             0.000543\n",
      "HonorTitle_Capt            0.000543\n",
      "HonorTitle_Jonkheer        0.000543\n",
      "Cabin_A                    0.000252\n",
      "Cabin_G                    0.000129\n",
      "HonorTitle_Major           0.000064\n",
      "HonorTitle_Col             0.000064\n",
      "HonorTitle_Dr              0.000035\n",
      "Name: MutualInfo, dtype: float64\n"
     ]
    },
    {
     "data": {
      "image/png": "[encoded data removed]",
      "text/plain": [
       "<Figure size 720x504 with 1 Axes>"
      ]
     },
     "metadata": {
      "needs_background": "light"
     },
     "output_type": "display_data"
    }
   ],
   "source": [
    "x_ = X.copy()\n",
    "\n",
    "# Label encoding for categoricals\n",
    "for colname in x_.select_dtypes(\"object\"):\n",
    "    x_[colname], _ = x_[colname].factorize()\n",
    "\n",
    "# Check all discrete features have integer dtypes\n",
    "\n",
    "# OHE features are uint8, which is not recognized as int\n",
    "ohe_columns = ['Cabin_A', 'Cabin_B', 'Cabin_C', 'Cabin_D', 'Cabin_E', 'Cabin_F', 'Cabin_G', 'Cabin_nan'] \n",
    "for item in ohe_columns:\n",
    "    x_[ohe_columns] = x_[ohe_columns].astype(int)\n",
    "\n",
    "discrete_features = x_.dtypes == int\n",
    "print(discrete_features)\n",
    "\n",
    "\n",
    "mut_info = get_mutual_info(x_, y, discrete_features)\n",
    "print(mut_info)\n",
    "\n",
    "\n",
    "plt.figure(figsize=(10,7))\n",
    "plot_mi_scores(mut_info)\n",
    "\n",
    "del x_"
   ]
  },
  {
   "cell_type": "markdown",
   "id": "d83771a4",
   "metadata": {
    "papermill": {
     "duration": 0.039421,
     "end_time": "2023-04-29T01:06:42.832831",
     "exception": false,
     "start_time": "2023-04-29T01:06:42.793410",
     "status": "completed"
    },
    "tags": []
   },
   "source": [
    "## Some additional comments on Data Leakeage<a id='discussion_leakeage'>\n",
    "\n",
    "As commented [previously](#data_leakage), most `Cabin` data was collected after the accident from survivors' affidavits, therefore being a case of data leakeage we can use in our advantage for the sake of scoring high.\n",
    "\n",
    "Another practice used in the processing of data in this notebook would induce data leakeage in a real modeling scenario: merging training and testing databases to calculate the `ShareTicket` feature and to imput `Age` values.  \n",
    "However, that **is not true** for this particular _toy database_ since we are working with the whole population, and not a sample. I.e. we are imputting the median age of all passengers, which happens to be the same as the median of the merge of our two databases.  \n",
    "In a realistic scenario (you don't try to make predictions if you already know the whole population) we would have only a sample and this would be indeed a bad practice."
   ]
  },
  {
   "cell_type": "markdown",
   "id": "e4cc25d7",
   "metadata": {
    "papermill": {
     "duration": 0.040172,
     "end_time": "2023-04-29T01:06:42.913242",
     "exception": false,
     "start_time": "2023-04-29T01:06:42.873070",
     "status": "completed"
    },
    "tags": []
   },
   "source": [
    "# Modeling<a id=\"models\">"
   ]
  },
  {
   "cell_type": "code",
   "execution_count": 54,
   "id": "6a90fc01",
   "metadata": {
    "execution": {
     "iopub.execute_input": "2023-04-29T01:06:42.995155Z",
     "iopub.status.busy": "2023-04-29T01:06:42.994163Z",
     "iopub.status.idle": "2023-04-29T01:06:43.004512Z",
     "shell.execute_reply": "2023-04-29T01:06:43.003426Z"
    },
    "papermill": {
     "duration": 0.054305,
     "end_time": "2023-04-29T01:06:43.007391",
     "exception": false,
     "start_time": "2023-04-29T01:06:42.953086",
     "status": "completed"
    },
    "tags": []
   },
   "outputs": [],
   "source": [
    "from sklearn.model_selection import train_test_split\n",
    "from sklearn.preprocessing import MinMaxScaler\n",
    "from sklearn.pipeline import make_pipeline\n",
    "from sklearn.model_selection import cross_validate\n",
    "from sklearn.model_selection import GridSearchCV\n",
    "\n",
    "# for initial baseline and model selection:\n",
    "from sklearn.linear_model import LogisticRegression\n",
    "from sklearn.neighbors import KNeighborsClassifier\n",
    "\n",
    "# from sklearn.model_selection import train_test_split\n",
    "# train_X, val_X, train_y, val_y = train_test_split(X, y, random_state = 0)\n",
    "\n",
    "# scaler = MinMaxScaler()\n",
    "# train_X = scaler.fit_transform(train_X)\n",
    "# val_X = scaler.transform(val_X)\n",
    "\n",
    "def cv_model_evaluation(model, X, y, cv=8):\n",
    "    scores = cross_validate(model, X, y, cv=cv, return_train_score=True)\n",
    "    print(\"Train Accuracy: %0.4f,  std dev: %0.4f\" % (scores['train_score'].mean(), scores['train_score'].std()))\n",
    "    print(\" Test Accuracy: %0.4f,  std dev: %0.4f\" % (scores['test_score'].mean(), scores['test_score'].std()))"
   ]
  },
  {
   "cell_type": "markdown",
   "id": "54ab910c",
   "metadata": {
    "papermill": {
     "duration": 0.039386,
     "end_time": "2023-04-29T01:06:43.088145",
     "exception": false,
     "start_time": "2023-04-29T01:06:43.048759",
     "status": "completed"
    },
    "tags": []
   },
   "source": [
    "## Baseline<a id=\"LogReg_KNN\">"
   ]
  },
  {
   "cell_type": "code",
   "execution_count": 55,
   "id": "ad9ea8bf",
   "metadata": {
    "execution": {
     "iopub.execute_input": "2023-04-29T01:06:43.169716Z",
     "iopub.status.busy": "2023-04-29T01:06:43.169247Z",
     "iopub.status.idle": "2023-04-29T01:06:44.508225Z",
     "shell.execute_reply": "2023-04-29T01:06:44.506299Z"
    },
    "papermill": {
     "duration": 1.384658,
     "end_time": "2023-04-29T01:06:44.512706",
     "exception": false,
     "start_time": "2023-04-29T01:06:43.128048",
     "status": "completed"
    },
    "tags": []
   },
   "outputs": [
    {
     "data": {
      "text/markdown": [
       "#### Linear Regression:"
      ]
     },
     "metadata": {},
     "output_type": "display_data"
    },
    {
     "name": "stdout",
     "output_type": "stream",
     "text": [
      "Train Accuracy: 0.8401,  std dev: 0.0048\n",
      " Test Accuracy: 0.8291,  std dev: 0.0227\n",
      "-----------------\n"
     ]
    },
    {
     "data": {
      "text/markdown": [
       "#### KNN:"
      ]
     },
     "metadata": {},
     "output_type": "display_data"
    },
    {
     "name": "stdout",
     "output_type": "stream",
     "text": [
      "Train Accuracy: 0.8533,  std dev: 0.0038\n",
      " Test Accuracy: 0.8358,  std dev: 0.0362\n"
     ]
    }
   ],
   "source": [
    "display_markdown('#### Linear Regression:', raw=True)\n",
    "clf_linear = make_pipeline(MinMaxScaler(),LogisticRegression(random_state=0))\n",
    "cv_model_evaluation(clf_linear, X, y)\n",
    "\n",
    "print('-----------------')\n",
    "\n",
    "display_markdown(\"#### KNN:\", raw=True)\n",
    "clf_knn = make_pipeline(MinMaxScaler(), KNeighborsClassifier(7))\n",
    "cv_model_evaluation(clf_knn, X, y)"
   ]
  },
  {
   "cell_type": "markdown",
   "id": "b5401f45",
   "metadata": {
    "papermill": {
     "duration": 0.039402,
     "end_time": "2023-04-29T01:06:44.614349",
     "exception": false,
     "start_time": "2023-04-29T01:06:44.574947",
     "status": "completed"
    },
    "tags": []
   },
   "source": [
    "We'll start by trying some simple models like Logistic Regression or KNN. And later move to more computationally expensive ones.\n",
    "\n",
    "\n",
    "[\\\\]: # \"Note that `MinMaxScaler` is not necessary for tree models, but won't hurt performance and it will be necessary for the simple ones.\""
   ]
  },
  {
   "cell_type": "markdown",
   "id": "47483302",
   "metadata": {
    "papermill": {
     "duration": 0.040561,
     "end_time": "2023-04-29T01:06:44.694876",
     "exception": false,
     "start_time": "2023-04-29T01:06:44.654315",
     "status": "completed"
    },
    "tags": []
   },
   "source": [
    "## Feature selection - Sex<a id=\"model_featureSelection_sex\">"
   ]
  },
  {
   "cell_type": "code",
   "execution_count": 56,
   "id": "b15c3768",
   "metadata": {
    "execution": {
     "iopub.execute_input": "2023-04-29T01:06:44.777130Z",
     "iopub.status.busy": "2023-04-29T01:06:44.776742Z",
     "iopub.status.idle": "2023-04-29T01:06:44.806503Z",
     "shell.execute_reply": "2023-04-29T01:06:44.805695Z"
    },
    "papermill": {
     "duration": 0.073851,
     "end_time": "2023-04-29T01:06:44.809249",
     "exception": false,
     "start_time": "2023-04-29T01:06:44.735398",
     "status": "completed"
    },
    "tags": []
   },
   "outputs": [
    {
     "data": {
      "text/plain": [
       "HonorTitle_Mr              0.463165\n",
       "HonorTitle_Miss            0.266614\n",
       "HonorTitle_Mrs             0.168195\n",
       "HonorTitle_Master          0.020018\n",
       "HonorTitle_Rev             0.002930\n",
       "HonorTitle_Mlle            0.002360\n",
       "HonorTitle_Ms              0.001179\n",
       "HonorTitle_Mme             0.001179\n",
       "HonorTitle_the Countess    0.001179\n",
       "HonorTitle_Lady            0.001179\n",
       "HonorTitle_Col             0.000974\n",
       "HonorTitle_Major           0.000974\n",
       "HonorTitle_Dr              0.000872\n",
       "HonorTitle_Jonkheer        0.000487\n",
       "HonorTitle_Don             0.000487\n",
       "HonorTitle_Sir             0.000487\n",
       "HonorTitle_Capt            0.000487\n",
       "Name: MutualInfo, dtype: float64"
      ]
     },
     "execution_count": 56,
     "metadata": {},
     "output_type": "execute_result"
    }
   ],
   "source": [
    "get_mutual_info(X[[col for col in X.columns if \"HonorTitle\" in col]], X['Sex'], discrete_features=True)"
   ]
  },
  {
   "cell_type": "markdown",
   "id": "5b9d2503",
   "metadata": {
    "papermill": {
     "duration": 0.040358,
     "end_time": "2023-04-29T01:06:44.889391",
     "exception": false,
     "start_time": "2023-04-29T01:06:44.849033",
     "status": "completed"
    },
    "tags": []
   },
   "source": [
    "`Sex` is quite redundant with `HonorTitle`. It could be a good idea to eliminate it."
   ]
  },
  {
   "cell_type": "code",
   "execution_count": 57,
   "id": "fc479115",
   "metadata": {
    "execution": {
     "iopub.execute_input": "2023-04-29T01:06:44.973341Z",
     "iopub.status.busy": "2023-04-29T01:06:44.972916Z",
     "iopub.status.idle": "2023-04-29T01:06:46.271141Z",
     "shell.execute_reply": "2023-04-29T01:06:46.269472Z"
    },
    "papermill": {
     "duration": 1.345545,
     "end_time": "2023-04-29T01:06:46.276271",
     "exception": false,
     "start_time": "2023-04-29T01:06:44.930726",
     "status": "completed"
    },
    "tags": []
   },
   "outputs": [
    {
     "data": {
      "text/markdown": [
       "#### Linear Regression (Data - `Sex`):"
      ]
     },
     "metadata": {},
     "output_type": "display_data"
    },
    {
     "name": "stdout",
     "output_type": "stream",
     "text": [
      "Train Accuracy: 0.8385,  std dev: 0.0053\n",
      " Test Accuracy: 0.8268,  std dev: 0.0243\n",
      "-----------------\n"
     ]
    },
    {
     "data": {
      "text/markdown": [
       "#### KNN (Data - `Sex`):"
      ]
     },
     "metadata": {},
     "output_type": "display_data"
    },
    {
     "name": "stdout",
     "output_type": "stream",
     "text": [
      "Train Accuracy: 0.8539,  std dev: 0.0032\n",
      " Test Accuracy: 0.8313,  std dev: 0.0333\n"
     ]
    }
   ],
   "source": [
    "X_ = X.copy()\n",
    "X_ = X_.drop('Sex',axis=1)\n",
    "\n",
    "display_markdown('#### Linear Regression (Data - `Sex`):', raw=True)\n",
    "clf_linear = make_pipeline(MinMaxScaler(),LogisticRegression(random_state=0))\n",
    "cv_model_evaluation(clf_linear, X_, y)\n",
    "\n",
    "print('-----------------')\n",
    "\n",
    "display_markdown('#### KNN (Data - `Sex`):', raw=True)\n",
    "clf_knn = make_pipeline(MinMaxScaler(), KNeighborsClassifier(7))\n",
    "cv_model_evaluation(clf_knn, X_, y)"
   ]
  },
  {
   "cell_type": "markdown",
   "id": "e9a66295",
   "metadata": {
    "papermill": {
     "duration": 0.039969,
     "end_time": "2023-04-29T01:06:46.379377",
     "exception": false,
     "start_time": "2023-04-29T01:06:46.339408",
     "status": "completed"
    },
    "tags": []
   },
   "source": [
    "Dropping `'Sex'` did not increased performace in preliminar modeling. In fact, there was a slightly decrease in accuracy in both logistic regression and KNN, the later showing an increase in training accuracy, possibly reflecting overfitting. The effect is however small."
   ]
  },
  {
   "cell_type": "markdown",
   "id": "e09f457c",
   "metadata": {
    "papermill": {
     "duration": 0.051011,
     "end_time": "2023-04-29T01:06:46.471133",
     "exception": false,
     "start_time": "2023-04-29T01:06:46.420122",
     "status": "completed"
    },
    "tags": []
   },
   "source": [
    "## Feature selection - Embarked<a id=\"model_featureSelection_embarked\">\n",
    "\n",
    "Embarked could be treated as ordinal since there's a temporal order in the ports. But it could also be one-hot-encoded."
   ]
  },
  {
   "cell_type": "code",
   "execution_count": 58,
   "id": "a6f558f6",
   "metadata": {
    "execution": {
     "iopub.execute_input": "2023-04-29T01:06:46.573283Z",
     "iopub.status.busy": "2023-04-29T01:06:46.572883Z",
     "iopub.status.idle": "2023-04-29T01:06:46.604961Z",
     "shell.execute_reply": "2023-04-29T01:06:46.603505Z"
    },
    "papermill": {
     "duration": 0.077117,
     "end_time": "2023-04-29T01:06:46.607665",
     "exception": false,
     "start_time": "2023-04-29T01:06:46.530548",
     "status": "completed"
    },
    "tags": []
   },
   "outputs": [
    {
     "data": {
      "text/html": [
       "<div>\n",
       "<style scoped>\n",
       "    .dataframe tbody tr th:only-of-type {\n",
       "        vertical-align: middle;\n",
       "    }\n",
       "\n",
       "    .dataframe tbody tr th {\n",
       "        vertical-align: top;\n",
       "    }\n",
       "\n",
       "    .dataframe thead th {\n",
       "        text-align: right;\n",
       "    }\n",
       "</style>\n",
       "<table border=\"1\" class=\"dataframe\">\n",
       "  <thead>\n",
       "    <tr style=\"text-align: right;\">\n",
       "      <th></th>\n",
       "      <th>Pclass</th>\n",
       "      <th>Sex</th>\n",
       "      <th>Age</th>\n",
       "      <th>SibSp</th>\n",
       "      <th>Parch</th>\n",
       "      <th>Fare</th>\n",
       "      <th>HonorTitle_Capt</th>\n",
       "      <th>HonorTitle_Col</th>\n",
       "      <th>HonorTitle_Don</th>\n",
       "      <th>HonorTitle_Dr</th>\n",
       "      <th>...</th>\n",
       "      <th>Cabin_C</th>\n",
       "      <th>Cabin_D</th>\n",
       "      <th>Cabin_E</th>\n",
       "      <th>Cabin_F</th>\n",
       "      <th>Cabin_G</th>\n",
       "      <th>Cabin_nan</th>\n",
       "      <th>Family</th>\n",
       "      <th>Embarked_C</th>\n",
       "      <th>Embarked_Q</th>\n",
       "      <th>Embarked_S</th>\n",
       "    </tr>\n",
       "  </thead>\n",
       "  <tbody>\n",
       "    <tr>\n",
       "      <th>0</th>\n",
       "      <td>3</td>\n",
       "      <td>1</td>\n",
       "      <td>22.0</td>\n",
       "      <td>1</td>\n",
       "      <td>0</td>\n",
       "      <td>7.2500</td>\n",
       "      <td>0</td>\n",
       "      <td>0</td>\n",
       "      <td>0</td>\n",
       "      <td>0</td>\n",
       "      <td>...</td>\n",
       "      <td>0</td>\n",
       "      <td>0</td>\n",
       "      <td>0</td>\n",
       "      <td>0</td>\n",
       "      <td>0</td>\n",
       "      <td>1</td>\n",
       "      <td>1</td>\n",
       "      <td>0</td>\n",
       "      <td>0</td>\n",
       "      <td>1</td>\n",
       "    </tr>\n",
       "    <tr>\n",
       "      <th>1</th>\n",
       "      <td>1</td>\n",
       "      <td>0</td>\n",
       "      <td>38.0</td>\n",
       "      <td>1</td>\n",
       "      <td>0</td>\n",
       "      <td>71.2833</td>\n",
       "      <td>0</td>\n",
       "      <td>0</td>\n",
       "      <td>0</td>\n",
       "      <td>0</td>\n",
       "      <td>...</td>\n",
       "      <td>1</td>\n",
       "      <td>0</td>\n",
       "      <td>0</td>\n",
       "      <td>0</td>\n",
       "      <td>0</td>\n",
       "      <td>0</td>\n",
       "      <td>1</td>\n",
       "      <td>1</td>\n",
       "      <td>0</td>\n",
       "      <td>0</td>\n",
       "    </tr>\n",
       "    <tr>\n",
       "      <th>2</th>\n",
       "      <td>3</td>\n",
       "      <td>0</td>\n",
       "      <td>26.0</td>\n",
       "      <td>0</td>\n",
       "      <td>0</td>\n",
       "      <td>7.9250</td>\n",
       "      <td>0</td>\n",
       "      <td>0</td>\n",
       "      <td>0</td>\n",
       "      <td>0</td>\n",
       "      <td>...</td>\n",
       "      <td>0</td>\n",
       "      <td>0</td>\n",
       "      <td>0</td>\n",
       "      <td>0</td>\n",
       "      <td>0</td>\n",
       "      <td>1</td>\n",
       "      <td>0</td>\n",
       "      <td>0</td>\n",
       "      <td>0</td>\n",
       "      <td>1</td>\n",
       "    </tr>\n",
       "    <tr>\n",
       "      <th>3</th>\n",
       "      <td>1</td>\n",
       "      <td>0</td>\n",
       "      <td>35.0</td>\n",
       "      <td>1</td>\n",
       "      <td>0</td>\n",
       "      <td>53.1000</td>\n",
       "      <td>0</td>\n",
       "      <td>0</td>\n",
       "      <td>0</td>\n",
       "      <td>0</td>\n",
       "      <td>...</td>\n",
       "      <td>1</td>\n",
       "      <td>0</td>\n",
       "      <td>0</td>\n",
       "      <td>0</td>\n",
       "      <td>0</td>\n",
       "      <td>0</td>\n",
       "      <td>1</td>\n",
       "      <td>0</td>\n",
       "      <td>0</td>\n",
       "      <td>1</td>\n",
       "    </tr>\n",
       "    <tr>\n",
       "      <th>4</th>\n",
       "      <td>3</td>\n",
       "      <td>1</td>\n",
       "      <td>35.0</td>\n",
       "      <td>0</td>\n",
       "      <td>0</td>\n",
       "      <td>8.0500</td>\n",
       "      <td>0</td>\n",
       "      <td>0</td>\n",
       "      <td>0</td>\n",
       "      <td>0</td>\n",
       "      <td>...</td>\n",
       "      <td>0</td>\n",
       "      <td>0</td>\n",
       "      <td>0</td>\n",
       "      <td>0</td>\n",
       "      <td>0</td>\n",
       "      <td>1</td>\n",
       "      <td>0</td>\n",
       "      <td>0</td>\n",
       "      <td>0</td>\n",
       "      <td>1</td>\n",
       "    </tr>\n",
       "    <tr>\n",
       "      <th>...</th>\n",
       "      <td>...</td>\n",
       "      <td>...</td>\n",
       "      <td>...</td>\n",
       "      <td>...</td>\n",
       "      <td>...</td>\n",
       "      <td>...</td>\n",
       "      <td>...</td>\n",
       "      <td>...</td>\n",
       "      <td>...</td>\n",
       "      <td>...</td>\n",
       "      <td>...</td>\n",
       "      <td>...</td>\n",
       "      <td>...</td>\n",
       "      <td>...</td>\n",
       "      <td>...</td>\n",
       "      <td>...</td>\n",
       "      <td>...</td>\n",
       "      <td>...</td>\n",
       "      <td>...</td>\n",
       "      <td>...</td>\n",
       "      <td>...</td>\n",
       "    </tr>\n",
       "    <tr>\n",
       "      <th>886</th>\n",
       "      <td>2</td>\n",
       "      <td>1</td>\n",
       "      <td>27.0</td>\n",
       "      <td>0</td>\n",
       "      <td>0</td>\n",
       "      <td>13.0000</td>\n",
       "      <td>0</td>\n",
       "      <td>0</td>\n",
       "      <td>0</td>\n",
       "      <td>0</td>\n",
       "      <td>...</td>\n",
       "      <td>0</td>\n",
       "      <td>0</td>\n",
       "      <td>0</td>\n",
       "      <td>0</td>\n",
       "      <td>0</td>\n",
       "      <td>1</td>\n",
       "      <td>0</td>\n",
       "      <td>0</td>\n",
       "      <td>0</td>\n",
       "      <td>1</td>\n",
       "    </tr>\n",
       "    <tr>\n",
       "      <th>887</th>\n",
       "      <td>1</td>\n",
       "      <td>0</td>\n",
       "      <td>19.0</td>\n",
       "      <td>0</td>\n",
       "      <td>0</td>\n",
       "      <td>30.0000</td>\n",
       "      <td>0</td>\n",
       "      <td>0</td>\n",
       "      <td>0</td>\n",
       "      <td>0</td>\n",
       "      <td>...</td>\n",
       "      <td>0</td>\n",
       "      <td>0</td>\n",
       "      <td>0</td>\n",
       "      <td>0</td>\n",
       "      <td>0</td>\n",
       "      <td>0</td>\n",
       "      <td>0</td>\n",
       "      <td>0</td>\n",
       "      <td>0</td>\n",
       "      <td>1</td>\n",
       "    </tr>\n",
       "    <tr>\n",
       "      <th>888</th>\n",
       "      <td>3</td>\n",
       "      <td>0</td>\n",
       "      <td>28.0</td>\n",
       "      <td>1</td>\n",
       "      <td>2</td>\n",
       "      <td>23.4500</td>\n",
       "      <td>0</td>\n",
       "      <td>0</td>\n",
       "      <td>0</td>\n",
       "      <td>0</td>\n",
       "      <td>...</td>\n",
       "      <td>0</td>\n",
       "      <td>0</td>\n",
       "      <td>0</td>\n",
       "      <td>0</td>\n",
       "      <td>0</td>\n",
       "      <td>1</td>\n",
       "      <td>3</td>\n",
       "      <td>0</td>\n",
       "      <td>0</td>\n",
       "      <td>1</td>\n",
       "    </tr>\n",
       "    <tr>\n",
       "      <th>889</th>\n",
       "      <td>1</td>\n",
       "      <td>1</td>\n",
       "      <td>26.0</td>\n",
       "      <td>0</td>\n",
       "      <td>0</td>\n",
       "      <td>30.0000</td>\n",
       "      <td>0</td>\n",
       "      <td>0</td>\n",
       "      <td>0</td>\n",
       "      <td>0</td>\n",
       "      <td>...</td>\n",
       "      <td>1</td>\n",
       "      <td>0</td>\n",
       "      <td>0</td>\n",
       "      <td>0</td>\n",
       "      <td>0</td>\n",
       "      <td>0</td>\n",
       "      <td>0</td>\n",
       "      <td>1</td>\n",
       "      <td>0</td>\n",
       "      <td>0</td>\n",
       "    </tr>\n",
       "    <tr>\n",
       "      <th>890</th>\n",
       "      <td>3</td>\n",
       "      <td>1</td>\n",
       "      <td>32.0</td>\n",
       "      <td>0</td>\n",
       "      <td>0</td>\n",
       "      <td>7.7500</td>\n",
       "      <td>0</td>\n",
       "      <td>0</td>\n",
       "      <td>0</td>\n",
       "      <td>0</td>\n",
       "      <td>...</td>\n",
       "      <td>0</td>\n",
       "      <td>0</td>\n",
       "      <td>0</td>\n",
       "      <td>0</td>\n",
       "      <td>0</td>\n",
       "      <td>1</td>\n",
       "      <td>0</td>\n",
       "      <td>0</td>\n",
       "      <td>1</td>\n",
       "      <td>0</td>\n",
       "    </tr>\n",
       "  </tbody>\n",
       "</table>\n",
       "<p>889 rows × 36 columns</p>\n",
       "</div>"
      ],
      "text/plain": [
       "     Pclass  Sex   Age  SibSp  Parch     Fare  HonorTitle_Capt  \\\n",
       "0         3    1  22.0      1      0   7.2500                0   \n",
       "1         1    0  38.0      1      0  71.2833                0   \n",
       "2         3    0  26.0      0      0   7.9250                0   \n",
       "3         1    0  35.0      1      0  53.1000                0   \n",
       "4         3    1  35.0      0      0   8.0500                0   \n",
       "..      ...  ...   ...    ...    ...      ...              ...   \n",
       "886       2    1  27.0      0      0  13.0000                0   \n",
       "887       1    0  19.0      0      0  30.0000                0   \n",
       "888       3    0  28.0      1      2  23.4500                0   \n",
       "889       1    1  26.0      0      0  30.0000                0   \n",
       "890       3    1  32.0      0      0   7.7500                0   \n",
       "\n",
       "     HonorTitle_Col  HonorTitle_Don  HonorTitle_Dr  ...  Cabin_C  Cabin_D  \\\n",
       "0                 0               0              0  ...        0        0   \n",
       "1                 0               0              0  ...        1        0   \n",
       "2                 0               0              0  ...        0        0   \n",
       "3                 0               0              0  ...        1        0   \n",
       "4                 0               0              0  ...        0        0   \n",
       "..              ...             ...            ...  ...      ...      ...   \n",
       "886               0               0              0  ...        0        0   \n",
       "887               0               0              0  ...        0        0   \n",
       "888               0               0              0  ...        0        0   \n",
       "889               0               0              0  ...        1        0   \n",
       "890               0               0              0  ...        0        0   \n",
       "\n",
       "     Cabin_E  Cabin_F  Cabin_G  Cabin_nan  Family  Embarked_C  Embarked_Q  \\\n",
       "0          0        0        0          1       1           0           0   \n",
       "1          0        0        0          0       1           1           0   \n",
       "2          0        0        0          1       0           0           0   \n",
       "3          0        0        0          0       1           0           0   \n",
       "4          0        0        0          1       0           0           0   \n",
       "..       ...      ...      ...        ...     ...         ...         ...   \n",
       "886        0        0        0          1       0           0           0   \n",
       "887        0        0        0          0       0           0           0   \n",
       "888        0        0        0          1       3           0           0   \n",
       "889        0        0        0          0       0           1           0   \n",
       "890        0        0        0          1       0           0           1   \n",
       "\n",
       "     Embarked_S  \n",
       "0             1  \n",
       "1             0  \n",
       "2             1  \n",
       "3             1  \n",
       "4             1  \n",
       "..          ...  \n",
       "886           1  \n",
       "887           1  \n",
       "888           1  \n",
       "889           0  \n",
       "890           0  \n",
       "\n",
       "[889 rows x 36 columns]"
      ]
     },
     "metadata": {},
     "output_type": "display_data"
    }
   ],
   "source": [
    "X_ = X.copy()\n",
    "\n",
    "X_['Embarked'] = X_['Embarked'].replace({0:'S', 1:'C', 2:'Q'})\n",
    "\n",
    "X_ = pd.get_dummies(X_, prefix='Embarked', columns=['Embarked'])\n",
    "\n",
    "display(X_)"
   ]
  },
  {
   "cell_type": "code",
   "execution_count": 59,
   "id": "e4cf6535",
   "metadata": {
    "execution": {
     "iopub.execute_input": "2023-04-29T01:06:46.692478Z",
     "iopub.status.busy": "2023-04-29T01:06:46.692071Z",
     "iopub.status.idle": "2023-04-29T01:06:48.013219Z",
     "shell.execute_reply": "2023-04-29T01:06:48.011555Z"
    },
    "papermill": {
     "duration": 1.36852,
     "end_time": "2023-04-29T01:06:48.017422",
     "exception": false,
     "start_time": "2023-04-29T01:06:46.648902",
     "status": "completed"
    },
    "tags": []
   },
   "outputs": [
    {
     "data": {
      "text/markdown": [
       "#### Linear Regression (Data - `Embarked`):"
      ]
     },
     "metadata": {},
     "output_type": "display_data"
    },
    {
     "name": "stdout",
     "output_type": "stream",
     "text": [
      "Train Accuracy: 0.8428,  std dev: 0.0035\n",
      " Test Accuracy: 0.8302,  std dev: 0.0233\n",
      "-----------------\n"
     ]
    },
    {
     "data": {
      "text/markdown": [
       "#### KNN (Data - `Embarked`):"
      ]
     },
     "metadata": {},
     "output_type": "display_data"
    },
    {
     "name": "stdout",
     "output_type": "stream",
     "text": [
      "Train Accuracy: 0.8559,  std dev: 0.0051\n",
      " Test Accuracy: 0.8369,  std dev: 0.0362\n"
     ]
    }
   ],
   "source": [
    "display_markdown('#### Linear Regression (Data - `Embarked`):', raw=True)\n",
    "clf_linear = make_pipeline(MinMaxScaler(),LogisticRegression(random_state=0))\n",
    "cv_model_evaluation(clf_linear, X_, y)\n",
    "\n",
    "print('-----------------')\n",
    "\n",
    "display_markdown('#### KNN (Data - `Embarked`):', raw=True)\n",
    "clf_knn = make_pipeline(MinMaxScaler(), KNeighborsClassifier(7))\n",
    "cv_model_evaluation(clf_knn, X_, y)"
   ]
  },
  {
   "cell_type": "markdown",
   "id": "a8c2c8da",
   "metadata": {
    "papermill": {
     "duration": 0.041168,
     "end_time": "2023-04-29T01:06:48.126495",
     "exception": false,
     "start_time": "2023-04-29T01:06:48.085327",
     "status": "completed"
    },
    "tags": []
   },
   "source": [
    "OH-encoding the ports of embarkment –instead of factorizing them, produced an increase of about .5% in accuracy with KNN."
   ]
  },
  {
   "cell_type": "code",
   "execution_count": 60,
   "id": "96efd8bb",
   "metadata": {
    "execution": {
     "iopub.execute_input": "2023-04-29T01:06:48.210924Z",
     "iopub.status.busy": "2023-04-29T01:06:48.210494Z",
     "iopub.status.idle": "2023-04-29T01:06:48.215975Z",
     "shell.execute_reply": "2023-04-29T01:06:48.214704Z"
    },
    "papermill": {
     "duration": 0.050813,
     "end_time": "2023-04-29T01:06:48.218470",
     "exception": false,
     "start_time": "2023-04-29T01:06:48.167657",
     "status": "completed"
    },
    "tags": []
   },
   "outputs": [],
   "source": [
    "# keep the version of the data with OH-encoded 'Embarked'\n",
    "X = X_.copy()"
   ]
  },
  {
   "cell_type": "markdown",
   "id": "6f24d8d1",
   "metadata": {
    "papermill": {
     "duration": 0.041482,
     "end_time": "2023-04-29T01:06:48.301486",
     "exception": false,
     "start_time": "2023-04-29T01:06:48.260004",
     "status": "completed"
    },
    "tags": []
   },
   "source": [
    "## Redundancy in data about family\n",
    "\n",
    "We have generated a new feature `Family` that adds the values of `Parch` and `SibSp`. There's the possibility that redundancy between those features could produce overfitting. So, let's see if we gain something by eliminating some of these:"
   ]
  },
  {
   "cell_type": "code",
   "execution_count": 61,
   "id": "312f7cbe",
   "metadata": {
    "execution": {
     "iopub.execute_input": "2023-04-29T01:06:48.385493Z",
     "iopub.status.busy": "2023-04-29T01:06:48.385087Z",
     "iopub.status.idle": "2023-04-29T01:06:53.546982Z",
     "shell.execute_reply": "2023-04-29T01:06:53.545668Z"
    },
    "papermill": {
     "duration": 5.208507,
     "end_time": "2023-04-29T01:06:53.551186",
     "exception": false,
     "start_time": "2023-04-29T01:06:48.342679",
     "status": "completed"
    },
    "tags": []
   },
   "outputs": [
    {
     "data": {
      "text/markdown": [
       "#### Linear Regression:"
      ]
     },
     "metadata": {},
     "output_type": "display_data"
    },
    {
     "name": "stdout",
     "output_type": "stream",
     "text": [
      "Without Parch:\n",
      "Train Accuracy: 0.8417,  std dev: 0.0040\n",
      " Test Accuracy: 0.8279,  std dev: 0.0241\n",
      "Without SibSp:\n",
      "Train Accuracy: 0.8424,  std dev: 0.0040\n",
      " Test Accuracy: 0.8302,  std dev: 0.0238\n",
      "Without Parch AND SibSp:\n",
      "Train Accuracy: 0.8427,  std dev: 0.0034\n",
      " Test Accuracy: 0.8313,  std dev: 0.0230\n",
      "Without Family:\n",
      "Train Accuracy: 0.8432,  std dev: 0.0032\n",
      " Test Accuracy: 0.8313,  std dev: 0.0250\n",
      "-----------------\n"
     ]
    },
    {
     "data": {
      "text/markdown": [
       "#### KNN:"
      ]
     },
     "metadata": {},
     "output_type": "display_data"
    },
    {
     "name": "stdout",
     "output_type": "stream",
     "text": [
      "Without Parch:\n",
      "Train Accuracy: 0.8588,  std dev: 0.0041\n",
      " Test Accuracy: 0.8358,  std dev: 0.0345\n",
      "Without SibSp:\n",
      "Train Accuracy: 0.8560,  std dev: 0.0054\n",
      " Test Accuracy: 0.8347,  std dev: 0.0387\n",
      "Without Parch AND SibSp:\n",
      "Train Accuracy: 0.8584,  std dev: 0.0056\n",
      " Test Accuracy: 0.8346,  std dev: 0.0360\n",
      "Without Family:\n",
      "Train Accuracy: 0.8579,  std dev: 0.0048\n",
      " Test Accuracy: 0.8335,  std dev: 0.0355\n"
     ]
    }
   ],
   "source": [
    "display_markdown('#### Linear Regression:', raw=True)\n",
    "print('Without Parch:')\n",
    "clf_linear = make_pipeline(MinMaxScaler(),LogisticRegression(random_state=0))\n",
    "cv_model_evaluation(clf_linear, X.drop('Parch',axis=1), y)\n",
    "print('Without SibSp:')\n",
    "clf_linear = make_pipeline(MinMaxScaler(),LogisticRegression(random_state=0))\n",
    "cv_model_evaluation(clf_linear, X.drop('SibSp',axis=1), y)\n",
    "print('Without Parch AND SibSp:')\n",
    "clf_linear = make_pipeline(MinMaxScaler(),LogisticRegression(random_state=0))\n",
    "cv_model_evaluation(clf_linear, X.drop(['Parch','SibSp'],axis=1), y)\n",
    "print('Without Family:')\n",
    "clf_linear = make_pipeline(MinMaxScaler(),LogisticRegression(random_state=0))\n",
    "cv_model_evaluation(clf_linear, X.drop('Family',axis=1), y)\n",
    "\n",
    "print('-----------------')\n",
    "\n",
    "display_markdown('#### KNN:', raw=True)\n",
    "clf_knn = make_pipeline(MinMaxScaler(), KNeighborsClassifier(7))\n",
    "print('Without Parch:')\n",
    "cv_model_evaluation(clf_knn, X.drop('Parch',axis=1), y)\n",
    "print('Without SibSp:')\n",
    "cv_model_evaluation(clf_knn, X.drop('SibSp',axis=1), y)\n",
    "print('Without Parch AND SibSp:')\n",
    "cv_model_evaluation(clf_knn, X.drop(['Parch','SibSp'],axis=1), y)\n",
    "print('Without Family:')\n",
    "cv_model_evaluation(clf_knn, X.drop('Family',axis=1), y)"
   ]
  },
  {
   "cell_type": "markdown",
   "id": "566fe3c2",
   "metadata": {
    "papermill": {
     "duration": 0.041965,
     "end_time": "2023-04-29T01:06:53.662432",
     "exception": false,
     "start_time": "2023-04-29T01:06:53.620467",
     "status": "completed"
    },
    "tags": []
   },
   "source": [
    "We don't get any gain, and even there's a slight decrease in perfiormance when we eliminate `Family` or any data used to calculate it."
   ]
  },
  {
   "cell_type": "markdown",
   "id": "2a708eae",
   "metadata": {
    "papermill": {
     "duration": 0.041817,
     "end_time": "2023-04-29T01:06:53.747467",
     "exception": false,
     "start_time": "2023-04-29T01:06:53.705650",
     "status": "completed"
    },
    "tags": []
   },
   "source": [
    "## Random Forest<a id=\"model_RForest\">"
   ]
  },
  {
   "cell_type": "code",
   "execution_count": 62,
   "id": "771aa1e0",
   "metadata": {
    "execution": {
     "iopub.execute_input": "2023-04-29T01:06:53.834119Z",
     "iopub.status.busy": "2023-04-29T01:06:53.833725Z",
     "iopub.status.idle": "2023-04-29T01:09:43.590114Z",
     "shell.execute_reply": "2023-04-29T01:09:43.588736Z"
    },
    "papermill": {
     "duration": 169.846988,
     "end_time": "2023-04-29T01:09:43.636909",
     "exception": false,
     "start_time": "2023-04-29T01:06:53.789921",
     "status": "completed"
    },
    "tags": []
   },
   "outputs": [
    {
     "name": "stdout",
     "output_type": "stream",
     "text": [
      "best score:  0.8468970934799686\n",
      "best parameters:  {'criterion': 'gini', 'max_depth': 4, 'min_samples_split': 4}\n"
     ]
    }
   ],
   "source": [
    "from sklearn.ensemble import RandomForestClassifier\n",
    "X_train, X_val, y_train, y_val = train_test_split(X_, y, random_state = 0) #X_.drop('Sex',axis=1)\n",
    "\n",
    "forest = RandomForestClassifier(n_estimators=300)\n",
    "parameters = {'max_depth':[4,5,6,7,8,9,10,15],'criterion':['gini', 'entropy'], 'min_samples_split':[2,4,10,20]}\n",
    "\n",
    "clf_forest = GridSearchCV(forest, parameters)\n",
    "clf_forest.fit(X_train, y_train)\n",
    "\n",
    "print('best score: ', clf_forest.best_score_)\n",
    "print('best parameters: ', clf_forest.best_params_)"
   ]
  },
  {
   "cell_type": "markdown",
   "id": "69147fa7",
   "metadata": {
    "papermill": {
     "duration": 0.042753,
     "end_time": "2023-04-29T01:09:43.721957",
     "exception": false,
     "start_time": "2023-04-29T01:09:43.679204",
     "status": "completed"
    },
    "tags": []
   },
   "source": [
    "## XGBoost"
   ]
  },
  {
   "cell_type": "code",
   "execution_count": 63,
   "id": "884cf493",
   "metadata": {
    "execution": {
     "iopub.execute_input": "2023-04-29T01:09:43.808952Z",
     "iopub.status.busy": "2023-04-29T01:09:43.808504Z",
     "iopub.status.idle": "2023-04-29T01:09:43.813462Z",
     "shell.execute_reply": "2023-04-29T01:09:43.812242Z"
    },
    "papermill": {
     "duration": 0.051541,
     "end_time": "2023-04-29T01:09:43.815874",
     "exception": false,
     "start_time": "2023-04-29T01:09:43.764333",
     "status": "completed"
    },
    "tags": []
   },
   "outputs": [],
   "source": [
    "# from xgboost import XGBClassifier\n",
    "\n",
    "# bst = XGBClassifier(n_estimators=300, objective='binary:logistic', random_state=0)\n",
    "# parameters = {'max_depth':[1,2,3,4,10,15,20]}\n",
    "\n",
    "# forest = RandomForestClassifier()\n",
    "# clf_xgboost = GridSearchCV(bst, parameters)\n",
    "# clf_xgboost.fit(X_train, y_train)\n",
    "\n",
    "# print('best score: ', clf_xgboost.best_score_)\n",
    "# print('best parameters: ', clf_xgboost.best_params_)"
   ]
  },
  {
   "cell_type": "code",
   "execution_count": 64,
   "id": "83730ba0",
   "metadata": {
    "execution": {
     "iopub.execute_input": "2023-04-29T01:09:43.904513Z",
     "iopub.status.busy": "2023-04-29T01:09:43.904069Z",
     "iopub.status.idle": "2023-04-29T01:12:33.287204Z",
     "shell.execute_reply": "2023-04-29T01:12:33.285858Z"
    },
    "papermill": {
     "duration": 169.473959,
     "end_time": "2023-04-29T01:12:33.332907",
     "exception": false,
     "start_time": "2023-04-29T01:09:43.858948",
     "status": "completed"
    },
    "tags": []
   },
   "outputs": [
    {
     "name": "stdout",
     "output_type": "stream",
     "text": [
      "best score:  0.8408708338009203\n",
      "best parameters:  {'criterion': 'friedman_mse', 'max_depth': 3, 'min_samples_split': 4}\n"
     ]
    }
   ],
   "source": [
    "from sklearn.ensemble import GradientBoostingClassifier\n",
    "\n",
    "gbst = GradientBoostingClassifier(n_estimators=300)\n",
    "parameters = {'max_depth':[1,2,3,4,5,10,15],'criterion':['friedman_mse', 'squared_error'], 'min_samples_split':[2,4,10,20]}\n",
    "\n",
    "clf_gbst = GridSearchCV(gbst, parameters)\n",
    "clf_gbst.fit(X_train, y_train)\n",
    "\n",
    "print('best score: ', clf_gbst.best_score_)\n",
    "print('best parameters: ', clf_gbst.best_params_)"
   ]
  },
  {
   "cell_type": "markdown",
   "id": "96a1192c",
   "metadata": {
    "papermill": {
     "duration": 0.041886,
     "end_time": "2023-04-29T01:12:33.416534",
     "exception": false,
     "start_time": "2023-04-29T01:12:33.374648",
     "status": "completed"
    },
    "tags": []
   },
   "source": [
    "## KNN"
   ]
  },
  {
   "cell_type": "code",
   "execution_count": 65,
   "id": "7875d0d4",
   "metadata": {
    "execution": {
     "iopub.execute_input": "2023-04-29T01:12:33.503676Z",
     "iopub.status.busy": "2023-04-29T01:12:33.502466Z",
     "iopub.status.idle": "2023-04-29T01:12:34.333639Z",
     "shell.execute_reply": "2023-04-29T01:12:34.332028Z"
    },
    "papermill": {
     "duration": 0.878441,
     "end_time": "2023-04-29T01:12:34.336823",
     "exception": false,
     "start_time": "2023-04-29T01:12:33.458382",
     "status": "completed"
    },
    "tags": []
   },
   "outputs": [
    {
     "name": "stdout",
     "output_type": "stream",
     "text": [
      "best score:  0.8333632588935025\n",
      "best parameters:  {'n_neighbors': 7}\n"
     ]
    }
   ],
   "source": [
    "X_train_knn, X_val_knn, y_train_knn, y_val_knn = train_test_split(X_.drop('Sex',axis=1), y, random_state = 0) # Sex didn't worked well for KNN\n",
    "\n",
    "knn = KNeighborsClassifier()\n",
    "scaler = MinMaxScaler()\n",
    "X_train_knn = scaler.fit_transform(X_train_knn)\n",
    "X_val_knn = scaler.transform(X_val_knn)\n",
    "\n",
    "parameters = {'n_neighbors':[3,4,5,6,7,8,9,10,15,20]}\n",
    "\n",
    "clf_knn = GridSearchCV(knn, parameters)\n",
    "clf_knn.fit(X_train_knn, y_train_knn)\n",
    "\n",
    "print('best score: ', clf_knn.best_score_)\n",
    "print('best parameters: ', clf_knn.best_params_)"
   ]
  },
  {
   "cell_type": "code",
   "execution_count": 66,
   "id": "b8f63721",
   "metadata": {
    "execution": {
     "iopub.execute_input": "2023-04-29T01:12:34.485444Z",
     "iopub.status.busy": "2023-04-29T01:12:34.484125Z",
     "iopub.status.idle": "2023-04-29T01:12:34.549553Z",
     "shell.execute_reply": "2023-04-29T01:12:34.547630Z"
    },
    "papermill": {
     "duration": 0.112586,
     "end_time": "2023-04-29T01:12:34.552096",
     "exception": false,
     "start_time": "2023-04-29T01:12:34.439510",
     "status": "completed"
    },
    "tags": []
   },
   "outputs": [
    {
     "data": {
      "text/html": [
       "<div>\n",
       "<style scoped>\n",
       "    .dataframe tbody tr th:only-of-type {\n",
       "        vertical-align: middle;\n",
       "    }\n",
       "\n",
       "    .dataframe tbody tr th {\n",
       "        vertical-align: top;\n",
       "    }\n",
       "\n",
       "    .dataframe thead th {\n",
       "        text-align: right;\n",
       "    }\n",
       "</style>\n",
       "<table border=\"1\" class=\"dataframe\">\n",
       "  <thead>\n",
       "    <tr style=\"text-align: right;\">\n",
       "      <th></th>\n",
       "      <th>Pclass</th>\n",
       "      <th>Sex</th>\n",
       "      <th>Age</th>\n",
       "      <th>SibSp</th>\n",
       "      <th>Parch</th>\n",
       "      <th>Fare</th>\n",
       "      <th>HonorTitle_Capt</th>\n",
       "      <th>HonorTitle_Col</th>\n",
       "      <th>HonorTitle_Don</th>\n",
       "      <th>HonorTitle_Dr</th>\n",
       "      <th>...</th>\n",
       "      <th>Cabin_C</th>\n",
       "      <th>Cabin_D</th>\n",
       "      <th>Cabin_E</th>\n",
       "      <th>Cabin_F</th>\n",
       "      <th>Cabin_G</th>\n",
       "      <th>Cabin_nan</th>\n",
       "      <th>Family</th>\n",
       "      <th>Embarked_C</th>\n",
       "      <th>Embarked_Q</th>\n",
       "      <th>Embarked_S</th>\n",
       "    </tr>\n",
       "    <tr>\n",
       "      <th>PassengerId</th>\n",
       "      <th></th>\n",
       "      <th></th>\n",
       "      <th></th>\n",
       "      <th></th>\n",
       "      <th></th>\n",
       "      <th></th>\n",
       "      <th></th>\n",
       "      <th></th>\n",
       "      <th></th>\n",
       "      <th></th>\n",
       "      <th></th>\n",
       "      <th></th>\n",
       "      <th></th>\n",
       "      <th></th>\n",
       "      <th></th>\n",
       "      <th></th>\n",
       "      <th></th>\n",
       "      <th></th>\n",
       "      <th></th>\n",
       "      <th></th>\n",
       "      <th></th>\n",
       "    </tr>\n",
       "  </thead>\n",
       "  <tbody>\n",
       "    <tr>\n",
       "      <th>892</th>\n",
       "      <td>3</td>\n",
       "      <td>1</td>\n",
       "      <td>34.5</td>\n",
       "      <td>0</td>\n",
       "      <td>0</td>\n",
       "      <td>7.8292</td>\n",
       "      <td>0</td>\n",
       "      <td>0</td>\n",
       "      <td>0</td>\n",
       "      <td>0</td>\n",
       "      <td>...</td>\n",
       "      <td>0</td>\n",
       "      <td>0</td>\n",
       "      <td>0</td>\n",
       "      <td>0</td>\n",
       "      <td>0</td>\n",
       "      <td>1</td>\n",
       "      <td>0</td>\n",
       "      <td>0</td>\n",
       "      <td>1</td>\n",
       "      <td>0</td>\n",
       "    </tr>\n",
       "    <tr>\n",
       "      <th>893</th>\n",
       "      <td>3</td>\n",
       "      <td>0</td>\n",
       "      <td>47.0</td>\n",
       "      <td>1</td>\n",
       "      <td>0</td>\n",
       "      <td>7.0000</td>\n",
       "      <td>0</td>\n",
       "      <td>0</td>\n",
       "      <td>0</td>\n",
       "      <td>0</td>\n",
       "      <td>...</td>\n",
       "      <td>0</td>\n",
       "      <td>0</td>\n",
       "      <td>0</td>\n",
       "      <td>0</td>\n",
       "      <td>0</td>\n",
       "      <td>1</td>\n",
       "      <td>1</td>\n",
       "      <td>0</td>\n",
       "      <td>0</td>\n",
       "      <td>1</td>\n",
       "    </tr>\n",
       "    <tr>\n",
       "      <th>894</th>\n",
       "      <td>2</td>\n",
       "      <td>1</td>\n",
       "      <td>62.0</td>\n",
       "      <td>0</td>\n",
       "      <td>0</td>\n",
       "      <td>9.6875</td>\n",
       "      <td>0</td>\n",
       "      <td>0</td>\n",
       "      <td>0</td>\n",
       "      <td>0</td>\n",
       "      <td>...</td>\n",
       "      <td>0</td>\n",
       "      <td>0</td>\n",
       "      <td>0</td>\n",
       "      <td>0</td>\n",
       "      <td>0</td>\n",
       "      <td>1</td>\n",
       "      <td>0</td>\n",
       "      <td>0</td>\n",
       "      <td>1</td>\n",
       "      <td>0</td>\n",
       "    </tr>\n",
       "    <tr>\n",
       "      <th>895</th>\n",
       "      <td>3</td>\n",
       "      <td>1</td>\n",
       "      <td>27.0</td>\n",
       "      <td>0</td>\n",
       "      <td>0</td>\n",
       "      <td>8.6625</td>\n",
       "      <td>0</td>\n",
       "      <td>0</td>\n",
       "      <td>0</td>\n",
       "      <td>0</td>\n",
       "      <td>...</td>\n",
       "      <td>0</td>\n",
       "      <td>0</td>\n",
       "      <td>0</td>\n",
       "      <td>0</td>\n",
       "      <td>0</td>\n",
       "      <td>1</td>\n",
       "      <td>0</td>\n",
       "      <td>0</td>\n",
       "      <td>0</td>\n",
       "      <td>1</td>\n",
       "    </tr>\n",
       "    <tr>\n",
       "      <th>896</th>\n",
       "      <td>3</td>\n",
       "      <td>0</td>\n",
       "      <td>22.0</td>\n",
       "      <td>1</td>\n",
       "      <td>1</td>\n",
       "      <td>12.2875</td>\n",
       "      <td>0</td>\n",
       "      <td>0</td>\n",
       "      <td>0</td>\n",
       "      <td>0</td>\n",
       "      <td>...</td>\n",
       "      <td>0</td>\n",
       "      <td>0</td>\n",
       "      <td>0</td>\n",
       "      <td>0</td>\n",
       "      <td>0</td>\n",
       "      <td>1</td>\n",
       "      <td>2</td>\n",
       "      <td>0</td>\n",
       "      <td>0</td>\n",
       "      <td>1</td>\n",
       "    </tr>\n",
       "    <tr>\n",
       "      <th>...</th>\n",
       "      <td>...</td>\n",
       "      <td>...</td>\n",
       "      <td>...</td>\n",
       "      <td>...</td>\n",
       "      <td>...</td>\n",
       "      <td>...</td>\n",
       "      <td>...</td>\n",
       "      <td>...</td>\n",
       "      <td>...</td>\n",
       "      <td>...</td>\n",
       "      <td>...</td>\n",
       "      <td>...</td>\n",
       "      <td>...</td>\n",
       "      <td>...</td>\n",
       "      <td>...</td>\n",
       "      <td>...</td>\n",
       "      <td>...</td>\n",
       "      <td>...</td>\n",
       "      <td>...</td>\n",
       "      <td>...</td>\n",
       "      <td>...</td>\n",
       "    </tr>\n",
       "    <tr>\n",
       "      <th>1305</th>\n",
       "      <td>3</td>\n",
       "      <td>1</td>\n",
       "      <td>28.0</td>\n",
       "      <td>0</td>\n",
       "      <td>0</td>\n",
       "      <td>8.0500</td>\n",
       "      <td>0</td>\n",
       "      <td>0</td>\n",
       "      <td>0</td>\n",
       "      <td>0</td>\n",
       "      <td>...</td>\n",
       "      <td>0</td>\n",
       "      <td>0</td>\n",
       "      <td>0</td>\n",
       "      <td>0</td>\n",
       "      <td>0</td>\n",
       "      <td>1</td>\n",
       "      <td>0</td>\n",
       "      <td>0</td>\n",
       "      <td>0</td>\n",
       "      <td>1</td>\n",
       "    </tr>\n",
       "    <tr>\n",
       "      <th>1306</th>\n",
       "      <td>1</td>\n",
       "      <td>0</td>\n",
       "      <td>39.0</td>\n",
       "      <td>0</td>\n",
       "      <td>0</td>\n",
       "      <td>108.9000</td>\n",
       "      <td>0</td>\n",
       "      <td>0</td>\n",
       "      <td>0</td>\n",
       "      <td>0</td>\n",
       "      <td>...</td>\n",
       "      <td>1</td>\n",
       "      <td>0</td>\n",
       "      <td>0</td>\n",
       "      <td>0</td>\n",
       "      <td>0</td>\n",
       "      <td>0</td>\n",
       "      <td>0</td>\n",
       "      <td>1</td>\n",
       "      <td>0</td>\n",
       "      <td>0</td>\n",
       "    </tr>\n",
       "    <tr>\n",
       "      <th>1307</th>\n",
       "      <td>3</td>\n",
       "      <td>1</td>\n",
       "      <td>38.5</td>\n",
       "      <td>0</td>\n",
       "      <td>0</td>\n",
       "      <td>7.2500</td>\n",
       "      <td>0</td>\n",
       "      <td>0</td>\n",
       "      <td>0</td>\n",
       "      <td>0</td>\n",
       "      <td>...</td>\n",
       "      <td>0</td>\n",
       "      <td>0</td>\n",
       "      <td>0</td>\n",
       "      <td>0</td>\n",
       "      <td>0</td>\n",
       "      <td>1</td>\n",
       "      <td>0</td>\n",
       "      <td>0</td>\n",
       "      <td>0</td>\n",
       "      <td>1</td>\n",
       "    </tr>\n",
       "    <tr>\n",
       "      <th>1308</th>\n",
       "      <td>3</td>\n",
       "      <td>1</td>\n",
       "      <td>28.0</td>\n",
       "      <td>0</td>\n",
       "      <td>0</td>\n",
       "      <td>8.0500</td>\n",
       "      <td>0</td>\n",
       "      <td>0</td>\n",
       "      <td>0</td>\n",
       "      <td>0</td>\n",
       "      <td>...</td>\n",
       "      <td>0</td>\n",
       "      <td>0</td>\n",
       "      <td>0</td>\n",
       "      <td>0</td>\n",
       "      <td>0</td>\n",
       "      <td>1</td>\n",
       "      <td>0</td>\n",
       "      <td>0</td>\n",
       "      <td>0</td>\n",
       "      <td>1</td>\n",
       "    </tr>\n",
       "    <tr>\n",
       "      <th>1309</th>\n",
       "      <td>3</td>\n",
       "      <td>1</td>\n",
       "      <td>28.0</td>\n",
       "      <td>1</td>\n",
       "      <td>1</td>\n",
       "      <td>22.3583</td>\n",
       "      <td>0</td>\n",
       "      <td>0</td>\n",
       "      <td>0</td>\n",
       "      <td>0</td>\n",
       "      <td>...</td>\n",
       "      <td>0</td>\n",
       "      <td>0</td>\n",
       "      <td>0</td>\n",
       "      <td>0</td>\n",
       "      <td>0</td>\n",
       "      <td>1</td>\n",
       "      <td>2</td>\n",
       "      <td>1</td>\n",
       "      <td>0</td>\n",
       "      <td>0</td>\n",
       "    </tr>\n",
       "  </tbody>\n",
       "</table>\n",
       "<p>418 rows × 36 columns</p>\n",
       "</div>"
      ],
      "text/plain": [
       "             Pclass  Sex   Age  SibSp  Parch      Fare  HonorTitle_Capt  \\\n",
       "PassengerId                                                               \n",
       "892               3    1  34.5      0      0    7.8292                0   \n",
       "893               3    0  47.0      1      0    7.0000                0   \n",
       "894               2    1  62.0      0      0    9.6875                0   \n",
       "895               3    1  27.0      0      0    8.6625                0   \n",
       "896               3    0  22.0      1      1   12.2875                0   \n",
       "...             ...  ...   ...    ...    ...       ...              ...   \n",
       "1305              3    1  28.0      0      0    8.0500                0   \n",
       "1306              1    0  39.0      0      0  108.9000                0   \n",
       "1307              3    1  38.5      0      0    7.2500                0   \n",
       "1308              3    1  28.0      0      0    8.0500                0   \n",
       "1309              3    1  28.0      1      1   22.3583                0   \n",
       "\n",
       "             HonorTitle_Col  HonorTitle_Don  HonorTitle_Dr  ...  Cabin_C  \\\n",
       "PassengerId                                                 ...            \n",
       "892                       0               0              0  ...        0   \n",
       "893                       0               0              0  ...        0   \n",
       "894                       0               0              0  ...        0   \n",
       "895                       0               0              0  ...        0   \n",
       "896                       0               0              0  ...        0   \n",
       "...                     ...             ...            ...  ...      ...   \n",
       "1305                      0               0              0  ...        0   \n",
       "1306                      0               0              0  ...        1   \n",
       "1307                      0               0              0  ...        0   \n",
       "1308                      0               0              0  ...        0   \n",
       "1309                      0               0              0  ...        0   \n",
       "\n",
       "             Cabin_D  Cabin_E  Cabin_F  Cabin_G  Cabin_nan  Family  \\\n",
       "PassengerId                                                          \n",
       "892                0        0        0        0          1       0   \n",
       "893                0        0        0        0          1       1   \n",
       "894                0        0        0        0          1       0   \n",
       "895                0        0        0        0          1       0   \n",
       "896                0        0        0        0          1       2   \n",
       "...              ...      ...      ...      ...        ...     ...   \n",
       "1305               0        0        0        0          1       0   \n",
       "1306               0        0        0        0          0       0   \n",
       "1307               0        0        0        0          1       0   \n",
       "1308               0        0        0        0          1       0   \n",
       "1309               0        0        0        0          1       2   \n",
       "\n",
       "             Embarked_C  Embarked_Q  Embarked_S  \n",
       "PassengerId                                      \n",
       "892                   0           1           0  \n",
       "893                   0           0           1  \n",
       "894                   0           1           0  \n",
       "895                   0           0           1  \n",
       "896                   0           0           1  \n",
       "...                 ...         ...         ...  \n",
       "1305                  0           0           1  \n",
       "1306                  1           0           0  \n",
       "1307                  0           0           1  \n",
       "1308                  0           0           1  \n",
       "1309                  1           0           0  \n",
       "\n",
       "[418 rows x 36 columns]"
      ]
     },
     "metadata": {},
     "output_type": "display_data"
    },
    {
     "name": "stdout",
     "output_type": "stream",
     "text": [
      "X_train's shape:  (889, 36)\n",
      "y_train's shape:  (889,)\n",
      "X_test's shape:  (418, 36)\n",
      "<class 'pandas.core.frame.DataFrame'>\n",
      "Int64Index: 418 entries, 892 to 1309\n",
      "Data columns (total 36 columns):\n",
      " #   Column                   Non-Null Count  Dtype  \n",
      "---  ------                   --------------  -----  \n",
      " 0   Pclass                   418 non-null    int64  \n",
      " 1   Sex                      418 non-null    int64  \n",
      " 2   Age                      418 non-null    float64\n",
      " 3   SibSp                    418 non-null    int64  \n",
      " 4   Parch                    418 non-null    int64  \n",
      " 5   Fare                     417 non-null    float64\n",
      " 6   HonorTitle_Capt          418 non-null    int64  \n",
      " 7   HonorTitle_Col           418 non-null    int64  \n",
      " 8   HonorTitle_Don           418 non-null    int64  \n",
      " 9   HonorTitle_Dr            418 non-null    int64  \n",
      " 10  HonorTitle_Jonkheer      418 non-null    int64  \n",
      " 11  HonorTitle_Lady          418 non-null    int64  \n",
      " 12  HonorTitle_Major         418 non-null    int64  \n",
      " 13  HonorTitle_Master        418 non-null    int64  \n",
      " 14  HonorTitle_Miss          418 non-null    int64  \n",
      " 15  HonorTitle_Mlle          418 non-null    int64  \n",
      " 16  HonorTitle_Mme           418 non-null    int64  \n",
      " 17  HonorTitle_Mr            418 non-null    int64  \n",
      " 18  HonorTitle_Mrs           418 non-null    int64  \n",
      " 19  HonorTitle_Ms            418 non-null    int64  \n",
      " 20  HonorTitle_Rev           418 non-null    int64  \n",
      " 21  HonorTitle_Sir           418 non-null    int64  \n",
      " 22  HonorTitle_the Countess  418 non-null    int64  \n",
      " 23  ShareTicket              418 non-null    int64  \n",
      " 24  Cabin_A                  418 non-null    uint8  \n",
      " 25  Cabin_B                  418 non-null    uint8  \n",
      " 26  Cabin_C                  418 non-null    uint8  \n",
      " 27  Cabin_D                  418 non-null    uint8  \n",
      " 28  Cabin_E                  418 non-null    uint8  \n",
      " 29  Cabin_F                  418 non-null    uint8  \n",
      " 30  Cabin_G                  418 non-null    uint8  \n",
      " 31  Cabin_nan                418 non-null    uint8  \n",
      " 32  Family                   418 non-null    int64  \n",
      " 33  Embarked_C               418 non-null    uint8  \n",
      " 34  Embarked_Q               418 non-null    uint8  \n",
      " 35  Embarked_S               418 non-null    uint8  \n",
      "dtypes: float64(2), int64(23), uint8(11)\n",
      "memory usage: 89.4 KB\n",
      "None\n"
     ]
    }
   ],
   "source": [
    "# Repeat steps for data processing in test database\n",
    "# Keep Passenger Id, as it's necessary for submission\n",
    "\n",
    "test_data_ = test_data.copy()\n",
    "\n",
    "test_data_ = test_data_.drop('Ticket', axis=1)\n",
    "\n",
    "test_data_['HonorTitle'] = test_data_['Name'].map(lambda name: name.split(',')[1].split('.')[0].strip())\n",
    "test_data_ = test_data_.drop('Name', axis=1)\n",
    "endoded_y_honorif = honor_enc.transform(test_data_[['HonorTitle']].to_numpy()).toarray()\n",
    "test_data_ = test_data_.drop('HonorTitle', axis=1)\n",
    "test_data_ = pd.concat([test_data_, pd.DataFrame(endoded_y_honorif, columns=enc_feature_names).astype(int)], axis=1)\n",
    "\n",
    "test_data_['ShareTicket'] = full_data['ShareTicket'].iloc[891:]\n",
    "test_data_['Cabin'] = test_data_['Cabin'].str[0]\n",
    "test_data_ = pd.get_dummies(test_data_, prefix='Cabin', dummy_na=True, columns=['Cabin'])\n",
    "test_data_['Family'] = test_data_['SibSp'] + test_data_['Parch']\n",
    "test_data_['Age'] = test_data_['Age'].fillna(age_median)\n",
    "# test_data_['Embarked'] = test_data_['Embarked'].replace({'S':0, 'C':1, 'Q':2})\n",
    "test_data_['Sex'] = sex_encoder.fit_transform(test_data_['Sex'])\n",
    "# test_data_['Embarked'] = test_data_['Embarked'].replace({0:'S', 1:'C', 2:'Q'})\n",
    "test_data_ = pd.get_dummies(test_data_, prefix='Embarked', columns=['Embarked'])\n",
    "\n",
    "test_data_ = test_data_.set_index('PassengerId')\n",
    "\n",
    "display(test_data_)\n",
    "print(\"X_train's shape: \", X.shape)\n",
    "print(\"y_train's shape: \", y.shape)\n",
    "print(\"X_test's shape: \", test_data_.shape)\n",
    "print(test_data_.info())"
   ]
  },
  {
   "cell_type": "markdown",
   "id": "5faab1b8",
   "metadata": {
    "papermill": {
     "duration": 0.043387,
     "end_time": "2023-04-29T01:12:34.638329",
     "exception": false,
     "start_time": "2023-04-29T01:12:34.594942",
     "status": "completed"
    },
    "tags": []
   },
   "source": [
    "We need to input missing test data about `Fare`. Because for this Kaggle competition we have a given database, there's no need to create a general inputing function but we can input by hand.\n",
    "\n",
    "Also, we can use the whole dataset for inputing. As [already discussed](#discussion_leakeage) for the feature `Age`, while this would introduce data leakeage in a realistic scenario –that we could use to our advantage in the competition), is a valid practice in this case where we work with a population, not a sample."
   ]
  },
  {
   "cell_type": "code",
   "execution_count": 67,
   "id": "10328dd3",
   "metadata": {
    "execution": {
     "iopub.execute_input": "2023-04-29T01:12:34.728477Z",
     "iopub.status.busy": "2023-04-29T01:12:34.727735Z",
     "iopub.status.idle": "2023-04-29T01:12:34.748977Z",
     "shell.execute_reply": "2023-04-29T01:12:34.748108Z"
    },
    "papermill": {
     "duration": 0.069179,
     "end_time": "2023-04-29T01:12:34.751252",
     "exception": false,
     "start_time": "2023-04-29T01:12:34.682073",
     "status": "completed"
    },
    "tags": []
   },
   "outputs": [
    {
     "data": {
      "text/html": [
       "<div>\n",
       "<style scoped>\n",
       "    .dataframe tbody tr th:only-of-type {\n",
       "        vertical-align: middle;\n",
       "    }\n",
       "\n",
       "    .dataframe tbody tr th {\n",
       "        vertical-align: top;\n",
       "    }\n",
       "\n",
       "    .dataframe thead th {\n",
       "        text-align: right;\n",
       "    }\n",
       "</style>\n",
       "<table border=\"1\" class=\"dataframe\">\n",
       "  <thead>\n",
       "    <tr style=\"text-align: right;\">\n",
       "      <th></th>\n",
       "      <th>Pclass</th>\n",
       "      <th>Sex</th>\n",
       "      <th>Age</th>\n",
       "      <th>SibSp</th>\n",
       "      <th>Parch</th>\n",
       "      <th>Fare</th>\n",
       "      <th>HonorTitle_Capt</th>\n",
       "      <th>HonorTitle_Col</th>\n",
       "      <th>HonorTitle_Don</th>\n",
       "      <th>HonorTitle_Dr</th>\n",
       "      <th>...</th>\n",
       "      <th>Cabin_C</th>\n",
       "      <th>Cabin_D</th>\n",
       "      <th>Cabin_E</th>\n",
       "      <th>Cabin_F</th>\n",
       "      <th>Cabin_G</th>\n",
       "      <th>Cabin_nan</th>\n",
       "      <th>Family</th>\n",
       "      <th>Embarked_C</th>\n",
       "      <th>Embarked_Q</th>\n",
       "      <th>Embarked_S</th>\n",
       "    </tr>\n",
       "    <tr>\n",
       "      <th>PassengerId</th>\n",
       "      <th></th>\n",
       "      <th></th>\n",
       "      <th></th>\n",
       "      <th></th>\n",
       "      <th></th>\n",
       "      <th></th>\n",
       "      <th></th>\n",
       "      <th></th>\n",
       "      <th></th>\n",
       "      <th></th>\n",
       "      <th></th>\n",
       "      <th></th>\n",
       "      <th></th>\n",
       "      <th></th>\n",
       "      <th></th>\n",
       "      <th></th>\n",
       "      <th></th>\n",
       "      <th></th>\n",
       "      <th></th>\n",
       "      <th></th>\n",
       "      <th></th>\n",
       "    </tr>\n",
       "  </thead>\n",
       "  <tbody>\n",
       "    <tr>\n",
       "      <th>1044</th>\n",
       "      <td>3</td>\n",
       "      <td>1</td>\n",
       "      <td>60.5</td>\n",
       "      <td>0</td>\n",
       "      <td>0</td>\n",
       "      <td>NaN</td>\n",
       "      <td>0</td>\n",
       "      <td>0</td>\n",
       "      <td>0</td>\n",
       "      <td>0</td>\n",
       "      <td>...</td>\n",
       "      <td>0</td>\n",
       "      <td>0</td>\n",
       "      <td>0</td>\n",
       "      <td>0</td>\n",
       "      <td>0</td>\n",
       "      <td>1</td>\n",
       "      <td>0</td>\n",
       "      <td>0</td>\n",
       "      <td>0</td>\n",
       "      <td>1</td>\n",
       "    </tr>\n",
       "  </tbody>\n",
       "</table>\n",
       "<p>1 rows × 36 columns</p>\n",
       "</div>"
      ],
      "text/plain": [
       "             Pclass  Sex   Age  SibSp  Parch  Fare  HonorTitle_Capt  \\\n",
       "PassengerId                                                           \n",
       "1044              3    1  60.5      0      0   NaN                0   \n",
       "\n",
       "             HonorTitle_Col  HonorTitle_Don  HonorTitle_Dr  ...  Cabin_C  \\\n",
       "PassengerId                                                 ...            \n",
       "1044                      0               0              0  ...        0   \n",
       "\n",
       "             Cabin_D  Cabin_E  Cabin_F  Cabin_G  Cabin_nan  Family  \\\n",
       "PassengerId                                                          \n",
       "1044               0        0        0        0          1       0   \n",
       "\n",
       "             Embarked_C  Embarked_Q  Embarked_S  \n",
       "PassengerId                                      \n",
       "1044                  0           0           1  \n",
       "\n",
       "[1 rows x 36 columns]"
      ]
     },
     "metadata": {},
     "output_type": "display_data"
    }
   ],
   "source": [
    "display(test_data_[test_data_['Fare'].isna()])"
   ]
  },
  {
   "cell_type": "code",
   "execution_count": 68,
   "id": "17bb1148",
   "metadata": {
    "execution": {
     "iopub.execute_input": "2023-04-29T01:12:34.840253Z",
     "iopub.status.busy": "2023-04-29T01:12:34.839400Z",
     "iopub.status.idle": "2023-04-29T01:12:35.070344Z",
     "shell.execute_reply": "2023-04-29T01:12:35.069003Z"
    },
    "papermill": {
     "duration": 0.277781,
     "end_time": "2023-04-29T01:12:35.072926",
     "exception": false,
     "start_time": "2023-04-29T01:12:34.795145",
     "status": "completed"
    },
    "tags": []
   },
   "outputs": [
    {
     "data": {
      "image/png": "[encoded data removed]",
      "text/plain": [
       "<Figure size 432x288 with 1 Axes>"
      ]
     },
     "metadata": {
      "needs_background": "light"
     },
     "output_type": "display_data"
    },
    {
     "name": "stdout",
     "output_type": "stream",
     "text": [
      "3rd class mean =  13.302888700564973\n",
      "3rd class median =  8.05\n",
      "3rd class mode =  8.05\n"
     ]
    }
   ],
   "source": [
    "plt.hist([full_data['Fare'][full_data['Pclass']==3]],\n",
    "          bins=15, alpha=0.5, label = ['1st class', '2nd class', '3rd class'])\n",
    "plt.title('Fare')\n",
    "plt.legend(loc='upper right')\n",
    "plt.show()\n",
    "\n",
    "mean_3rd_class = full_data[full_data['Pclass']==3]['Fare'].mean()\n",
    "median_3rd_class = full_data[full_data['Pclass']==3]['Fare'].median()\n",
    "mode_3rd_class = full_data[full_data['Pclass']==3]['Fare'].mode()[0]\n",
    "\n",
    "print('3rd class mean = ', mean_3rd_class)\n",
    "print('3rd class median = ', median_3rd_class)\n",
    "print('3rd class mode = ', mode_3rd_class)"
   ]
  },
  {
   "cell_type": "code",
   "execution_count": 69,
   "id": "52c5347d",
   "metadata": {
    "execution": {
     "iopub.execute_input": "2023-04-29T01:12:35.162661Z",
     "iopub.status.busy": "2023-04-29T01:12:35.162231Z",
     "iopub.status.idle": "2023-04-29T01:12:35.168115Z",
     "shell.execute_reply": "2023-04-29T01:12:35.167009Z"
    },
    "papermill": {
     "duration": 0.05359,
     "end_time": "2023-04-29T01:12:35.170409",
     "exception": false,
     "start_time": "2023-04-29T01:12:35.116819",
     "status": "completed"
    },
    "tags": []
   },
   "outputs": [],
   "source": [
    "test_data_.loc[1044, 'Fare'] = mode_3rd_class"
   ]
  },
  {
   "cell_type": "code",
   "execution_count": 70,
   "id": "41559743",
   "metadata": {
    "execution": {
     "iopub.execute_input": "2023-04-29T01:12:35.261556Z",
     "iopub.status.busy": "2023-04-29T01:12:35.260883Z",
     "iopub.status.idle": "2023-04-29T01:12:35.375206Z",
     "shell.execute_reply": "2023-04-29T01:12:35.373606Z"
    },
    "papermill": {
     "duration": 0.164641,
     "end_time": "2023-04-29T01:12:35.379811",
     "exception": false,
     "start_time": "2023-04-29T01:12:35.215170",
     "status": "completed"
    },
    "tags": []
   },
   "outputs": [],
   "source": [
    "# Create files for submission\n",
    "\n",
    "forest_predictions = pd.DataFrame(clf_forest.predict(test_data_), index=test_data_.index, columns=['Survived'])\n",
    "forest_predictions.to_csv('RandomForest.csv')\n",
    "\n",
    "xgb_predictions = pd.DataFrame(clf_gbst.predict(test_data_), index=test_data_.index, columns=['Survived'])\n",
    "xgb_predictions.to_csv('XGB.csv')\n",
    "\n",
    "knn_predictions = pd.DataFrame(clf_knn.predict(scaler.transform(test_data_.drop('Sex', axis=1))), index=test_data_.index, columns=['Survived'])\n",
    "knn_predictions.to_csv('KNN.csv')"
   ]
  }
 ],
 "metadata": {
  "kernelspec": {
   "display_name": "Python 3",
   "language": "python",
   "name": "python3"
  },
  "language_info": {
   "codemirror_mode": {
    "name": "ipython",
    "version": 3
   },
   "file_extension": ".py",
   "mimetype": "text/x-python",
   "name": "python",
   "nbconvert_exporter": "python",
   "pygments_lexer": "ipython3",
   "version": "3.7.12"
  },
  "papermill": {
   "default_parameters": {},
   "duration": 381.224743,
   "end_time": "2023-04-29T01:12:36.293406",
   "environment_variables": {},
   "exception": null,
   "input_path": "__notebook__.ipynb",
   "output_path": "__notebook__.ipynb",
   "parameters": {},
   "start_time": "2023-04-29T01:06:15.068663",
   "version": "2.3.4"
  }
 },
 "nbformat": 4,
 "nbformat_minor": 5
}
